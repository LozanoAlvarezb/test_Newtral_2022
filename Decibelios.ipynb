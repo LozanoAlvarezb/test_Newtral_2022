{
  "cells": [
    {
      "cell_type": "markdown",
      "metadata": {
        "id": "NCy4xk1d6JEQ"
      },
      "source": [
        "# Prueba ténica Newtral\n",
        "\n",
        "---\n",
        "\n",
        "\n",
        "Borja Lozano Álvarez\n",
        "\n",
        "lozanoalvarez.b@gmail.com\n",
        "\n",
        "--- \n"
      ]
    },
    {
      "cell_type": "markdown",
      "source": [
        "## Objetivos"
      ],
      "metadata": {
        "id": "bNjHfWPaoLCT"
      }
    },
    {
      "cell_type": "markdown",
      "metadata": {
        "id": "z5I3TzjE7DXI"
      },
      "source": [
        "* Descarga los datasets en formato CSV de los siguientes enlaces https://ml-coding-test.s3.eu-west-1.amazonaws.com/decibelios_train_data.csv y https://ml-coding-test.s3.eu-west-1.amazonaws.com/decibelios_test_data.csv . Cada fila corresponde a un tweet, su etiqueta y su id.\n",
        "\n",
        "* Crea un notebook con la solución a las tareas indicadas debajo. Te recomendamos utilizar Google Colab para disponer de recursos de cómputo gratuitos.\n",
        "\n",
        "* Incluye un análisis descriptivo de los datos. No es necesario que sea muy exhaustivo, céntrate en los aspectos más importantes para el funcionamiento del modelo.\n",
        "\n",
        "* Crea un modelo de detección de tweets tóxicos utilizando la técnica de fine-tuning de un modelo pre-entrenado de tipo BERT (son válidos cualquier checkpoint de BERT o modificaciones como RoBERTa, XLM, etc). Puedes utilizar librerías y checkpoints como Huggingface Transformers, o cualquier otro a tu elección. \n",
        "\n",
        "* El uso de transformers es un requisito mínimo pero puedes realizar pruebas adicionales con cualquier otra arquitectura que consideres que puede funcionar en este caso concreto. Se valorará el trabajo realizado de exploración de soluciones alternativas o propuestas de extensión sobre los propios Transformers.\n",
        "\n",
        "* Elige cómo plantear el problema. Consideraremos válida tanto A) una solución ternaria (un clasificador que devuelva “0,1,2” o B) una solución binaria (un clasificador que separe entre tweets que son 0 y tweets que son 2). En el escenario binario, si un tweet anotado como 1 es clasificado por el modelo como un 2 debería ser considerado un acierto ‘débil’. El que un 0 sea clasificado como un 2 sí sería considerado, obviamente, un error.\n",
        "\n",
        "* Puede ampliarse, modificarse o utilizarse cualquier dataset de train que se desee. El dataset de test, sin embargo, siempre debe ser el que hemos proporcionado. No se despreciará ningún registro del dataset de test.\n",
        "\n",
        "* Puede utilizarse algún tipo de preprocesado previo del texto de considerarse necesario. En caso de utilizarse, explicar el por qué de la elección.\n",
        "\n",
        "* Evalúa tu solución utilizando el test. Elige las métricas que consideres más adecuadas para el problema y añade un párrafo interpretando tus resultados.\n",
        "\n",
        "* Realiza un pequeño análisis de errores sobre el conjunto de test. El objetivo de este análisis debería ser identificar si el modelo presenta algún sesgo o el tipo de situaciones en el que suele fallar.\n",
        "\n",
        "* Utiliza Python>=3.7 y las librerías que desees de computación científica y machine learning del ecosistema Python.\n",
        "\n",
        "* Comparte tu notebook a través de un repositorio de GitHub público y envíanos el enlace."
      ]
    },
    {
      "cell_type": "code",
      "execution_count": 1,
      "metadata": {
        "colab": {
          "base_uri": "https://localhost:8080/"
        },
        "id": "COQWm3LVyd93",
        "outputId": "1fb4ec72-16ff-4166-a5ff-f20312116a96"
      },
      "outputs": [
        {
          "output_type": "stream",
          "name": "stdout",
          "text": [
            "Python 3.7.15\n"
          ]
        }
      ],
      "source": [
        "!python --version"
      ]
    },
    {
      "cell_type": "markdown",
      "metadata": {
        "id": "aIMr0WE97Hit"
      },
      "source": [
        "# Setup"
      ]
    },
    {
      "cell_type": "code",
      "execution_count": null,
      "metadata": {
        "collapsed": true,
        "id": "jiK5UsDEZWsm",
        "colab": {
          "base_uri": "https://localhost:8080/"
        },
        "outputId": "1b067bf0-9b2d-4579-a1ff-b12d5f94edc8"
      },
      "outputs": [
        {
          "output_type": "stream",
          "name": "stdout",
          "text": [
            "--2022-10-25 10:34:18--  https://ml-coding-test.s3.eu-west-1.amazonaws.com/decibelios_train_data.csv\n",
            "Resolving ml-coding-test.s3.eu-west-1.amazonaws.com (ml-coding-test.s3.eu-west-1.amazonaws.com)... 52.218.93.136, 52.218.0.200, 52.218.62.144, ...\n",
            "Connecting to ml-coding-test.s3.eu-west-1.amazonaws.com (ml-coding-test.s3.eu-west-1.amazonaws.com)|52.218.93.136|:443... connected.\n",
            "HTTP request sent, awaiting response... 200 OK\n",
            "Length: 2738941 (2.6M) [text/csv]\n",
            "Saving to: ‘decibelios_train_data.csv’\n",
            "\n",
            "decibelios_train_da 100%[===================>]   2.61M  4.38MB/s    in 0.6s    \n",
            "\n",
            "2022-10-25 10:34:19 (4.38 MB/s) - ‘decibelios_train_data.csv’ saved [2738941/2738941]\n",
            "\n",
            "--2022-10-25 10:34:19--  https://ml-coding-test.s3.eu-west-1.amazonaws.com/decibelios_test_data.csv\n",
            "Reusing existing connection to ml-coding-test.s3.eu-west-1.amazonaws.com:443.\n",
            "HTTP request sent, awaiting response... 200 OK\n",
            "Length: 2563781 (2.4M) [text/csv]\n",
            "Saving to: ‘decibelios_test_data.csv’\n",
            "\n",
            "decibelios_test_dat 100%[===================>]   2.44M  --.-KB/s    in 0.09s   \n",
            "\n",
            "2022-10-25 10:34:20 (28.4 MB/s) - ‘decibelios_test_data.csv’ saved [2563781/2563781]\n",
            "\n",
            "FINISHED --2022-10-25 10:34:20--\n",
            "Total wall clock time: 1.3s\n",
            "Downloaded: 2 files, 5.1M in 0.7s (7.42 MB/s)\n"
          ]
        }
      ],
      "source": [
        "#@markdown Instalar librerias. Tras ejecutar esta celda el _runtime_ se reiniciará para aplicar los cambios.\n",
        "\n",
        "!pip install scikit-learn install transformers datasets wandb gradio gdown torch gdown > /dev/null\n",
        "!pip install -U matplotlib > /dev/null\n",
        "!wget -nc https://ml-coding-test.s3.eu-west-1.amazonaws.com/decibelios_train_data.csv  https://ml-coding-test.s3.eu-west-1.amazonaws.com/decibelios_test_data.csv > /dev/null\n",
        "!gdown https://drive.google.com/uc?id=1iZs6v5sWm91Yb3X7ixw9rOkFKcnY7l3E \n",
        "import os\n",
        "os.kill(os.getpid(), 9)"
      ]
    },
    {
      "cell_type": "code",
      "execution_count": 3,
      "metadata": {
        "id": "Wyyj4GQqar92"
      },
      "outputs": [],
      "source": [
        "import random\n",
        "import re\n",
        "import itertools\n",
        "\n",
        "import datasets\n",
        "import torch\n",
        "import wandb\n",
        "import pandas as pd\n",
        "import numpy as np\n",
        "import seaborn as sns\n",
        "import matplotlib.pyplot as plt\n",
        "import requests as r\n",
        "from IPython.display import display, HTML\n",
        "from sklearn.metrics import classification_report\n",
        "from sklearn.model_selection import train_test_split\n",
        "from tqdm.notebook import tqdm\n",
        "from transformers import (\n",
        "  AutoTokenizer,\n",
        "  AutoModelForSequenceClassification,\n",
        "  TrainingArguments,\n",
        "  Trainer\n",
        ")\n",
        "\n",
        "tqdm.pandas()"
      ]
    },
    {
      "cell_type": "code",
      "execution_count": 4,
      "metadata": {
        "id": "layYFwHx1kdw",
        "colab": {
          "base_uri": "https://localhost:8080/"
        },
        "cellView": "form",
        "outputId": "dcbade51-4cbf-4059-9137-be1c360c04bd"
      },
      "outputs": [
        {
          "output_type": "stream",
          "name": "stdout",
          "text": [
            "env: WANDB_PROJECT=newtral_toxic_tweets\n"
          ]
        }
      ],
      "source": [
        "#@markdown Principales parametros\n",
        "model_checkpoint=\"cardiffnlp/twitter-xlm-roberta-base\" #@param \n",
        "\n",
        "batch_size = 32  #@param [8,16,32]\n",
        "lr = 2e-5  #@param {type:\"number\"}\n",
        "#@markdown Usar los valores <1 para desarrollar y debugear\n",
        "epochs = 3#@param{type:\"slider\", min:0.1, max:5, step:0.1}\n",
        "\n",
        "# Make plots bigger\n",
        "plt.rcParams['figure.figsize'] = [12, 8]\n",
        "plt.rcParams['figure.dpi'] = 100 #@param{type:\"slider\", min:50, max:110, step:10}\n",
        "\n",
        "device = 0 if torch.cuda.is_available() else -1\n",
        "\n",
        "#@markdown Si tienes cuenta en wandb puedes usarla para registrar las estadísticas y guardar los modelos\n",
        "use_wandb = True #@param {type:\"boolean\"}\n",
        "project_name=\"newtral_toxic_tweets\" #@param \n",
        "%env WANDB_PROJECT=$project_name\n",
        "report_to = \"wandb\" if use_wandb else \"none\""
      ]
    },
    {
      "cell_type": "code",
      "source": [
        "args = {\n",
        "  \"evaluation_strategy\":\"epoch\",\n",
        "  \"save_strategy\":\"epoch\",\n",
        "  \"learning_rate\":lr,\n",
        "  \"per_device_train_batch_size\":batch_size,\n",
        "  \"per_device_eval_batch_size\":64,\n",
        "  \"num_train_epochs\":epochs,\n",
        "  \"weight_decay\":1,\n",
        "  \"load_best_model_at_end\":True,\n",
        "  \"save_total_limit\":1,\n",
        "  \"report_to\":report_to,\n",
        "  \"logging_strategy\":\"steps\",\n",
        "  \"logging_steps\":10\n",
        "}\n",
        "\n",
        "tokenizer = AutoTokenizer.from_pretrained(model_checkpoint)"
      ],
      "metadata": {
        "colab": {
          "base_uri": "https://localhost:8080/",
          "height": 113,
          "referenced_widgets": [
            "845708007a204f478ce0e8913e8f07e4",
            "53b5edc9d3834bfda88ed2bc1bd6408c",
            "96466da5f50241b688ad8aa62cb465e9",
            "6d80f41374724b7b9dc09d85e1bd8d7f",
            "f7f4d897a3ef4e3ebb5842f13e7c3453",
            "d2558de259d746668266014327024459",
            "98b32ef6f0fe4b2486f49bd5a0d7e2f5",
            "e5b10d7f33014a709bcf86da1c2fbfe6",
            "4ab1fed8584840d6afd5b9f552f80982",
            "94620322189b46fca77529dca94bb405",
            "0887521e0ee249e799c97e42b55deeba",
            "0f1cd893f7604e5085cc3520dd0d6dd4",
            "e1725d80ab3348308ff19819c9aca113",
            "e75f3b738377489f970722db9ac1df05",
            "d0b3a94c96014c85925b746b6aecec8c",
            "5714e1aeb05e42fdbe553d989c87cf44",
            "6075d3a47ab44c419e95385f644c72ab",
            "020b1a57f3c642fea9b542f5158adbdf",
            "b8dcbbf2f1d94d80ade1815ba084869d",
            "5bd0eb57fcc24763b6287d2d7c3aa209",
            "3f7cf71668074d4f920a6c785800da96",
            "cd2afdc019f4419489f1a0c7ff3edc20",
            "c9f779ad207c404b962a2dd48431231d",
            "8914737b7c2748bab49ded45226108f2",
            "9a942eea08ab4921b4c2102fc16c3517",
            "0d8c4cee8267403388f8c45f8bedcbeb",
            "c8850b43d6344e6880436ffa847df16f",
            "2f59a90a85624a529eb893c55fb7985f",
            "314738d03fde46aab33339445ac52660",
            "dda1176d77754e65857b2c0d7e186157",
            "9c8c62e7c5024003a09d9f25c0d838b3",
            "9a263b0ed57f4dcda5916c5bda3ad08b",
            "ea7afcc309724b3dbe4f8cac4d20ab81"
          ]
        },
        "id": "nN7Db4wUiepD",
        "outputId": "14ed5cae-22ff-44f7-8ed3-9ddef215cb1a"
      },
      "execution_count": 5,
      "outputs": [
        {
          "output_type": "display_data",
          "data": {
            "text/plain": [
              "Downloading:   0%|          | 0.00/652 [00:00<?, ?B/s]"
            ],
            "application/vnd.jupyter.widget-view+json": {
              "version_major": 2,
              "version_minor": 0,
              "model_id": "845708007a204f478ce0e8913e8f07e4"
            }
          },
          "metadata": {}
        },
        {
          "output_type": "display_data",
          "data": {
            "text/plain": [
              "Downloading:   0%|          | 0.00/5.07M [00:00<?, ?B/s]"
            ],
            "application/vnd.jupyter.widget-view+json": {
              "version_major": 2,
              "version_minor": 0,
              "model_id": "0f1cd893f7604e5085cc3520dd0d6dd4"
            }
          },
          "metadata": {}
        },
        {
          "output_type": "display_data",
          "data": {
            "text/plain": [
              "Downloading:   0%|          | 0.00/9.10M [00:00<?, ?B/s]"
            ],
            "application/vnd.jupyter.widget-view+json": {
              "version_major": 2,
              "version_minor": 0,
              "model_id": "c9f779ad207c404b962a2dd48431231d"
            }
          },
          "metadata": {}
        }
      ]
    },
    {
      "cell_type": "markdown",
      "source": [
        "## Funciones auxiliares"
      ],
      "metadata": {
        "id": "mKmR0d1X04YH"
      }
    },
    {
      "cell_type": "code",
      "source": [
        "import gc\n",
        "\n",
        "def clean_gpu():\n",
        "  \"\"\"\n",
        "  Fuerza el colector de basura de python y limpia la cache.\n",
        "\n",
        "  Tras terminar un entrenamiento es habitual que varios de los tensores con los\n",
        "  gradientes o el ultimo batch sigan alocados en GPU, pudiendo producirse\n",
        "  excepciones por CUDA out of memory. \n",
        "  \"\"\"\n",
        "  gc.collect() \n",
        "  torch.cuda.empty_cache()\n",
        "\n",
        "def end_run():\n",
        "  \"\"\"\n",
        "  Fuerza el colector de basura de python y limpia la cache. Además, si se está\n",
        "  usando wandb termina el run actual.\n",
        "  \"\"\"\n",
        "  clean_gpu()\n",
        "  if use_wandb:\n",
        "    wandb.finish(quiet=True)\n",
        "\n",
        "def show_random_elements(dataset, num_examples=10):\n",
        "  \"\"\"Muestra n_examples aleatorios de un dataset\"\"\"\n",
        "  assert num_examples <= len(dataset), \"Can't pick more elements than there are in the dataset.\"\n",
        "  picks = []\n",
        "  for _ in range(num_examples):\n",
        "    pick = random.randint(0, len(dataset)-1)\n",
        "    while pick in picks:\n",
        "      pick = random.randint(0, len(dataset)-1)\n",
        "    picks.append(pick)\n",
        "  \n",
        "  if isinstance(dataset,pd.core.frame.DataFrame):\n",
        "    df = dataset.iloc[picks]\n",
        "  else:\n",
        "    df = pd.DataFrame(dataset[picks])\n",
        "  display(HTML(df.to_html()))\n",
        "  "
      ],
      "metadata": {
        "id": "vkr_nHlN0efK"
      },
      "execution_count": 6,
      "outputs": []
    },
    {
      "cell_type": "markdown",
      "metadata": {
        "id": "E6WKpaCD7oAu"
      },
      "source": [
        "# Data"
      ]
    },
    {
      "cell_type": "code",
      "execution_count": 7,
      "metadata": {
        "id": "vfPutKWnatx0"
      },
      "outputs": [],
      "source": [
        "train = pd.read_csv(\"decibelios_train_data.csv\",index_col=0)\n",
        "test = pd.read_csv(\"decibelios_test_data.csv\",index_col=0)\n",
        "\n",
        "# Unimos temporalmente los datasets para su limpieza, exploración y procesamiento\n",
        "df = pd.concat([train,test],keys=[\"train\", \"test\"],names=[\"split\", None]).reset_index(level='split')\n",
        "\n",
        "df.twitterId = df.twitterId.astype(int)"
      ]
    },
    {
      "cell_type": "markdown",
      "metadata": {
        "id": "zqGm37yvxXI7"
      },
      "source": [
        "### Limpieza de los datos"
      ]
    },
    {
      "cell_type": "markdown",
      "metadata": {
        "id": "8g0Nxc46rYb0"
      },
      "source": [
        "Antes de poder explorar los datos es necesario acerciorarnos de que su lectura ha sido correcta y comprobar que no contienen ningún error.\n",
        "\n",
        "Lo primero que comprobamos es si tenemos en nuestro dataset algun campo vacío."
      ]
    },
    {
      "cell_type": "code",
      "execution_count": 8,
      "metadata": {
        "colab": {
          "base_uri": "https://localhost:8080/"
        },
        "id": "dYtEni2exLcd",
        "outputId": "c1d92197-8d5d-4300-f471-951d48ac37e0"
      },
      "outputs": [
        {
          "output_type": "execute_result",
          "data": {
            "text/plain": [
              "False"
            ]
          },
          "metadata": {},
          "execution_count": 8
        }
      ],
      "source": [
        "any(df.isna().sum())"
      ]
    },
    {
      "cell_type": "markdown",
      "metadata": {
        "id": "-uTJ8kYZsVtT"
      },
      "source": [
        "Otro error común al crear o cargar datos es la inconsistencía el formato de dichos datos. Por ello comprobaremos que cada variable sea de un único tipo."
      ]
    },
    {
      "cell_type": "code",
      "execution_count": 9,
      "metadata": {
        "colab": {
          "base_uri": "https://localhost:8080/"
        },
        "id": "YK0pr4FDw8ZL",
        "outputId": "c5a9daa5-18c9-4ea8-b53a-3be84c4dd401"
      },
      "outputs": [
        {
          "output_type": "execute_result",
          "data": {
            "text/plain": [
              "split          twitterId      text           label        \n",
              "<class 'str'>  <class 'int'>  <class 'str'>  <class 'int'>    20000\n",
              "dtype: int64"
            ]
          },
          "metadata": {},
          "execution_count": 9
        }
      ],
      "source": [
        "df.apply(lambda x: [type(y) for y in x]).value_counts()"
      ]
    },
    {
      "cell_type": "markdown",
      "source": [
        "En ocasiones podemos encontrar duplicados en el conjunto de datos. Estos duplicados pueden darse de forma natural en numerosos contextos (i.e. dos usuarios publican el mismo tweet) pero en ocasiones puede deberse a un fallo en el procesamiento o en una incorrecta recoleción. En especialmente importante comprobar que ningún dato usado para el entrenamiento esta presente en el conjunto de test, lo que podría super un leakage de información de los datos de test al modelo, compometiendo así su evaluación."
      ],
      "metadata": {
        "id": "HsCneKJI2SxW"
      }
    },
    {
      "cell_type": "code",
      "execution_count": 10,
      "metadata": {
        "colab": {
          "base_uri": "https://localhost:8080/",
          "height": 802
        },
        "id": "WQcPZ7RVFh1B",
        "outputId": "34642192-036f-48f0-d448-aaad40abccdc"
      },
      "outputs": [
        {
          "output_type": "execute_result",
          "data": {
            "text/plain": [
              "       split            twitterId  \\\n",
              "15437   test  1455383757586931712   \n",
              "16681   test  1450837076174381056   \n",
              "1362    test  1455465446619164672   \n",
              "12361   test  1454076779526860800   \n",
              "8837    test  1456683316241965056   \n",
              "1338    test  1455846407773069312   \n",
              "8820    test  1455464963657584640   \n",
              "4226    test  1456684593466195968   \n",
              "9911    test  1454763315918475264   \n",
              "9290    test  1454470171939287040   \n",
              "17081   test  1455465590664138752   \n",
              "4765    test  1457463137335222272   \n",
              "12716   test  1456986707446927360   \n",
              "1400    test  1455527567172243712   \n",
              "743     test  1456683911623364608   \n",
              "18387  train  1263750362797924352   \n",
              "17123  train  1263750362797924352   \n",
              "7899   train  1263750362797924352   \n",
              "226    train  1263750362797924352   \n",
              "18201  train  1263750362797924352   \n",
              "6570   train  1263750362797924352   \n",
              "5335   train  1263750362797924352   \n",
              "15341  train  1263750362797924352   \n",
              "4631   train  1263750362797924352   \n",
              "\n",
              "                                                    text  label  \n",
              "15437  Bienvenidos a la resistencia ( Azagala 27/6/21...      0  \n",
              "16681  Bienvenidos a la resistencia ( Azagala 27/6/21...      0  \n",
              "1362   Cada gesto por pequeño que sea es fundamental ...      0  \n",
              "12361  Cada gesto por pequeño que sea es fundamental ...      0  \n",
              "8837   EEUU y la UE anuncian compromiso mundial para ...      0  \n",
              "1338   EEUU y la UE anuncian compromiso mundial para ...      0  \n",
              "8820   La  #COP26, una cita crucial para estabilizar ...      0  \n",
              "4226   La  #COP26, una cita crucial para estabilizar ...      0  \n",
              "9911   La adaptación al cambio climático es fundament...      0  \n",
              "9290   La adaptación al cambio climático es fundament...      0  \n",
              "17081  La adaptación al cambio climático es fundament...      0  \n",
              "4765   La naturaleza, “única aliada” para poder cumpl...      0  \n",
              "12716  La naturaleza, “única aliada” para poder cumpl...      0  \n",
              "1400   Países más afectados por el cambio climático h...      0  \n",
              "743    Países más afectados por el cambio climático h...      0  \n",
              "18387  Twitter España al servicio del Gobierno libert...      2  \n",
              "17123  Twitter España al servicio del Gobierno libert...      2  \n",
              "7899   Twitter España al servicio del Gobierno libert...      2  \n",
              "226    Twitter España al servicio del Gobierno libert...      2  \n",
              "18201  ¡VERGÜENZA!\\n\\nEl Gobierno de Sánchez conduce ...      2  \n",
              "6570   ¡VERGÜENZA!\\n\\nEl Gobierno de Sánchez conduce ...      2  \n",
              "5335   ¡VERGÜENZA!\\n\\nEl Gobierno de Sánchez conduce ...      2  \n",
              "15341  ¿Qué ocurre con la libertad religiosa y las ce...      0  \n",
              "4631   ¿Qué ocurre con la libertad religiosa y las ce...      0  "
            ],
            "text/html": [
              "\n",
              "  <div id=\"df-c8b67055-4119-4f9c-bc58-e503c712cb80\">\n",
              "    <div class=\"colab-df-container\">\n",
              "      <div>\n",
              "<style scoped>\n",
              "    .dataframe tbody tr th:only-of-type {\n",
              "        vertical-align: middle;\n",
              "    }\n",
              "\n",
              "    .dataframe tbody tr th {\n",
              "        vertical-align: top;\n",
              "    }\n",
              "\n",
              "    .dataframe thead th {\n",
              "        text-align: right;\n",
              "    }\n",
              "</style>\n",
              "<table border=\"1\" class=\"dataframe\">\n",
              "  <thead>\n",
              "    <tr style=\"text-align: right;\">\n",
              "      <th></th>\n",
              "      <th>split</th>\n",
              "      <th>twitterId</th>\n",
              "      <th>text</th>\n",
              "      <th>label</th>\n",
              "    </tr>\n",
              "  </thead>\n",
              "  <tbody>\n",
              "    <tr>\n",
              "      <th>15437</th>\n",
              "      <td>test</td>\n",
              "      <td>1455383757586931712</td>\n",
              "      <td>Bienvenidos a la resistencia ( Azagala 27/6/21...</td>\n",
              "      <td>0</td>\n",
              "    </tr>\n",
              "    <tr>\n",
              "      <th>16681</th>\n",
              "      <td>test</td>\n",
              "      <td>1450837076174381056</td>\n",
              "      <td>Bienvenidos a la resistencia ( Azagala 27/6/21...</td>\n",
              "      <td>0</td>\n",
              "    </tr>\n",
              "    <tr>\n",
              "      <th>1362</th>\n",
              "      <td>test</td>\n",
              "      <td>1455465446619164672</td>\n",
              "      <td>Cada gesto por pequeño que sea es fundamental ...</td>\n",
              "      <td>0</td>\n",
              "    </tr>\n",
              "    <tr>\n",
              "      <th>12361</th>\n",
              "      <td>test</td>\n",
              "      <td>1454076779526860800</td>\n",
              "      <td>Cada gesto por pequeño que sea es fundamental ...</td>\n",
              "      <td>0</td>\n",
              "    </tr>\n",
              "    <tr>\n",
              "      <th>8837</th>\n",
              "      <td>test</td>\n",
              "      <td>1456683316241965056</td>\n",
              "      <td>EEUU y la UE anuncian compromiso mundial para ...</td>\n",
              "      <td>0</td>\n",
              "    </tr>\n",
              "    <tr>\n",
              "      <th>1338</th>\n",
              "      <td>test</td>\n",
              "      <td>1455846407773069312</td>\n",
              "      <td>EEUU y la UE anuncian compromiso mundial para ...</td>\n",
              "      <td>0</td>\n",
              "    </tr>\n",
              "    <tr>\n",
              "      <th>8820</th>\n",
              "      <td>test</td>\n",
              "      <td>1455464963657584640</td>\n",
              "      <td>La  #COP26, una cita crucial para estabilizar ...</td>\n",
              "      <td>0</td>\n",
              "    </tr>\n",
              "    <tr>\n",
              "      <th>4226</th>\n",
              "      <td>test</td>\n",
              "      <td>1456684593466195968</td>\n",
              "      <td>La  #COP26, una cita crucial para estabilizar ...</td>\n",
              "      <td>0</td>\n",
              "    </tr>\n",
              "    <tr>\n",
              "      <th>9911</th>\n",
              "      <td>test</td>\n",
              "      <td>1454763315918475264</td>\n",
              "      <td>La adaptación al cambio climático es fundament...</td>\n",
              "      <td>0</td>\n",
              "    </tr>\n",
              "    <tr>\n",
              "      <th>9290</th>\n",
              "      <td>test</td>\n",
              "      <td>1454470171939287040</td>\n",
              "      <td>La adaptación al cambio climático es fundament...</td>\n",
              "      <td>0</td>\n",
              "    </tr>\n",
              "    <tr>\n",
              "      <th>17081</th>\n",
              "      <td>test</td>\n",
              "      <td>1455465590664138752</td>\n",
              "      <td>La adaptación al cambio climático es fundament...</td>\n",
              "      <td>0</td>\n",
              "    </tr>\n",
              "    <tr>\n",
              "      <th>4765</th>\n",
              "      <td>test</td>\n",
              "      <td>1457463137335222272</td>\n",
              "      <td>La naturaleza, “única aliada” para poder cumpl...</td>\n",
              "      <td>0</td>\n",
              "    </tr>\n",
              "    <tr>\n",
              "      <th>12716</th>\n",
              "      <td>test</td>\n",
              "      <td>1456986707446927360</td>\n",
              "      <td>La naturaleza, “única aliada” para poder cumpl...</td>\n",
              "      <td>0</td>\n",
              "    </tr>\n",
              "    <tr>\n",
              "      <th>1400</th>\n",
              "      <td>test</td>\n",
              "      <td>1455527567172243712</td>\n",
              "      <td>Países más afectados por el cambio climático h...</td>\n",
              "      <td>0</td>\n",
              "    </tr>\n",
              "    <tr>\n",
              "      <th>743</th>\n",
              "      <td>test</td>\n",
              "      <td>1456683911623364608</td>\n",
              "      <td>Países más afectados por el cambio climático h...</td>\n",
              "      <td>0</td>\n",
              "    </tr>\n",
              "    <tr>\n",
              "      <th>18387</th>\n",
              "      <td>train</td>\n",
              "      <td>1263750362797924352</td>\n",
              "      <td>Twitter España al servicio del Gobierno libert...</td>\n",
              "      <td>2</td>\n",
              "    </tr>\n",
              "    <tr>\n",
              "      <th>17123</th>\n",
              "      <td>train</td>\n",
              "      <td>1263750362797924352</td>\n",
              "      <td>Twitter España al servicio del Gobierno libert...</td>\n",
              "      <td>2</td>\n",
              "    </tr>\n",
              "    <tr>\n",
              "      <th>7899</th>\n",
              "      <td>train</td>\n",
              "      <td>1263750362797924352</td>\n",
              "      <td>Twitter España al servicio del Gobierno libert...</td>\n",
              "      <td>2</td>\n",
              "    </tr>\n",
              "    <tr>\n",
              "      <th>226</th>\n",
              "      <td>train</td>\n",
              "      <td>1263750362797924352</td>\n",
              "      <td>Twitter España al servicio del Gobierno libert...</td>\n",
              "      <td>2</td>\n",
              "    </tr>\n",
              "    <tr>\n",
              "      <th>18201</th>\n",
              "      <td>train</td>\n",
              "      <td>1263750362797924352</td>\n",
              "      <td>¡VERGÜENZA!\\n\\nEl Gobierno de Sánchez conduce ...</td>\n",
              "      <td>2</td>\n",
              "    </tr>\n",
              "    <tr>\n",
              "      <th>6570</th>\n",
              "      <td>train</td>\n",
              "      <td>1263750362797924352</td>\n",
              "      <td>¡VERGÜENZA!\\n\\nEl Gobierno de Sánchez conduce ...</td>\n",
              "      <td>2</td>\n",
              "    </tr>\n",
              "    <tr>\n",
              "      <th>5335</th>\n",
              "      <td>train</td>\n",
              "      <td>1263750362797924352</td>\n",
              "      <td>¡VERGÜENZA!\\n\\nEl Gobierno de Sánchez conduce ...</td>\n",
              "      <td>2</td>\n",
              "    </tr>\n",
              "    <tr>\n",
              "      <th>15341</th>\n",
              "      <td>train</td>\n",
              "      <td>1263750362797924352</td>\n",
              "      <td>¿Qué ocurre con la libertad religiosa y las ce...</td>\n",
              "      <td>0</td>\n",
              "    </tr>\n",
              "    <tr>\n",
              "      <th>4631</th>\n",
              "      <td>train</td>\n",
              "      <td>1263750362797924352</td>\n",
              "      <td>¿Qué ocurre con la libertad religiosa y las ce...</td>\n",
              "      <td>0</td>\n",
              "    </tr>\n",
              "  </tbody>\n",
              "</table>\n",
              "</div>\n",
              "      <button class=\"colab-df-convert\" onclick=\"convertToInteractive('df-c8b67055-4119-4f9c-bc58-e503c712cb80')\"\n",
              "              title=\"Convert this dataframe to an interactive table.\"\n",
              "              style=\"display:none;\">\n",
              "        \n",
              "  <svg xmlns=\"http://www.w3.org/2000/svg\" height=\"24px\"viewBox=\"0 0 24 24\"\n",
              "       width=\"24px\">\n",
              "    <path d=\"M0 0h24v24H0V0z\" fill=\"none\"/>\n",
              "    <path d=\"M18.56 5.44l.94 2.06.94-2.06 2.06-.94-2.06-.94-.94-2.06-.94 2.06-2.06.94zm-11 1L8.5 8.5l.94-2.06 2.06-.94-2.06-.94L8.5 2.5l-.94 2.06-2.06.94zm10 10l.94 2.06.94-2.06 2.06-.94-2.06-.94-.94-2.06-.94 2.06-2.06.94z\"/><path d=\"M17.41 7.96l-1.37-1.37c-.4-.4-.92-.59-1.43-.59-.52 0-1.04.2-1.43.59L10.3 9.45l-7.72 7.72c-.78.78-.78 2.05 0 2.83L4 21.41c.39.39.9.59 1.41.59.51 0 1.02-.2 1.41-.59l7.78-7.78 2.81-2.81c.8-.78.8-2.07 0-2.86zM5.41 20L4 18.59l7.72-7.72 1.47 1.35L5.41 20z\"/>\n",
              "  </svg>\n",
              "      </button>\n",
              "      \n",
              "  <style>\n",
              "    .colab-df-container {\n",
              "      display:flex;\n",
              "      flex-wrap:wrap;\n",
              "      gap: 12px;\n",
              "    }\n",
              "\n",
              "    .colab-df-convert {\n",
              "      background-color: #E8F0FE;\n",
              "      border: none;\n",
              "      border-radius: 50%;\n",
              "      cursor: pointer;\n",
              "      display: none;\n",
              "      fill: #1967D2;\n",
              "      height: 32px;\n",
              "      padding: 0 0 0 0;\n",
              "      width: 32px;\n",
              "    }\n",
              "\n",
              "    .colab-df-convert:hover {\n",
              "      background-color: #E2EBFA;\n",
              "      box-shadow: 0px 1px 2px rgba(60, 64, 67, 0.3), 0px 1px 3px 1px rgba(60, 64, 67, 0.15);\n",
              "      fill: #174EA6;\n",
              "    }\n",
              "\n",
              "    [theme=dark] .colab-df-convert {\n",
              "      background-color: #3B4455;\n",
              "      fill: #D2E3FC;\n",
              "    }\n",
              "\n",
              "    [theme=dark] .colab-df-convert:hover {\n",
              "      background-color: #434B5C;\n",
              "      box-shadow: 0px 1px 3px 1px rgba(0, 0, 0, 0.15);\n",
              "      filter: drop-shadow(0px 1px 2px rgba(0, 0, 0, 0.3));\n",
              "      fill: #FFFFFF;\n",
              "    }\n",
              "  </style>\n",
              "\n",
              "      <script>\n",
              "        const buttonEl =\n",
              "          document.querySelector('#df-c8b67055-4119-4f9c-bc58-e503c712cb80 button.colab-df-convert');\n",
              "        buttonEl.style.display =\n",
              "          google.colab.kernel.accessAllowed ? 'block' : 'none';\n",
              "\n",
              "        async function convertToInteractive(key) {\n",
              "          const element = document.querySelector('#df-c8b67055-4119-4f9c-bc58-e503c712cb80');\n",
              "          const dataTable =\n",
              "            await google.colab.kernel.invokeFunction('convertToInteractive',\n",
              "                                                     [key], {});\n",
              "          if (!dataTable) return;\n",
              "\n",
              "          const docLinkHtml = 'Like what you see? Visit the ' +\n",
              "            '<a target=\"_blank\" href=https://colab.research.google.com/notebooks/data_table.ipynb>data table notebook</a>'\n",
              "            + ' to learn more about interactive tables.';\n",
              "          element.innerHTML = '';\n",
              "          dataTable['output_type'] = 'display_data';\n",
              "          await google.colab.output.renderOutput(dataTable, element);\n",
              "          const docLink = document.createElement('div');\n",
              "          docLink.innerHTML = docLinkHtml;\n",
              "          element.appendChild(docLink);\n",
              "        }\n",
              "      </script>\n",
              "    </div>\n",
              "  </div>\n",
              "  "
            ]
          },
          "metadata": {},
          "execution_count": 10
        }
      ],
      "source": [
        "df[df.text.duplicated(keep=False)].sort_values(by=\"text\")"
      ]
    },
    {
      "cell_type": "markdown",
      "metadata": {
        "id": "4OwoAk27swgm"
      },
      "source": [
        "Como podemos observar ambos dataset contienen duplicados. Afortunadamente no hay ningún ejemplo que esté en ambos datasets.\n",
        "\n",
        "Los duplicados en el dataset de test parecen corresponder a diferentes tweets con el mismo contenido (debído a su diferente _tweetID_). Sin embargo, en el dataset de entenamiento todos los duplicados parecen compartir identificador, por lo que descartaremos dichos duplicados manteniendo la primera ocurrencía."
      ]
    },
    {
      "cell_type": "code",
      "execution_count": 11,
      "metadata": {
        "id": "7xfsjLZ4cU9e"
      },
      "outputs": [],
      "source": [
        "df.drop_duplicates(inplace=True)"
      ]
    },
    {
      "cell_type": "markdown",
      "metadata": {
        "id": "0MjC2kSq0kZB"
      },
      "source": [
        "## Exploración de los datos"
      ]
    },
    {
      "cell_type": "markdown",
      "source": [
        "En esta sección exploraremos los datos para familiarizarnos con ellos y para enteder mejor los posibles procesos o decisiones de diseño a tomar."
      ],
      "metadata": {
        "id": "tFwQC4VqqWz1"
      }
    },
    {
      "cell_type": "markdown",
      "source": [
        "### Exploración cualitativa\n",
        "Antes de proceder a una exploración cuantitativa de los datos es conveniente investigar manualmente algunos ejemplos para familiarizarse con los datos. Esto nos permitira hacer una evaluación cualitativa de los mismos, descubrir posibles errores y contrastar el etiquetado de los ejemplos con nuestra valoración subjetiva. Este último punto puede ser importante en anotaciones subjetivas (como el nivel de decibelios de un tweet). Si nuestro criterio no coincide con el _label_ puede indicar que la relación entre las variables predictoras (el texto en en este caso) y la clase del ejemplo no es consistente entre diferentes anotadores."
      ],
      "metadata": {
        "id": "yKwwvf2Z3E4j"
      }
    },
    {
      "cell_type": "code",
      "source": [
        "for label in df.label.unique():\n",
        "  show_random_elements(df[df.label==label],5)"
      ],
      "metadata": {
        "colab": {
          "base_uri": "https://localhost:8080/",
          "height": 689
        },
        "id": "KzU2zTy45Gem",
        "outputId": "86c0f86d-1633-45e2-b7a7-342dbb5ae27c"
      },
      "execution_count": 12,
      "outputs": [
        {
          "output_type": "display_data",
          "data": {
            "text/plain": [
              "<IPython.core.display.HTML object>"
            ],
            "text/html": [
              "<table border=\"1\" class=\"dataframe\">\n",
              "  <thead>\n",
              "    <tr style=\"text-align: right;\">\n",
              "      <th></th>\n",
              "      <th>split</th>\n",
              "      <th>twitterId</th>\n",
              "      <th>text</th>\n",
              "      <th>label</th>\n",
              "    </tr>\n",
              "  </thead>\n",
              "  <tbody>\n",
              "    <tr>\n",
              "      <th>13716</th>\n",
              "      <td>train</td>\n",
              "      <td>1272909930958381056</td>\n",
              "      <td>Oslo-Mérida, analicemos las diferencias en junio, septiembre, octubre,...\\n\\nLa verdad es que los fiordos extremeños deben ser muy raros porque no se ven glaciares al fondo.  Que digo yo que algo tendrá que ver la latitud.  Que le pregunte a Carmen Calvo, experta en longitudes. https://t.co/hrXAyzsCVJ</td>\n",
              "      <td>0</td>\n",
              "    </tr>\n",
              "    <tr>\n",
              "      <th>19542</th>\n",
              "      <td>test</td>\n",
              "      <td>1402147593732374528</td>\n",
              "      <td>✔️Licenciada en Derecho\\n✔️Postgrado en Urbanismo\\n✔️Postgrado en Mercados Financieros\\n✔️Consultora de reputación empresarial\\n✔️20 años de carrera en sector financiero\\n\\nY te llaman ‘influencer’.\\n\\nNo sé cómo ha podido pasar. \\n\\nhttps://t.co/czOEv7FUsN</td>\n",
              "      <td>0</td>\n",
              "    </tr>\n",
              "    <tr>\n",
              "      <th>12116</th>\n",
              "      <td>test</td>\n",
              "      <td>1453273710580862976</td>\n",
              "      <td>Portugal ha vivido un largo período de prosperidad, gracias a los acuerdos entre izquierdas. Hoy, la incapacidad para acordar un presupuesto, puede llevar a adelanto electoral, con riesgo de vuelco a la derecha. Cuando veas las barbas de tu vecino cortar, pon las tuyas a remojar</td>\n",
              "      <td>0</td>\n",
              "    </tr>\n",
              "    <tr>\n",
              "      <th>60</th>\n",
              "      <td>train</td>\n",
              "      <td>1271812496299569152</td>\n",
              "      <td>Dinamarca, Suecia y Finlandia hoy por hoy están bloqueando el fondo de recuperación del que se va a beneficiar España. Son tres gobiernos socialistas. ¿Serán halcones según @el_pais? Ojalá los socialistas españoles sean capaces de convencerles. Me ofrezco a ayudar en lo que pueda</td>\n",
              "      <td>0</td>\n",
              "    </tr>\n",
              "    <tr>\n",
              "      <th>1437</th>\n",
              "      <td>train</td>\n",
              "      <td>1233121086331662336</td>\n",
              "      <td>Una de las opciones para ir a Vistalegre desde #Barcelona es el autocar que estamos llenando de valientes patriotas que no se quieren perder el gran acto de #LaAlternativa    .\\nTodavía estáis a tiempo de reservar vuestra plaza. \\n#LaAlternativaYoVoy https://t.co/K8BAD0Iqap</td>\n",
              "      <td>0</td>\n",
              "    </tr>\n",
              "  </tbody>\n",
              "</table>"
            ]
          },
          "metadata": {}
        },
        {
          "output_type": "display_data",
          "data": {
            "text/plain": [
              "<IPython.core.display.HTML object>"
            ],
            "text/html": [
              "<table border=\"1\" class=\"dataframe\">\n",
              "  <thead>\n",
              "    <tr style=\"text-align: right;\">\n",
              "      <th></th>\n",
              "      <th>split</th>\n",
              "      <th>twitterId</th>\n",
              "      <th>text</th>\n",
              "      <th>label</th>\n",
              "    </tr>\n",
              "  </thead>\n",
              "  <tbody>\n",
              "    <tr>\n",
              "      <th>2717</th>\n",
              "      <td>test</td>\n",
              "      <td>1461331547840299008</td>\n",
              "      <td>‼️ Para las derechas de este país 🇪🇸 todo lo que hace el Gobierno de Pedro Sánchez está mal.\\n\\nDa igual que:\\n\\n✅ EL PLAN DE CHOQUE FRENTE A LA COVID-19 EN APOYO A LA INTERNACIONALIZACIÓN HA MOVILIZADO 2.643 MILLONES DE EUROS\\n\\n@gpscongreso https://t.co/GXheiNWsC2</td>\n",
              "      <td>1</td>\n",
              "    </tr>\n",
              "    <tr>\n",
              "      <th>19728</th>\n",
              "      <td>test</td>\n",
              "      <td>1412819558214340608</td>\n",
              "      <td>Si. Que te maten a patadas mientras te llaman “maricón de mierda” es homofobia y un crimen de odio. \\n\\n#VoxSenalaOtrosDisparan https://t.co/j02p8FnCU9</td>\n",
              "      <td>1</td>\n",
              "    </tr>\n",
              "    <tr>\n",
              "      <th>17988</th>\n",
              "      <td>test</td>\n",
              "      <td>1368910688870149888</td>\n",
              "      <td>Hoy es un día histórico para la ciencia. Hoy se ha desvelado uno de los misterios más insondables de la humanidad. Hoy por fin conocemos quién estaba detrás del críptico nombre en clave \"M. Rajoy\" en los papeles de Bárcenas. https://t.co/5EiVy5lflX</td>\n",
              "      <td>1</td>\n",
              "    </tr>\n",
              "    <tr>\n",
              "      <th>7800</th>\n",
              "      <td>train</td>\n",
              "      <td>1271388603994771712</td>\n",
              "      <td>Mal día para la derecha de España, se han cargado de un plumazo su argumento político de esta pandemia. La juez ha archivado la causa del 8M. \\n\\n¿Qué tema sacarán ahora para culpabilizar al gobierno? Tica, tac.....</td>\n",
              "      <td>1</td>\n",
              "    </tr>\n",
              "    <tr>\n",
              "      <th>15005</th>\n",
              "      <td>train</td>\n",
              "      <td>1271708880041586688</td>\n",
              "      <td>“A por ello, mujeres y hombres trans”, de ⁦@MonicaSilvanaG⁩, secretaria de Movimientos Sociales del ⁦@PSOE⁩.\\nFrente a burdas manipulaciones y tergiversaciones interesadas, nuestra postura    https://t.co/lAafrpfb6N</td>\n",
              "      <td>1</td>\n",
              "    </tr>\n",
              "  </tbody>\n",
              "</table>"
            ]
          },
          "metadata": {}
        },
        {
          "output_type": "display_data",
          "data": {
            "text/plain": [
              "<IPython.core.display.HTML object>"
            ],
            "text/html": [
              "<table border=\"1\" class=\"dataframe\">\n",
              "  <thead>\n",
              "    <tr style=\"text-align: right;\">\n",
              "      <th></th>\n",
              "      <th>split</th>\n",
              "      <th>twitterId</th>\n",
              "      <th>text</th>\n",
              "      <th>label</th>\n",
              "    </tr>\n",
              "  </thead>\n",
              "  <tbody>\n",
              "    <tr>\n",
              "      <th>18349</th>\n",
              "      <td>test</td>\n",
              "      <td>1455939067900743680</td>\n",
              "      <td>#LaAlternativaEsPP \\nPablo Casado vapulea los «falsos, radicales, hipócritas y ruinosos» Presupuestos de Sánchez: «Son un bodrio»: https://t.co/HN9CFyGP96</td>\n",
              "      <td>2</td>\n",
              "    </tr>\n",
              "    <tr>\n",
              "      <th>12243</th>\n",
              "      <td>train</td>\n",
              "      <td>1261355406296678400</td>\n",
              "      <td>El objetivo no es machacar Madrid; el objetivo es machacar todo lo que Madrid representa: libertad, impuestos bajos, bonanza económica, y buena gestión política y sanitaria. No podrán con nosotros.</td>\n",
              "      <td>2</td>\n",
              "    </tr>\n",
              "    <tr>\n",
              "      <th>5594</th>\n",
              "      <td>train</td>\n",
              "      <td>1255038594512834560</td>\n",
              "      <td>Nos mienten con el número de test, con el número de fallecidos, con el número de PCR y así con todo.\\n\\nNo tienen plan e improvisan jugando con nuestras vidas.\\n\\nPero el que mientes eres tú.\\n\\n#ElGobiernoDelBulo https://t.co/fOaf6aS3iB</td>\n",
              "      <td>2</td>\n",
              "    </tr>\n",
              "    <tr>\n",
              "      <th>7418</th>\n",
              "      <td>train</td>\n",
              "      <td>1277966593339781120</td>\n",
              "      <td>⚖️ @fernandoderosa4  Las voces de las cloacas reclaman una intervención de la Fiscalía Anticorrupción https://t.co/mjZGdQQz3Y vía @ESdiario_com</td>\n",
              "      <td>2</td>\n",
              "    </tr>\n",
              "    <tr>\n",
              "      <th>1551</th>\n",
              "      <td>train</td>\n",
              "      <td>1252946281607159808</td>\n",
              "      <td>El PP y Ciudadanos hablan mucho pero muestran su apoyo al Gobierno. Eso es oposición o es sumisión \\n#GobiernoFake\\n#GobiernoDimisionYa https://t.co/z3zPjYAKDm</td>\n",
              "      <td>2</td>\n",
              "    </tr>\n",
              "  </tbody>\n",
              "</table>"
            ]
          },
          "metadata": {}
        }
      ]
    },
    {
      "cell_type": "markdown",
      "source": [
        "En algunos ejemplos la linea entre los decibelios suaves y fuertes es bastante difusa. Aunque es comprensible teniendo en cuenta la subjetividad de la anotación es dificil delimilar que se considera \"lenguaje violento, belicoso, agresivo o polarizante\" de forma objetiva. En menor medida algunos de los ejemplos _no toxicos_ pueden ser percividos como ironía, lo que les daría un ligero nivel de decibelios.\n",
        "\n",
        "A continuación podemos observar una pequeña recopilación de ejemplos donde, desde mi subjetividad como anotador, discrepo o dudo de la anotación. Es importante remarcar que en ningun caso se pretende hacer un comentario político respecto al mensaje de los tweets, si no destacar que cuando distintos anotadores no coinciden en su criterio puede indicarnos la dificultad intrinseca de los datos para ser diferenciados de forma predictiva."
      ],
      "metadata": {
        "id": "Iw4Sqxu29D0n"
      }
    },
    {
      "cell_type": "code",
      "source": [
        "int_tweets = {\n",
        "  1273274353703141376: \"Si otros tweets que usen un tono de sarcástico están anotados como toxicos es posible que este ejemplo este mal anotado.\",\n",
        "  1456030044019728384: \"Basandonos en la definición de _decibelios fuertes_ este tweet debería ser clasificado como tóxico debido al lenguaje violento/agresivo  que usa\",\n",
        "  1425146622716096512: \"Aunque el mensaje tiene decibelios podría haber debate sobre el uso de la palabra _siniestra_ o _censura_ como lenguaje violento, belicoso, agresivo o polarizante.\",\n",
        "  1271811134669107200: \"Aunque el mensaje tiene decibelios no sabía si clasificarlo como 2 o 1\",\n",
        "  1270977903631704064: \"El tweet podría ser polarizante\",\n",
        "  1282817025937674240: \"Aunque el mensaje tiene decibelios no sabía si clasificarlo como 2 o 1\"\n",
        "}\n",
        "\n",
        "df_contraste = df.set_index(\"twitterId\").loc[int_tweets]\n",
        "df_contraste.loc[int_tweets,\"contraste\"] = [value for value in int_tweets.values()]\n",
        "\n",
        "display(df_contraste)"
      ],
      "metadata": {
        "colab": {
          "base_uri": "https://localhost:8080/",
          "height": 269
        },
        "id": "hyTBarQk5rre",
        "outputId": "f453d105-4cab-44a2-ea54-2e4dbd9dd2c2"
      },
      "execution_count": 13,
      "outputs": [
        {
          "output_type": "display_data",
          "data": {
            "text/plain": [
              "                     split                                               text  \\\n",
              "twitterId                                                                       \n",
              "1273274353703141376  train    \"Cuando escucho a algunos/as hablar en esta ...   \n",
              "1456030044019728384   test  ES QUE VOLVÍA DE FIESTA \\n\\nLa excusa de los m...   \n",
              "1425146622716096512  train  @Larordana @AmerAcadPeds @SEGMtweets Aquí una ...   \n",
              "1271811134669107200  train  ⭕️ La inmigración se dispara un 264% en Andalu...   \n",
              "1270977903631704064  train  Ábalos oculta el expediente de la adjudicación...   \n",
              "1282817025937674240  train  1. Una jueza sustituta...\\nUn auto demencial.....   \n",
              "\n",
              "                     label                                          contraste  \n",
              "twitterId                                                                      \n",
              "1273274353703141376      0  Si otros tweets que usen un tono de sarcástico...  \n",
              "1456030044019728384      1  Basandonos en la definición de _decibelios fue...  \n",
              "1425146622716096512      2  Aunque el mensaje tiene decibelios podría habe...  \n",
              "1271811134669107200      2  Aunque el mensaje tiene decibelios no sabía si...  \n",
              "1270977903631704064      0                    El tweet podría ser polarizante  \n",
              "1282817025937674240      2  Aunque el mensaje tiene decibelios no sabía si...  "
            ],
            "text/html": [
              "\n",
              "  <div id=\"df-57f54d0d-e32e-44d7-9a1b-98e4e3a1b83a\">\n",
              "    <div class=\"colab-df-container\">\n",
              "      <div>\n",
              "<style scoped>\n",
              "    .dataframe tbody tr th:only-of-type {\n",
              "        vertical-align: middle;\n",
              "    }\n",
              "\n",
              "    .dataframe tbody tr th {\n",
              "        vertical-align: top;\n",
              "    }\n",
              "\n",
              "    .dataframe thead th {\n",
              "        text-align: right;\n",
              "    }\n",
              "</style>\n",
              "<table border=\"1\" class=\"dataframe\">\n",
              "  <thead>\n",
              "    <tr style=\"text-align: right;\">\n",
              "      <th></th>\n",
              "      <th>split</th>\n",
              "      <th>text</th>\n",
              "      <th>label</th>\n",
              "      <th>contraste</th>\n",
              "    </tr>\n",
              "    <tr>\n",
              "      <th>twitterId</th>\n",
              "      <th></th>\n",
              "      <th></th>\n",
              "      <th></th>\n",
              "      <th></th>\n",
              "    </tr>\n",
              "  </thead>\n",
              "  <tbody>\n",
              "    <tr>\n",
              "      <th>1273274353703141376</th>\n",
              "      <td>train</td>\n",
              "      <td>\"Cuando escucho a algunos/as hablar en esta ...</td>\n",
              "      <td>0</td>\n",
              "      <td>Si otros tweets que usen un tono de sarcástico...</td>\n",
              "    </tr>\n",
              "    <tr>\n",
              "      <th>1456030044019728384</th>\n",
              "      <td>test</td>\n",
              "      <td>ES QUE VOLVÍA DE FIESTA \\n\\nLa excusa de los m...</td>\n",
              "      <td>1</td>\n",
              "      <td>Basandonos en la definición de _decibelios fue...</td>\n",
              "    </tr>\n",
              "    <tr>\n",
              "      <th>1425146622716096512</th>\n",
              "      <td>train</td>\n",
              "      <td>@Larordana @AmerAcadPeds @SEGMtweets Aquí una ...</td>\n",
              "      <td>2</td>\n",
              "      <td>Aunque el mensaje tiene decibelios podría habe...</td>\n",
              "    </tr>\n",
              "    <tr>\n",
              "      <th>1271811134669107200</th>\n",
              "      <td>train</td>\n",
              "      <td>⭕️ La inmigración se dispara un 264% en Andalu...</td>\n",
              "      <td>2</td>\n",
              "      <td>Aunque el mensaje tiene decibelios no sabía si...</td>\n",
              "    </tr>\n",
              "    <tr>\n",
              "      <th>1270977903631704064</th>\n",
              "      <td>train</td>\n",
              "      <td>Ábalos oculta el expediente de la adjudicación...</td>\n",
              "      <td>0</td>\n",
              "      <td>El tweet podría ser polarizante</td>\n",
              "    </tr>\n",
              "    <tr>\n",
              "      <th>1282817025937674240</th>\n",
              "      <td>train</td>\n",
              "      <td>1. Una jueza sustituta...\\nUn auto demencial.....</td>\n",
              "      <td>2</td>\n",
              "      <td>Aunque el mensaje tiene decibelios no sabía si...</td>\n",
              "    </tr>\n",
              "  </tbody>\n",
              "</table>\n",
              "</div>\n",
              "      <button class=\"colab-df-convert\" onclick=\"convertToInteractive('df-57f54d0d-e32e-44d7-9a1b-98e4e3a1b83a')\"\n",
              "              title=\"Convert this dataframe to an interactive table.\"\n",
              "              style=\"display:none;\">\n",
              "        \n",
              "  <svg xmlns=\"http://www.w3.org/2000/svg\" height=\"24px\"viewBox=\"0 0 24 24\"\n",
              "       width=\"24px\">\n",
              "    <path d=\"M0 0h24v24H0V0z\" fill=\"none\"/>\n",
              "    <path d=\"M18.56 5.44l.94 2.06.94-2.06 2.06-.94-2.06-.94-.94-2.06-.94 2.06-2.06.94zm-11 1L8.5 8.5l.94-2.06 2.06-.94-2.06-.94L8.5 2.5l-.94 2.06-2.06.94zm10 10l.94 2.06.94-2.06 2.06-.94-2.06-.94-.94-2.06-.94 2.06-2.06.94z\"/><path d=\"M17.41 7.96l-1.37-1.37c-.4-.4-.92-.59-1.43-.59-.52 0-1.04.2-1.43.59L10.3 9.45l-7.72 7.72c-.78.78-.78 2.05 0 2.83L4 21.41c.39.39.9.59 1.41.59.51 0 1.02-.2 1.41-.59l7.78-7.78 2.81-2.81c.8-.78.8-2.07 0-2.86zM5.41 20L4 18.59l7.72-7.72 1.47 1.35L5.41 20z\"/>\n",
              "  </svg>\n",
              "      </button>\n",
              "      \n",
              "  <style>\n",
              "    .colab-df-container {\n",
              "      display:flex;\n",
              "      flex-wrap:wrap;\n",
              "      gap: 12px;\n",
              "    }\n",
              "\n",
              "    .colab-df-convert {\n",
              "      background-color: #E8F0FE;\n",
              "      border: none;\n",
              "      border-radius: 50%;\n",
              "      cursor: pointer;\n",
              "      display: none;\n",
              "      fill: #1967D2;\n",
              "      height: 32px;\n",
              "      padding: 0 0 0 0;\n",
              "      width: 32px;\n",
              "    }\n",
              "\n",
              "    .colab-df-convert:hover {\n",
              "      background-color: #E2EBFA;\n",
              "      box-shadow: 0px 1px 2px rgba(60, 64, 67, 0.3), 0px 1px 3px 1px rgba(60, 64, 67, 0.15);\n",
              "      fill: #174EA6;\n",
              "    }\n",
              "\n",
              "    [theme=dark] .colab-df-convert {\n",
              "      background-color: #3B4455;\n",
              "      fill: #D2E3FC;\n",
              "    }\n",
              "\n",
              "    [theme=dark] .colab-df-convert:hover {\n",
              "      background-color: #434B5C;\n",
              "      box-shadow: 0px 1px 3px 1px rgba(0, 0, 0, 0.15);\n",
              "      filter: drop-shadow(0px 1px 2px rgba(0, 0, 0, 0.3));\n",
              "      fill: #FFFFFF;\n",
              "    }\n",
              "  </style>\n",
              "\n",
              "      <script>\n",
              "        const buttonEl =\n",
              "          document.querySelector('#df-57f54d0d-e32e-44d7-9a1b-98e4e3a1b83a button.colab-df-convert');\n",
              "        buttonEl.style.display =\n",
              "          google.colab.kernel.accessAllowed ? 'block' : 'none';\n",
              "\n",
              "        async function convertToInteractive(key) {\n",
              "          const element = document.querySelector('#df-57f54d0d-e32e-44d7-9a1b-98e4e3a1b83a');\n",
              "          const dataTable =\n",
              "            await google.colab.kernel.invokeFunction('convertToInteractive',\n",
              "                                                     [key], {});\n",
              "          if (!dataTable) return;\n",
              "\n",
              "          const docLinkHtml = 'Like what you see? Visit the ' +\n",
              "            '<a target=\"_blank\" href=https://colab.research.google.com/notebooks/data_table.ipynb>data table notebook</a>'\n",
              "            + ' to learn more about interactive tables.';\n",
              "          element.innerHTML = '';\n",
              "          dataTable['output_type'] = 'display_data';\n",
              "          await google.colab.output.renderOutput(dataTable, element);\n",
              "          const docLink = document.createElement('div');\n",
              "          docLink.innerHTML = docLinkHtml;\n",
              "          element.appendChild(docLink);\n",
              "        }\n",
              "      </script>\n",
              "    </div>\n",
              "  </div>\n",
              "  "
            ]
          },
          "metadata": {}
        }
      ]
    },
    {
      "cell_type": "markdown",
      "source": [
        "Otra observación importante es que hay tweets en distintos idiomas (además de español se ha observado, al menos, gallego). Por falta de tiempo no desarrollaremos este problema pero idealmente podríamos intentar traducir al español u aplicar modelos que hayan sido entrenados con estos idiomas."
      ],
      "metadata": {
        "id": "G3X08dlupgW3"
      }
    },
    {
      "cell_type": "markdown",
      "source": [
        "###  Tamaño de los datasets y balanceo de clases"
      ],
      "metadata": {
        "id": "aEzaY2SRJJ2B"
      }
    },
    {
      "cell_type": "markdown",
      "source": [
        "El siguiente aspecto a explorar es el numero de ejemplos en nuestro dataset."
      ],
      "metadata": {
        "id": "pHbiWR0F_MES"
      }
    },
    {
      "cell_type": "code",
      "execution_count": 14,
      "metadata": {
        "colab": {
          "base_uri": "https://localhost:8080/",
          "height": 684
        },
        "id": "gyi4F_if3XVK",
        "outputId": "37fd4654-8ddf-46a1-9edb-e7225417a8ef"
      },
      "outputs": [
        {
          "output_type": "display_data",
          "data": {
            "text/plain": [
              "<Figure size 1200x800 with 1 Axes>"
            ],
            "image/png": "[encoded data removed]"
          },
          "metadata": {
            "needs_background": "light"
          }
        }
      ],
      "source": [
        "ax = sns.barplot(\n",
        "  data=df.groupby(\"split\").text.count().rename(\"Number of tweets\").reset_index(),\n",
        "  x=\"split\",\n",
        "  y=\"Number of tweets\"\n",
        ")\n",
        "ax.bar_label(ax.containers[0]);"
      ]
    },
    {
      "cell_type": "markdown",
      "source": [
        "Uno de los aspectos mas importantes a considerar al usar datos de entrenamiento es el balanceo de clases, i.e. el porcentaje de ejemplos de cada clase sobre el total del dataset."
      ],
      "metadata": {
        "id": "ILb-EiiM_nw3"
      }
    },
    {
      "cell_type": "code",
      "execution_count": 15,
      "metadata": {
        "colab": {
          "base_uri": "https://localhost:8080/",
          "height": 684
        },
        "id": "Gk58mdw9k2L0",
        "outputId": "4f2ffadd-7f25-4160-bf3e-482b44e4fece"
      },
      "outputs": [
        {
          "output_type": "display_data",
          "data": {
            "text/plain": [
              "<Figure size 1200x800 with 1 Axes>"
            ],
            "image/png": "[encoded data removed]"
          },
          "metadata": {
            "needs_background": "light"
          }
        }
      ],
      "source": [
        "ax = sns.barplot(\n",
        "  data=df.groupby(\"split\").label.value_counts(normalize=True).rename(\"Class Distribution\").reset_index(),\n",
        "  x=\"split\",\n",
        "  y=\"Class Distribution\",\n",
        "  hue=\"label\"\n",
        ")\n",
        "for container in ax.containers:\n",
        "  ax.bar_label(container, labels=[f'{x*100:,.2f}%' for x in container.datavalues])"
      ]
    },
    {
      "cell_type": "markdown",
      "source": [
        "Podemos observar un claro desvalance de las clases. Como se ha comentado anteriormente el problema del desbalance de clases puede resultar en clasificadores que aprenden incorrectamente a clasificar en la clase mayoritaria a todos los ejemplos [H. He and E. A. Garcia, 2009]."
      ],
      "metadata": {
        "id": "XH8D3EIOAAYc"
      }
    },
    {
      "cell_type": "markdown",
      "source": [
        "Otra variable a destacar es el tamaño de los textos. En este caso, al provenir de tweets donde hay un limite de caracteres no deberíamos encontrar un gran desbalance entre clases ni nungún ejemplo especialmente largo."
      ],
      "metadata": {
        "id": "hMP3XAufIRjk"
      }
    },
    {
      "cell_type": "code",
      "execution_count": 16,
      "metadata": {
        "colab": {
          "base_uri": "https://localhost:8080/",
          "height": 701
        },
        "id": "RDRbbM2XTsGQ",
        "outputId": "c2204f83-d56b-4fbe-9a6c-d482c453904c"
      },
      "outputs": [
        {
          "output_type": "execute_result",
          "data": {
            "text/plain": [
              "<AxesSubplot:xlabel='Text Lenght (in number of characters)', ylabel='label'>"
            ]
          },
          "metadata": {},
          "execution_count": 16
        },
        {
          "output_type": "display_data",
          "data": {
            "text/plain": [
              "<Figure size 1200x800 with 1 Axes>"
            ],
            "image/png": "[encoded data removed]"
          },
          "metadata": {
            "needs_background": "light"
          }
        }
      ],
      "source": [
        "sns.boxplot(\n",
        "  x=df.text.apply(len).rename(\"Text Lenght (in number of characters)\"),\n",
        "  y=df.label.astype(str),\n",
        "  hue=df.split\n",
        ")"
      ]
    },
    {
      "cell_type": "markdown",
      "source": [
        "### URLS y menciones\n",
        "Los tweets pueden contener enlaces a otros usuarios o enlaces a fotos, videos, noticias u otros tweets. Es posible que exista una correlación entre el numero de decibelios y el numero de urls/menciones."
      ],
      "metadata": {
        "id": "5YdCBAaGIpy0"
      }
    },
    {
      "cell_type": "code",
      "execution_count": 17,
      "metadata": {
        "colab": {
          "base_uri": "https://localhost:8080/",
          "height": 258
        },
        "id": "nGX-mMSNEzuw",
        "outputId": "8d44af83-e93d-42fe-dd78-91974b57427c"
      },
      "outputs": [
        {
          "output_type": "display_data",
          "data": {
            "text/plain": [
              "<IPython.core.display.HTML object>"
            ],
            "text/html": [
              "<table border=\"1\" class=\"dataframe\">\n",
              "  <thead>\n",
              "    <tr style=\"text-align: right;\">\n",
              "      <th></th>\n",
              "      <th>split</th>\n",
              "      <th>twitterId</th>\n",
              "      <th>text</th>\n",
              "      <th>label</th>\n",
              "      <th>urls</th>\n",
              "      <th>mentions</th>\n",
              "    </tr>\n",
              "  </thead>\n",
              "  <tbody>\n",
              "    <tr>\n",
              "      <th>18933</th>\n",
              "      <td>train</td>\n",
              "      <td>1272165670319460352</td>\n",
              "      <td>.@policia @guardiacivil \\nEs una estafa que se está recibiendo hoy por SMS https://t.co/pfJAQ1V0Lz</td>\n",
              "      <td>0</td>\n",
              "      <td>[https://t.co/pfJAQ1V0Lz]</td>\n",
              "      <td>[@policia, @guardiacivil]</td>\n",
              "    </tr>\n",
              "    <tr>\n",
              "      <th>18849</th>\n",
              "      <td>train</td>\n",
              "      <td>1516705958914928640</td>\n",
              "      <td>Hoy he inaugurado en el @Congreso_Es la jornada de @ADESyD2011 sobre los 40 años de España en la #OTAN y su papel determinante en la próxima cumbre de Madrid.\\n\\nEspaña es un país de diálogo pero sin seguridad no hay libertad. Invertir en defensa es invertir en la paz.\\n\\n@SpainNATO https://t.co/C4ZBqb0Cc7</td>\n",
              "      <td>0</td>\n",
              "      <td>[https://t.co/C4ZBqb0Cc7]</td>\n",
              "      <td>[@Congreso_Es, @ADESyD2011, @SpainNATO]</td>\n",
              "    </tr>\n",
              "    <tr>\n",
              "      <th>16484</th>\n",
              "      <td>train</td>\n",
              "      <td>1313790898195648512</td>\n",
              "      <td>@garciapage  “los docentes lo que quieren es 15 días de vacaciones” ¿A quién pretende engañar? ?#PageNoTeCreo https://t.co/OhZ5WDmT3I</td>\n",
              "      <td>2</td>\n",
              "      <td>[https://t.co/OhZ5WDmT3I]</td>\n",
              "      <td>[@garciapage]</td>\n",
              "    </tr>\n",
              "    <tr>\n",
              "      <th>10395</th>\n",
              "      <td>train</td>\n",
              "      <td>1271140967240937472</td>\n",
              "      <td>¿Cuál es el dato real de fallecidos por #coronavirus en #España?\\n#UnCaosDeGobierno\\nNubarrones sobre los datos de las muertes por #COVID19 Covid en España\\n https://t.co/fI8WrrUvKy https://t.co/x1PidNUelE</td>\n",
              "      <td>2</td>\n",
              "      <td>[https://t.co/fI8WrrUvKy, https://t.co/x1PidNUelE]</td>\n",
              "      <td>[]</td>\n",
              "    </tr>\n",
              "    <tr>\n",
              "      <th>15011</th>\n",
              "      <td>test</td>\n",
              "      <td>1405252501079838720</td>\n",
              "      <td>Hay que comunicar que el problema de la vivienda no es un fenómeno aislado, que forma parte de un sistema, y que la pinza que está oprimiendo a la población española joven la forman los salarios por los suelos y la vivienda por las nubes\\n.@ctxt_es\\nhttps://t.co/JjtxMmB64L</td>\n",
              "      <td>0</td>\n",
              "      <td>[https://t.co/JjtxMmB64L]</td>\n",
              "      <td>[@ctxt_es]</td>\n",
              "    </tr>\n",
              "  </tbody>\n",
              "</table>"
            ]
          },
          "metadata": {}
        }
      ],
      "source": [
        "df[\"urls\"] = df.text.apply(lambda x: re.findall(r'(https?://\\S+)', x))\n",
        "df[\"mentions\"] = df.text.apply(lambda x: re.findall(r'\\@[^\\s]+', x))\n",
        "show_random_elements(df,5)"
      ]
    },
    {
      "cell_type": "code",
      "execution_count": 18,
      "metadata": {
        "colab": {
          "base_uri": "https://localhost:8080/",
          "height": 706
        },
        "id": "MSwqAtxcF3rO",
        "outputId": "0749fa29-3717-4391-aa82-41ccd40467d4"
      },
      "outputs": [
        {
          "output_type": "display_data",
          "data": {
            "text/plain": [
              "<Figure size 1200x800 with 2 Axes>"
            ],
            "image/png": "[encoded data removed]"
          },
          "metadata": {
            "needs_background": "light"
          }
        }
      ],
      "source": [
        "fig, axs = plt.subplots(1, 2)\n",
        "\n",
        "ax = sns.barplot(\n",
        "  data=df.groupby([\"split\",\"label\"]).urls.agg(lambda x: x.apply(len).mean()).rename(\"Mean Number of URLS\").reset_index(),\n",
        "  x=\"split\",\n",
        "  y=\"Mean Number of URLS\",\n",
        "  hue=\"label\",\n",
        "  ax=axs[0]\n",
        ")\n",
        "for container in ax.containers:\n",
        "  ax.bar_label(container, labels=[f'{x:,.2f}' for x in container.datavalues])\n",
        "ax.set_title(\"Mean Number of URLS\")\n",
        "\n",
        "\n",
        "ax = sns.barplot(\n",
        "  data=df.groupby([\"split\",\"label\"]).mentions.agg(lambda x: x.apply(len).mean()).rename(\"Mean Number of Mentions\").reset_index(),\n",
        "  x=\"split\",\n",
        "  y=\"Mean Number of Mentions\",\n",
        "  hue=\"label\",\n",
        "  ax=axs[1]\n",
        ")\n",
        "for container in ax.containers:\n",
        "  ax.bar_label(container, labels=[f'{x:,.2f}' for x in container.datavalues])\n",
        "ax.set_title(\"Mean Number of Mentions\");\n"
      ]
    },
    {
      "cell_type": "markdown",
      "source": [
        "Parece que existe una pequeña relación inversa entre el numero de URLS/menciones y el nivel de decibelios de un tweet.  "
      ],
      "metadata": {
        "id": "pYmxfBTuLPG1"
      }
    },
    {
      "cell_type": "markdown",
      "source": [
        "## Procesamiento de los datos: Expandiendo las URLS"
      ],
      "metadata": {
        "id": "5MrXxt8qYrjq"
      }
    },
    {
      "cell_type": "markdown",
      "source": [
        "La mayoría de URLS de los tweets estan acortadas al formato de twitter. Podemos expandirlas para mostrar el dominio completo. Es posible que ciertos dominios se referencien mas en contextos polarizados y esto podría ayudar a la clasificación de nuestro modelo"
      ],
      "metadata": {
        "id": "gbrU_dHrLm3Z"
      }
    },
    {
      "cell_type": "code",
      "source": [
        "urls = pd.Series([url for urls in df[\"urls\"] for url in urls]).to_list()"
      ],
      "metadata": {
        "id": "S1h_99Tmg98U"
      },
      "execution_count": 19,
      "outputs": []
    },
    {
      "cell_type": "code",
      "source": [
        "# El modulo request de python es bastante lento pues parsea el contenido del \n",
        "# mensaje y cada petición es bloqueante. El tiempo de ejecución para todas las\n",
        "# URLS supera las 2h. Para optimizarlo paralelizaremos la ejecución y pediremos\n",
        "# solo el Header de la respuesta pues estamos unicamente interesados en la URL\n",
        "# completa y no en el contenido de la web en si.\n",
        "\n",
        "import concurrent.futures\n",
        "import multiprocessing\n",
        "\n",
        "session = r.Session()\n",
        "\n",
        "MAX_THREADS = multiprocessing.cpu_count()\n",
        "def scrape(url):\n",
        "  # Algunas URLs pueden no estar bien formadas o quick workaround.  \n",
        "  try:\n",
        "    new_url = session.head(url,timeout=1).url\n",
        "    # print(f\"old: {url} - new: {new_url}\")\n",
        "  except:\n",
        "    new_url = url\n",
        "  return new_url\n",
        "\n",
        "with concurrent.futures.ThreadPoolExecutor(max_workers=MAX_THREADS) as executor:\n",
        "  new_urls = list(tqdm(executor.map(scrape, urls), total=len(urls)))\n",
        "\n",
        "url_map = pd.Series(index=urls,data=new_urls).to_dict()"
      ],
      "metadata": {
        "colab": {
          "base_uri": "https://localhost:8080/",
          "height": 49,
          "referenced_widgets": [
            "42d6ea6c769e4ede9ecc441bd81df8c7",
            "91a057fcd957494387d2c1c2b1593c9c",
            "11ba3df39ec044689758ffb8812ce6a1",
            "ea64eeecc3724cf2817f78cddd6b3ca6",
            "b5ebd207dc834f048f83da96484fd12a",
            "bfd0aab693434b6fa932fc2f32236847",
            "2d6d7fd973f94265b5e4c7d76e6370c8",
            "cb9a618190d04f4b9786d18cae0d9edb",
            "e6274a2ef9f7490393ab500939285516",
            "ee44f9680cca4e5e82cc2ae8fe178bef",
            "9a4f8185a0ce46e68346a3d10bdf5a10"
          ]
        },
        "id": "LZRE7KCpkg-7",
        "outputId": "96471606-3061-4519-89e3-db176cb63d00"
      },
      "execution_count": 20,
      "outputs": [
        {
          "output_type": "display_data",
          "data": {
            "text/plain": [
              "  0%|          | 0/19007 [00:00<?, ?it/s]"
            ],
            "application/vnd.jupyter.widget-view+json": {
              "version_major": 2,
              "version_minor": 0,
              "model_id": "42d6ea6c769e4ede9ecc441bd81df8c7"
            }
          },
          "metadata": {}
        }
      ]
    },
    {
      "cell_type": "code",
      "execution_count": 21,
      "metadata": {
        "colab": {
          "base_uri": "https://localhost:8080/",
          "height": 49,
          "referenced_widgets": [
            "e6094f40352242a7a15350de28d2692e",
            "4248bf735d0e427aabfb7e4ece08a1c7",
            "f8ec9db62d68489d83f3057fd5372d64",
            "755286b50e3b4a6d9ac6d66014d96f5c",
            "5777c80e34b94ee68ce4d12a7f8d24a6",
            "fc97662c31f94ed8b590485f7868ecce",
            "9429130684ed4a709099bcd991936669",
            "77137ba839b64225b6075f73844a48f8",
            "6be7fb30996542c8b756a812e35f9048",
            "9bf5661afd6144fdbdf5547a842b064f",
            "3cdee7be5a7f404aa9e6dffd9a742a4e"
          ]
        },
        "id": "VYsJxv9p0s9c",
        "outputId": "98c64aa0-1e9d-4b08-ba7e-c5f7ae341f8f"
      },
      "outputs": [
        {
          "output_type": "display_data",
          "data": {
            "text/plain": [
              "  0%|          | 0/19994 [00:00<?, ?it/s]"
            ],
            "application/vnd.jupyter.widget-view+json": {
              "version_major": 2,
              "version_minor": 0,
              "model_id": "e6094f40352242a7a15350de28d2692e"
            }
          },
          "metadata": {}
        }
      ],
      "source": [
        "def expand_urls(text,urls):\n",
        "  \"\"\"Remplaza todas las URLS por su forma extendida\"\"\"\n",
        "  for url in urls:\n",
        "    text = text.replace(url,url_map[url])\n",
        "  return text\n",
        "\n",
        "df.text = df.progress_apply(lambda x: expand_urls(x[\"text\"],x[\"urls\"]) if x[\"urls\"] else x[\"text\"],axis=1)"
      ]
    },
    {
      "cell_type": "markdown",
      "metadata": {
        "id": "39fhSRm7NvkT"
      },
      "source": [
        "# Modelos"
      ]
    },
    {
      "cell_type": "markdown",
      "source": [
        "En esta sección exploraremos diferentes modelos para la clasificación de tweet toxicos."
      ],
      "metadata": {
        "id": "ssx223fDxVXo"
      }
    },
    {
      "cell_type": "markdown",
      "source": [
        "## Métricas"
      ],
      "metadata": {
        "id": "Gpc8_K5nrPE5"
      }
    },
    {
      "cell_type": "markdown",
      "source": [
        "La taréa de clasificación multiclase suele evaluarse con la media de las metricas de clasificación binaria para cada una de las clases. Sin embargo nuestra tarea tiene una peculiaridad, las clases estan **ordenadas**. No es el mismo error considerar un tweet con _decibelios altos_ como _nulo_ que confundir un tweet con _decibelios suaves_ por cualquiera de las otras clases. Para reflejar esta particularidad usaremos también una métrica de regresión, el error medio cuadrado (MSE) para evaluar nuestros modelos.\n"
      ],
      "metadata": {
        "id": "Dvk6h8Wgxj_c"
      }
    },
    {
      "cell_type": "code",
      "execution_count": null,
      "metadata": {
        "id": "msHidbrhNyjf"
      },
      "outputs": [],
      "source": [
        "from sklearn.metrics import (\n",
        "  precision_score,\n",
        "  recall_score,\n",
        "  f1_score,\n",
        "  mean_squared_error,\n",
        "  ConfusionMatrixDisplay,\n",
        "  classification_report,\n",
        "  confusion_matrix\n",
        ")\n",
        "\n",
        "\n",
        "def report_performance(y_true,y_pred):\n",
        "  display = ConfusionMatrixDisplay.from_predictions(\n",
        "    y_true,\n",
        "    y_pred,\n",
        "    normalize=\"true\",\n",
        "    display_labels=[\"Nulo\",\"Decibelios suaves\", \"Decibelios Fuertes\"]\n",
        "  )\n",
        "\n",
        "  (true_0, false_0_1, false_0_2,\n",
        "   false_1_0, true_1, false_1_2,\n",
        "   false_2_0, false_2_1, true_2_2) = display.confusion_matrix.ravel()\n",
        "\n",
        "  results = {\n",
        "    \"Precision_macro\": precision_score(y_true,y_pred,average=\"macro\"),\n",
        "    \"Recall_macro\": recall_score(y_true,y_pred,average=\"macro\"),\n",
        "    \"F1_macro\": f1_score(y_true,y_pred,average=\"macro\"),\n",
        "    \"MSE\" :mean_squared_error(y_true,y_pred),\n",
        "    \"true_0\":true_0,\n",
        "    \"false_0_1\":false_0_1,\n",
        "    \"false_0_2\":false_0_2,\n",
        "    \"false_1_0\":false_1_0,\n",
        "    \"true_1\":true_1,\n",
        "    \"false_1_2\":false_1_2,\n",
        "    \"false_2_0\":false_2_0,\n",
        "    \"false_2_1\":false_2_1,\n",
        "    \"true_2\":true_2_2\n",
        "  }\n",
        "\n",
        "  if use_wandb and wandb.run is not None:\n",
        "    wandb.log({\n",
        "      f\"test/{metric}\":score for metric,score in results.items()\n",
        "  })\n",
        "\n",
        "  return (results,display)\n",
        "  "
      ]
    },
    {
      "cell_type": "markdown",
      "metadata": {
        "id": "3MjIwK_wosoo"
      },
      "source": [
        "## Baseline"
      ]
    },
    {
      "cell_type": "markdown",
      "source": [
        "Antes de introducir la exploración de modelos es conveniente definir un modelo lo mas sencillo posible con el que comparar nuestros resultados. Para ello definiremos tres _baselines_:\n",
        "* _mayority_: Todas los tweets con categorizados con la clase mayoritaria del conjunto de entrenamiento\n",
        "* _uniform_: Por cada tweet escojemos una clase. La probabilidad de escojer cualquiera de las clases es igual a $\\frac{1}{|clases|}$\n",
        "* _prior_: Por cada tweet escojemos una clase. La probabilidad de escojer cada clase es igual a $\\frac{\\text{number of tweets from class in train}}{\\text{number of tweets in train}}$"
      ],
      "metadata": {
        "id": "uGbzXWX-zTt8"
      }
    },
    {
      "cell_type": "code",
      "execution_count": 23,
      "metadata": {
        "id": "KCDU9KVaWlrE"
      },
      "outputs": [],
      "source": [
        "all_predictions = {\n",
        "\t\"mayority_baseline\" : [0]*len(test),\n",
        "\t\"uniform_baseline\" : np.random.choice(3, len(test)),\n",
        "\t\"prior_baseline\" : np.random.choice(3, len(test), p=train.label.value_counts(normalize=True).sort_index().values)\n",
        "}\n",
        "\n",
        "results = {}\n",
        "displays = {}\n"
      ]
    },
    {
      "cell_type": "code",
      "execution_count": 24,
      "metadata": {
        "id": "zEm36yniD0wD"
      },
      "outputs": [],
      "source": [
        "%%capture\n",
        "for baseline,predictions in all_predictions.items():\n",
        "  result,disp = report_performance(test.label,predictions)\n",
        "  results[baseline] = result\n",
        "  \n",
        "  displays[baseline] = disp"
      ]
    },
    {
      "cell_type": "code",
      "execution_count": 68,
      "metadata": {
        "colab": {
          "base_uri": "https://localhost:8080/",
          "height": 460
        },
        "id": "7CEliUfOWAZ2",
        "outputId": "47698023-3fca-4689-dc3b-700e37ebdde0"
      },
      "outputs": [
        {
          "output_type": "display_data",
          "data": {
            "text/plain": [
              "<Figure size 1200x800 with 3 Axes>"
            ],
            "image/png": "[encoded data removed]"
          },
          "metadata": {
            "needs_background": "light"
          }
        }
      ],
      "source": [
        "fig, axs = plt.subplots(1, 3, sharey='row')\n",
        "for ax,(baseline,disp) in zip(axs,displays.items()):\n",
        "  disp.plot(ax=ax, xticks_rotation=90)\n",
        "  disp.ax_.set_title(baseline)\n",
        "  disp.im_.colorbar.remove()\n",
        "plt.subplots_adjust(wspace=0.40, hspace=0.1)"
      ]
    },
    {
      "cell_type": "code",
      "execution_count": 26,
      "metadata": {
        "colab": {
          "base_uri": "https://localhost:8080/",
          "height": 144
        },
        "id": "xbVatScpVMSf",
        "outputId": "719e4deb-2dbc-4d21-834f-3f3062ea35b3"
      },
      "outputs": [
        {
          "output_type": "execute_result",
          "data": {
            "text/plain": [
              "                   Precision_macro  Recall_macro  F1_macro     MSE    true_0  \\\n",
              "mayority_baseline         0.261567      0.333333  0.293121  0.3923  1.000000   \n",
              "uniform_baseline          0.331247      0.321481  0.257234  1.4979  0.333376   \n",
              "prior_baseline            0.330796      0.330427  0.309923  1.0412  0.722442   \n",
              "\n",
              "                   false_0_1  false_0_2  false_1_0   true_1  false_1_2  \\\n",
              "mayority_baseline   0.000000   0.000000   1.000000  0.00000   0.000000   \n",
              "uniform_baseline    0.338856   0.327769   0.334613  0.34293   0.322457   \n",
              "prior_baseline      0.064228   0.213330   0.725528  0.06206   0.212412   \n",
              "\n",
              "                   false_2_0  false_2_1    true_2  \n",
              "mayority_baseline   1.000000   0.000000  0.000000  \n",
              "uniform_baseline    0.330508   0.381356  0.288136  \n",
              "prior_baseline      0.722034   0.071186  0.206780  "
            ],
            "text/html": [
              "\n",
              "  <div id=\"df-0d05c407-1d4c-4ee6-96f5-a42aa0c00022\">\n",
              "    <div class=\"colab-df-container\">\n",
              "      <div>\n",
              "<style scoped>\n",
              "    .dataframe tbody tr th:only-of-type {\n",
              "        vertical-align: middle;\n",
              "    }\n",
              "\n",
              "    .dataframe tbody tr th {\n",
              "        vertical-align: top;\n",
              "    }\n",
              "\n",
              "    .dataframe thead th {\n",
              "        text-align: right;\n",
              "    }\n",
              "</style>\n",
              "<table border=\"1\" class=\"dataframe\">\n",
              "  <thead>\n",
              "    <tr style=\"text-align: right;\">\n",
              "      <th></th>\n",
              "      <th>Precision_macro</th>\n",
              "      <th>Recall_macro</th>\n",
              "      <th>F1_macro</th>\n",
              "      <th>MSE</th>\n",
              "      <th>true_0</th>\n",
              "      <th>false_0_1</th>\n",
              "      <th>false_0_2</th>\n",
              "      <th>false_1_0</th>\n",
              "      <th>true_1</th>\n",
              "      <th>false_1_2</th>\n",
              "      <th>false_2_0</th>\n",
              "      <th>false_2_1</th>\n",
              "      <th>true_2</th>\n",
              "    </tr>\n",
              "  </thead>\n",
              "  <tbody>\n",
              "    <tr>\n",
              "      <th>mayority_baseline</th>\n",
              "      <td>0.261567</td>\n",
              "      <td>0.333333</td>\n",
              "      <td>0.293121</td>\n",
              "      <td>0.3923</td>\n",
              "      <td>1.000000</td>\n",
              "      <td>0.000000</td>\n",
              "      <td>0.000000</td>\n",
              "      <td>1.000000</td>\n",
              "      <td>0.00000</td>\n",
              "      <td>0.000000</td>\n",
              "      <td>1.000000</td>\n",
              "      <td>0.000000</td>\n",
              "      <td>0.000000</td>\n",
              "    </tr>\n",
              "    <tr>\n",
              "      <th>uniform_baseline</th>\n",
              "      <td>0.331247</td>\n",
              "      <td>0.321481</td>\n",
              "      <td>0.257234</td>\n",
              "      <td>1.4979</td>\n",
              "      <td>0.333376</td>\n",
              "      <td>0.338856</td>\n",
              "      <td>0.327769</td>\n",
              "      <td>0.334613</td>\n",
              "      <td>0.34293</td>\n",
              "      <td>0.322457</td>\n",
              "      <td>0.330508</td>\n",
              "      <td>0.381356</td>\n",
              "      <td>0.288136</td>\n",
              "    </tr>\n",
              "    <tr>\n",
              "      <th>prior_baseline</th>\n",
              "      <td>0.330796</td>\n",
              "      <td>0.330427</td>\n",
              "      <td>0.309923</td>\n",
              "      <td>1.0412</td>\n",
              "      <td>0.722442</td>\n",
              "      <td>0.064228</td>\n",
              "      <td>0.213330</td>\n",
              "      <td>0.725528</td>\n",
              "      <td>0.06206</td>\n",
              "      <td>0.212412</td>\n",
              "      <td>0.722034</td>\n",
              "      <td>0.071186</td>\n",
              "      <td>0.206780</td>\n",
              "    </tr>\n",
              "  </tbody>\n",
              "</table>\n",
              "</div>\n",
              "      <button class=\"colab-df-convert\" onclick=\"convertToInteractive('df-0d05c407-1d4c-4ee6-96f5-a42aa0c00022')\"\n",
              "              title=\"Convert this dataframe to an interactive table.\"\n",
              "              style=\"display:none;\">\n",
              "        \n",
              "  <svg xmlns=\"http://www.w3.org/2000/svg\" height=\"24px\"viewBox=\"0 0 24 24\"\n",
              "       width=\"24px\">\n",
              "    <path d=\"M0 0h24v24H0V0z\" fill=\"none\"/>\n",
              "    <path d=\"M18.56 5.44l.94 2.06.94-2.06 2.06-.94-2.06-.94-.94-2.06-.94 2.06-2.06.94zm-11 1L8.5 8.5l.94-2.06 2.06-.94-2.06-.94L8.5 2.5l-.94 2.06-2.06.94zm10 10l.94 2.06.94-2.06 2.06-.94-2.06-.94-.94-2.06-.94 2.06-2.06.94z\"/><path d=\"M17.41 7.96l-1.37-1.37c-.4-.4-.92-.59-1.43-.59-.52 0-1.04.2-1.43.59L10.3 9.45l-7.72 7.72c-.78.78-.78 2.05 0 2.83L4 21.41c.39.39.9.59 1.41.59.51 0 1.02-.2 1.41-.59l7.78-7.78 2.81-2.81c.8-.78.8-2.07 0-2.86zM5.41 20L4 18.59l7.72-7.72 1.47 1.35L5.41 20z\"/>\n",
              "  </svg>\n",
              "      </button>\n",
              "      \n",
              "  <style>\n",
              "    .colab-df-container {\n",
              "      display:flex;\n",
              "      flex-wrap:wrap;\n",
              "      gap: 12px;\n",
              "    }\n",
              "\n",
              "    .colab-df-convert {\n",
              "      background-color: #E8F0FE;\n",
              "      border: none;\n",
              "      border-radius: 50%;\n",
              "      cursor: pointer;\n",
              "      display: none;\n",
              "      fill: #1967D2;\n",
              "      height: 32px;\n",
              "      padding: 0 0 0 0;\n",
              "      width: 32px;\n",
              "    }\n",
              "\n",
              "    .colab-df-convert:hover {\n",
              "      background-color: #E2EBFA;\n",
              "      box-shadow: 0px 1px 2px rgba(60, 64, 67, 0.3), 0px 1px 3px 1px rgba(60, 64, 67, 0.15);\n",
              "      fill: #174EA6;\n",
              "    }\n",
              "\n",
              "    [theme=dark] .colab-df-convert {\n",
              "      background-color: #3B4455;\n",
              "      fill: #D2E3FC;\n",
              "    }\n",
              "\n",
              "    [theme=dark] .colab-df-convert:hover {\n",
              "      background-color: #434B5C;\n",
              "      box-shadow: 0px 1px 3px 1px rgba(0, 0, 0, 0.15);\n",
              "      filter: drop-shadow(0px 1px 2px rgba(0, 0, 0, 0.3));\n",
              "      fill: #FFFFFF;\n",
              "    }\n",
              "  </style>\n",
              "\n",
              "      <script>\n",
              "        const buttonEl =\n",
              "          document.querySelector('#df-0d05c407-1d4c-4ee6-96f5-a42aa0c00022 button.colab-df-convert');\n",
              "        buttonEl.style.display =\n",
              "          google.colab.kernel.accessAllowed ? 'block' : 'none';\n",
              "\n",
              "        async function convertToInteractive(key) {\n",
              "          const element = document.querySelector('#df-0d05c407-1d4c-4ee6-96f5-a42aa0c00022');\n",
              "          const dataTable =\n",
              "            await google.colab.kernel.invokeFunction('convertToInteractive',\n",
              "                                                     [key], {});\n",
              "          if (!dataTable) return;\n",
              "\n",
              "          const docLinkHtml = 'Like what you see? Visit the ' +\n",
              "            '<a target=\"_blank\" href=https://colab.research.google.com/notebooks/data_table.ipynb>data table notebook</a>'\n",
              "            + ' to learn more about interactive tables.';\n",
              "          element.innerHTML = '';\n",
              "          dataTable['output_type'] = 'display_data';\n",
              "          await google.colab.output.renderOutput(dataTable, element);\n",
              "          const docLink = document.createElement('div');\n",
              "          docLink.innerHTML = docLinkHtml;\n",
              "          element.appendChild(docLink);\n",
              "        }\n",
              "      </script>\n",
              "    </div>\n",
              "  </div>\n",
              "  "
            ]
          },
          "metadata": {},
          "execution_count": 26
        }
      ],
      "source": [
        "pd.DataFrame(results).T"
      ]
    },
    {
      "cell_type": "markdown",
      "metadata": {
        "id": "UEXR9GCG5mXU"
      },
      "source": [
        "## Finetune"
      ]
    },
    {
      "cell_type": "markdown",
      "source": [
        "El modelo que usaremos para fintunear es Twitter-XLM-Roberta-base [Barbieri et.al., 2022]. Es un modelo multilingue entrenado usando 12G de tweets en 100 lenguas entre los que se incluyen los idiomas castellano, catalán y vasco. Este modelo no se ha entrenado de cero si no que inicializa sus pesos usando el modelo XLM-RoBERTa [Conneau et.al, 2019]"
      ],
      "metadata": {
        "id": "a_uC0C0h0jzM"
      }
    },
    {
      "cell_type": "markdown",
      "source": [
        "Durante nuestra exploración de modelos **no** haremos una exploración de hiperparametros. Los recursos de GPU de google colab son limitados y hay variaciones mas interesantes que cambiar el _learning rate_ o el _batch size_. En concreto probaremos a cambiar la tarea de entrenamiento (i.e. la representación de las labels y la función de perdida con la que entrenamos).\n",
        "\n",
        "A continuación exponemos las tres approximaciones que usaremos "
      ],
      "metadata": {
        "id": "gyv9pLj1BL8W"
      }
    },
    {
      "cell_type": "markdown",
      "source": [
        "### Clasificación Multiclase\n",
        "\n",
        "En esta solución cada clase se representa como un vector one-hot $y$ donde $y_i=1$, $y_j=0, j\\ne1$ si el ejemplo es de la clase $i$. Los logits que el modelo produzca se interpretan como una distribución de probabilidad sobre las clases.\n",
        "\n",
        "Para atacar al problema del desbalance de clases podemos añadir pesos a la función de perdida de forma que todas las clases tengan el mismo peso en el entrenamiento."
      ],
      "metadata": {
        "id": "Nz6h6PR1Pwdq"
      }
    },
    {
      "cell_type": "markdown",
      "source": [
        "### Regresión\n",
        "En esta solución la clase se representa como un numero decimal. El modelo produce un solo output para cada ejemplo."
      ],
      "metadata": {
        "id": "JwOvK3G5ROd4"
      }
    },
    {
      "cell_type": "markdown",
      "source": [
        "### Regresión Ordinal\n",
        "La regresión ordinal es la tarea donde se asigna un conjunto de datos a un set de categorías ordenadas. Siguiendo [Cheng, 2007] codificaremos las clases como un vector $y$ de $1-\\text{|clases|}$ donde $y_i=1$ si $i$ es menor que la clase.En nuestra tarea la clase 0 se codificaría como [0,0], la clase 1 como [1,0] y la clase 2 como [1,1]. El valor $i$ del vector de logits del modelo se interpreta como la probabilidad sin normalizar. \n"
      ],
      "metadata": {
        "id": "XGFB6_3gRVqq"
      }
    },
    {
      "cell_type": "markdown",
      "source": [
        "### Dataset de desarollo"
      ],
      "metadata": {
        "id": "1EkBVxX2TkuM"
      }
    },
    {
      "cell_type": "markdown",
      "source": [
        "Para evaluar los modelos usamos un metodo hold-out dividiendo el datasetde entrenamiento en dos splits:\n",
        "\n",
        "* 70% para el conjunto de entrenamiento con el que haremos el finetune.\n",
        "* 30% para el conjunto de validación/desarollo con el que poder escoger el mejor checkpoint durante el entrenamiento.\n",
        "\n",
        "Es importante que al dividir los conjuntos la distribución de cada uno siga siendo similar a la del dataset original. Para ello dividimos de forma estratificada basandos en el número de ejempos de cada clase."
      ],
      "metadata": {
        "id": "XDajKaKSiXJS"
      }
    },
    {
      "cell_type": "markdown",
      "source": [
        "### Detalles de implementación\n",
        "\n",
        "Para finetunear los modelos usaremos el método ```Trainer``` de la librería [🤗 Huggingface Transformers](https://huggingface.co/docs/transformers/main_classes/trainer). Esta clase es una abstración del proceso de entrenamiento que facilita el desarrollo de los modelos pero esconde gran parte de los detalles técnicos. Entre otras cosas, la clase ```Trainer``` junto al resto del ecosistema de ```transformers``` se encarga por ejemplo, de:\n",
        "* Alocar los ejemplos y el modelo en el dispositivo adecuado (gpu si esta disponible).\n",
        "* [Escoger la función](https://github.com/huggingface/transformers/blob/bd469c40659ce76c81f69c7726759d249b4aef49/src/transformers/models/roberta/modeling_roberta.py#L1217) de perdida en base al numero de labels del modelo o al formato de estas.\n",
        " * ```MSELoss``` para tareas de regresión\n",
        " * ```CrossEntropyLoss``` para clasificación multiclase\n",
        " * ```BCEWithLogitsLoss``` para clasificación multilabel o regresión ordinal\n",
        "* Instanciar el optimizador. Por defecto  ```AdamW```.\n"
      ],
      "metadata": {
        "id": "0gF3IGIZUJNZ"
      }
    },
    {
      "cell_type": "code",
      "execution_count": 27,
      "metadata": {
        "id": "QYX7dryBa-oU"
      },
      "outputs": [],
      "source": [
        "from sklearn.model_selection import train_test_split\n",
        "\n",
        "def split_and_encode(df:pd.DataFrame):\n",
        "  \"\"\"Transforma el DataFrame original en tres Datasets tokenizados\"\"\"\n",
        "\n",
        "  train = df[df.split==\"train\"]\n",
        "  test = df[df.split==\"test\"]\n",
        "\n",
        "  # Split data\n",
        "  train_text, val_text, train_labels, val_labels = train_test_split(\n",
        "    train['text'], train['label'], test_size=0.3, random_state=0\n",
        "  )\n",
        "\n",
        "  # Data to Huggingface Datasets\n",
        "  train_dataset = datasets.Dataset.from_dict({'text':train_text,'labels':train_labels})\n",
        "  dev_dataset = datasets.Dataset.from_dict({'text':val_text,'labels':val_labels})\n",
        "  test_dataset = datasets.Dataset.from_dict({'text':test.text,'labels':test.label})\n",
        "\n",
        "  # Group Data\n",
        "  splits = datasets.DatasetDict({\n",
        "      'train':train_dataset,\n",
        "      'dev':dev_dataset,\n",
        "      'test':test_dataset\n",
        "  })\n",
        "  \n",
        "  # Tokenize\n",
        "  encoded_dataset = splits.map(lambda example: tokenizer(example['text'],truncation=True), batched=True)\n",
        "\n",
        "  return encoded_dataset"
      ]
    },
    {
      "cell_type": "code",
      "source": [
        "weights = train.label.value_counts(normalize=True).sort_index().values\n",
        "weights = 1- torch.tensor(weights).to(torch.float32)\n",
        "class WeightedTrainer(Trainer):\n",
        "  \"\"\"Añade pesos a la función de perdida para clasificación multiclase\"\"\"\n",
        "  def compute_loss(self, model, inputs, return_outputs=False):\n",
        "    labels = inputs.pop(\"labels\")\n",
        "    # forward pass\n",
        "    outputs = model(**inputs)\n",
        "    logits = outputs.get(\"logits\")\n",
        "    # compute custom loss (suppose one has 3 labels with different weights)\n",
        "    # We could move the tensor once but it will remain in memory after the\n",
        "    # training\n",
        "    loss_fct = torch.nn.CrossEntropyLoss(weight=weights.to(logits.device))\n",
        "    loss = loss_fct(logits.view(-1, self.model.config.num_labels), labels.view(-1))\n",
        "    return (loss, outputs) if return_outputs else loss\n",
        "\n",
        "\n",
        "class OrdinalTrainer(Trainer):\n",
        "  \"\"\"CrossEntropy Binary loss para clasificación multilabel\"\"\"\n",
        "  def compute_loss(self, model, inputs, return_outputs=False):\n",
        "    labels = inputs.pop(\"labels\")\n",
        "    # forward pass\n",
        "    outputs = model(**inputs)\n",
        "    logits = outputs.get(\"logits\")\n",
        "    loss_fct = torch.nn.BCEWithLogitsLoss()\n",
        "    loss = loss_fct(logits, labels.to(torch.float32))\n",
        "    return (loss, outputs) if return_outputs else loss"
      ],
      "metadata": {
        "id": "4a0XkRx29GER"
      },
      "execution_count": 28,
      "outputs": []
    },
    {
      "cell_type": "code",
      "source": [
        "num_labels = {\n",
        "    \"multiclass\":3,\n",
        "    \"multiclass_w\":3,\n",
        "    \"regression\":1,\n",
        "    \"ordinal_regression\":2\n",
        "}\n",
        "\n",
        "def get_encoded_data(task: str):\n",
        "  \"\"\"Transforma las labels en el formato de la tarea y tokeniza el dataset\"\"\"\n",
        "  _df = df.copy()\n",
        "\n",
        "  if task == \"multiclass\" or task == \"multiclass_w\":\n",
        "    _df.label = _df.label.apply(int)\n",
        "\n",
        "  elif task == \"regression\":\n",
        "    _df.label = _df.label.apply(float)\n",
        "\n",
        "  elif task == \"ordinal_regression\":\n",
        "    _df.label = _df.label.apply(lambda label: [1 if i<label else 0 for i in range(2)])\n",
        "\n",
        "  encoded_dataset = split_and_encode(_df)\n",
        "  return encoded_dataset\n",
        "\n",
        "\n",
        "def get_trainer(task: str):\n",
        "  \"\"\"Devuelve el Trainer correspondiente en base a la tarea\"\"\"\n",
        "  if task == \"multiclass_w\":\n",
        "    trainer_class = WeightedTrainer\n",
        "\n",
        "  elif task == \"ordinal_regression\":\n",
        "    trainer_class = OrdinalTrainer\n",
        "\n",
        "  else:\n",
        "    trainer_class = Trainer\n",
        "  \n",
        "  return trainer_class\n",
        "\n",
        "\n",
        "def decode_predictions(\n",
        "  predictions:torch.Tensor,\n",
        "  task:str\n",
        "):\n",
        "  \"\"\"Decodifica las predicciones\"\"\"\n",
        "  y_pred = None\n",
        "\n",
        "  if task == \"multiclass\" or task == \"multiclass_w\":\n",
        "    y_pred = predictions.argmax(axis=1)\n",
        "\n",
        "  elif task == \"regression\":\n",
        "    y_pred = predictions.squeeze().round().astype(int)\n",
        "\n",
        "  elif task == \"ordinal_regression\":\n",
        "    prob = torch.nn.Sigmoid()(torch.Tensor(predictions))\n",
        "    y_pred = (prob > 0.5).int().sum(axis=-1)\n",
        "\n",
        "  return y_pred\n",
        "\n",
        "def train_and_predict(task: str):\n",
        "  \"\"\"Codifica los datos y entrena el modelo y calcula las perdicciones\"\"\"\n",
        "  print(f\"Entrenando modelo de {task}\")\n",
        "\n",
        "  print(\"Codificando los datos\")\n",
        "  encoded_dataset = get_encoded_data(task)\n",
        "  trainer_class = get_trainer(task)\n",
        "\n",
        "  model_pretrained = AutoModelForSequenceClassification.from_pretrained(\n",
        "    model_checkpoint,\n",
        "    num_labels=num_labels[task]\n",
        "  )\n",
        "  args[\"run_name\"] = task\n",
        "  args[\"output_dir\"] = task\n",
        "\n",
        "  trainer = trainer_class(\n",
        "    model_pretrained,\n",
        "    TrainingArguments(**args),\n",
        "    train_dataset=encoded_dataset[\"train\"],\n",
        "    eval_dataset=encoded_dataset[\"dev\"],\n",
        "    tokenizer=tokenizer,\n",
        "  )\n",
        "\n",
        "  trainer.train()\n",
        "  clean_gpu()\n",
        "\n",
        "  predictions = trainer.predict(encoded_dataset[\"test\"])\n",
        "  return predictions\n"
      ],
      "metadata": {
        "id": "r14JPsez6dx6"
      },
      "execution_count": 42,
      "outputs": []
    },
    {
      "cell_type": "code",
      "source": [
        "for task in [\"multiclass\",\"multiclass_w\",\"regression\",\"ordinal_regression\"]:\n",
        "  if task in results:\n",
        "    continue\n",
        "  predictions = train_and_predict(task)\n",
        "  y_pred = decode_predictions(predictions.predictions,task)\n",
        "  scores,cm = report_performance(test.label,y_pred)\n",
        "  end_run()\n",
        "  \n",
        "  all_predictions[task] = y_pred\n",
        "  results[task] = scores\n",
        "  displays[task] = cm"
      ],
      "metadata": {
        "id": "OaoG5-B6HJVl"
      },
      "execution_count": 44,
      "outputs": []
    },
    {
      "cell_type": "markdown",
      "source": [
        "## Resultados"
      ],
      "metadata": {
        "id": "wKH9F_W0u8Cf"
      }
    },
    {
      "cell_type": "code",
      "source": [
        "pd.DataFrame(results).T.sort_values(by=\"F1_macro\",ascending=False).style.background_gradient(axis=0, low=0, high=0.5) "
      ],
      "metadata": {
        "id": "vHaBxwUb4uaq",
        "colab": {
          "base_uri": "https://localhost:8080/",
          "height": 269
        },
        "outputId": "02181a99-9f29-4636-ea94-30de5ccb804f"
      },
      "execution_count": 45,
      "outputs": [
        {
          "output_type": "execute_result",
          "data": {
            "text/plain": [
              "<pandas.io.formats.style.Styler at 0x7fe9667e4250>"
            ],
            "text/html": [
              "<style type=\"text/css\">\n",
              "#T_840c0_row0_col0, #T_840c0_row0_col1, #T_840c0_row0_col2, #T_840c0_row1_col1, #T_840c0_row2_col1, #T_840c0_row2_col9, #T_840c0_row2_col12, #T_840c0_row5_col4, #T_840c0_row5_col7, #T_840c0_row5_col10, #T_840c0_row6_col3, #T_840c0_row6_col5, #T_840c0_row6_col6, #T_840c0_row6_col8, #T_840c0_row6_col11 {\n",
              "  background-color: #2685bb;\n",
              "  color: #f1f1f1;\n",
              "}\n",
              "#T_840c0_row0_col3, #T_840c0_row2_col10, #T_840c0_row3_col5, #T_840c0_row3_col8, #T_840c0_row3_col11, #T_840c0_row5_col0, #T_840c0_row5_col5, #T_840c0_row5_col6, #T_840c0_row5_col8, #T_840c0_row5_col9, #T_840c0_row5_col11, #T_840c0_row5_col12, #T_840c0_row6_col1, #T_840c0_row6_col2, #T_840c0_row6_col4, #T_840c0_row6_col7 {\n",
              "  background-color: #fff7fb;\n",
              "  color: #000000;\n",
              "}\n",
              "#T_840c0_row0_col4, #T_840c0_row3_col4 {\n",
              "  background-color: #4897c4;\n",
              "  color: #f1f1f1;\n",
              "}\n",
              "#T_840c0_row0_col5 {\n",
              "  background-color: #f1ebf4;\n",
              "  color: #000000;\n",
              "}\n",
              "#T_840c0_row0_col6, #T_840c0_row2_col11 {\n",
              "  background-color: #f6eff7;\n",
              "  color: #000000;\n",
              "}\n",
              "#T_840c0_row0_col7 {\n",
              "  background-color: #e9e5f1;\n",
              "  color: #000000;\n",
              "}\n",
              "#T_840c0_row0_col8, #T_840c0_row1_col9 {\n",
              "  background-color: #94b6d7;\n",
              "  color: #000000;\n",
              "}\n",
              "#T_840c0_row0_col9 {\n",
              "  background-color: #a9bfdc;\n",
              "  color: #000000;\n",
              "}\n",
              "#T_840c0_row0_col10 {\n",
              "  background-color: #fbf3f9;\n",
              "  color: #000000;\n",
              "}\n",
              "#T_840c0_row0_col11 {\n",
              "  background-color: #c2cbe2;\n",
              "  color: #000000;\n",
              "}\n",
              "#T_840c0_row0_col12 {\n",
              "  background-color: #60a1ca;\n",
              "  color: #f1f1f1;\n",
              "}\n",
              "#T_840c0_row1_col0 {\n",
              "  background-color: #348ebf;\n",
              "  color: #f1f1f1;\n",
              "}\n",
              "#T_840c0_row1_col2, #T_840c0_row3_col1 {\n",
              "  background-color: #358fc0;\n",
              "  color: #f1f1f1;\n",
              "}\n",
              "#T_840c0_row1_col3 {\n",
              "  background-color: #fdf5fa;\n",
              "  color: #000000;\n",
              "}\n",
              "#T_840c0_row1_col4 {\n",
              "  background-color: #4c99c5;\n",
              "  color: #f1f1f1;\n",
              "}\n",
              "#T_840c0_row1_col5 {\n",
              "  background-color: #f1ebf5;\n",
              "  color: #000000;\n",
              "}\n",
              "#T_840c0_row1_col6 {\n",
              "  background-color: #f2ecf5;\n",
              "  color: #000000;\n",
              "}\n",
              "#T_840c0_row1_col7, #T_840c0_row4_col11 {\n",
              "  background-color: #ede7f2;\n",
              "  color: #000000;\n",
              "}\n",
              "#T_840c0_row1_col8 {\n",
              "  background-color: #abbfdc;\n",
              "  color: #000000;\n",
              "}\n",
              "#T_840c0_row1_col10, #T_840c0_row5_col1 {\n",
              "  background-color: #fbf4f9;\n",
              "  color: #000000;\n",
              "}\n",
              "#T_840c0_row1_col11 {\n",
              "  background-color: #d3d4e7;\n",
              "  color: #000000;\n",
              "}\n",
              "#T_840c0_row1_col12 {\n",
              "  background-color: #549cc7;\n",
              "  color: #f1f1f1;\n",
              "}\n",
              "#T_840c0_row2_col0 {\n",
              "  background-color: #69a5cc;\n",
              "  color: #f1f1f1;\n",
              "}\n",
              "#T_840c0_row2_col2 {\n",
              "  background-color: #7eadd1;\n",
              "  color: #f1f1f1;\n",
              "}\n",
              "#T_840c0_row2_col3 {\n",
              "  background-color: #eee9f3;\n",
              "  color: #000000;\n",
              "}\n",
              "#T_840c0_row2_col4 {\n",
              "  background-color: #63a2cb;\n",
              "  color: #f1f1f1;\n",
              "}\n",
              "#T_840c0_row2_col5 {\n",
              "  background-color: #f4eef6;\n",
              "  color: #000000;\n",
              "}\n",
              "#T_840c0_row2_col6, #T_840c0_row6_col10 {\n",
              "  background-color: #dcdaeb;\n",
              "  color: #000000;\n",
              "}\n",
              "#T_840c0_row2_col7 {\n",
              "  background-color: #fef6fb;\n",
              "  color: #000000;\n",
              "}\n",
              "#T_840c0_row2_col8 {\n",
              "  background-color: #dfddec;\n",
              "  color: #000000;\n",
              "}\n",
              "#T_840c0_row3_col0 {\n",
              "  background-color: #c5cce3;\n",
              "  color: #000000;\n",
              "}\n",
              "#T_840c0_row3_col2 {\n",
              "  background-color: #9cb9d9;\n",
              "  color: #000000;\n",
              "}\n",
              "#T_840c0_row3_col3, #T_840c0_row5_col2 {\n",
              "  background-color: #f4edf6;\n",
              "  color: #000000;\n",
              "}\n",
              "#T_840c0_row3_col6 {\n",
              "  background-color: #e5e1ef;\n",
              "  color: #000000;\n",
              "}\n",
              "#T_840c0_row3_col7, #T_840c0_row4_col12 {\n",
              "  background-color: #e7e3f0;\n",
              "  color: #000000;\n",
              "}\n",
              "#T_840c0_row3_col9 {\n",
              "  background-color: #3b92c1;\n",
              "  color: #f1f1f1;\n",
              "}\n",
              "#T_840c0_row3_col10 {\n",
              "  background-color: #faf2f8;\n",
              "  color: #000000;\n",
              "}\n",
              "#T_840c0_row3_col12 {\n",
              "  background-color: #2a88bc;\n",
              "  color: #f1f1f1;\n",
              "}\n",
              "#T_840c0_row4_col0, #T_840c0_row6_col0 {\n",
              "  background-color: #e6e2ef;\n",
              "  color: #000000;\n",
              "}\n",
              "#T_840c0_row4_col1 {\n",
              "  background-color: #fcf4fa;\n",
              "  color: #000000;\n",
              "}\n",
              "#T_840c0_row4_col2 {\n",
              "  background-color: #eee8f3;\n",
              "  color: #000000;\n",
              "}\n",
              "#T_840c0_row4_col3 {\n",
              "  background-color: #96b6d7;\n",
              "  color: #000000;\n",
              "}\n",
              "#T_840c0_row4_col4 {\n",
              "  background-color: #a1bbda;\n",
              "  color: #000000;\n",
              "}\n",
              "#T_840c0_row4_col5 {\n",
              "  background-color: #ece7f2;\n",
              "  color: #000000;\n",
              "}\n",
              "#T_840c0_row4_col6 {\n",
              "  background-color: #8eb3d5;\n",
              "  color: #000000;\n",
              "}\n",
              "#T_840c0_row4_col7 {\n",
              "  background-color: #9fbad9;\n",
              "  color: #000000;\n",
              "}\n",
              "#T_840c0_row4_col8 {\n",
              "  background-color: #ede8f3;\n",
              "  color: #000000;\n",
              "}\n",
              "#T_840c0_row4_col9 {\n",
              "  background-color: #d0d1e6;\n",
              "  color: #000000;\n",
              "}\n",
              "#T_840c0_row4_col10 {\n",
              "  background-color: #80aed2;\n",
              "  color: #f1f1f1;\n",
              "}\n",
              "#T_840c0_row5_col3 {\n",
              "  background-color: #f7f0f7;\n",
              "  color: #000000;\n",
              "}\n",
              "#T_840c0_row6_col9 {\n",
              "  background-color: #a4bcda;\n",
              "  color: #000000;\n",
              "}\n",
              "#T_840c0_row6_col12 {\n",
              "  background-color: #d9d8ea;\n",
              "  color: #000000;\n",
              "}\n",
              "</style>\n",
              "<table id=\"T_840c0_\" class=\"dataframe\">\n",
              "  <thead>\n",
              "    <tr>\n",
              "      <th class=\"blank level0\" >&nbsp;</th>\n",
              "      <th class=\"col_heading level0 col0\" >Precision_macro</th>\n",
              "      <th class=\"col_heading level0 col1\" >Recall_macro</th>\n",
              "      <th class=\"col_heading level0 col2\" >F1_macro</th>\n",
              "      <th class=\"col_heading level0 col3\" >MSE</th>\n",
              "      <th class=\"col_heading level0 col4\" >true_0</th>\n",
              "      <th class=\"col_heading level0 col5\" >false_0_1</th>\n",
              "      <th class=\"col_heading level0 col6\" >false_0_2</th>\n",
              "      <th class=\"col_heading level0 col7\" >false_1_0</th>\n",
              "      <th class=\"col_heading level0 col8\" >true_1</th>\n",
              "      <th class=\"col_heading level0 col9\" >false_1_2</th>\n",
              "      <th class=\"col_heading level0 col10\" >false_2_0</th>\n",
              "      <th class=\"col_heading level0 col11\" >false_2_1</th>\n",
              "      <th class=\"col_heading level0 col12\" >true_2</th>\n",
              "    </tr>\n",
              "  </thead>\n",
              "  <tbody>\n",
              "    <tr>\n",
              "      <th id=\"T_840c0_level0_row0\" class=\"row_heading level0 row0\" >regression</th>\n",
              "      <td id=\"T_840c0_row0_col0\" class=\"data row0 col0\" >0.563416</td>\n",
              "      <td id=\"T_840c0_row0_col1\" class=\"data row0 col1\" >0.626847</td>\n",
              "      <td id=\"T_840c0_row0_col2\" class=\"data row0 col2\" >0.565180</td>\n",
              "      <td id=\"T_840c0_row0_col3\" class=\"data row0 col3\" >0.286200</td>\n",
              "      <td id=\"T_840c0_row0_col4\" class=\"data row0 col4\" >0.920861</td>\n",
              "      <td id=\"T_840c0_row0_col5\" class=\"data row0 col5\" >0.049191</td>\n",
              "      <td id=\"T_840c0_row0_col6\" class=\"data row0 col6\" >0.029948</td>\n",
              "      <td id=\"T_840c0_row0_col7\" class=\"data row0 col7\" >0.474088</td>\n",
              "      <td id=\"T_840c0_row0_col8\" class=\"data row0 col8\" >0.215611</td>\n",
              "      <td id=\"T_840c0_row0_col9\" class=\"data row0 col9\" >0.310301</td>\n",
              "      <td id=\"T_840c0_row0_col10\" class=\"data row0 col10\" >0.089831</td>\n",
              "      <td id=\"T_840c0_row0_col11\" class=\"data row0 col11\" >0.166102</td>\n",
              "      <td id=\"T_840c0_row0_col12\" class=\"data row0 col12\" >0.744068</td>\n",
              "    </tr>\n",
              "    <tr>\n",
              "      <th id=\"T_840c0_level0_row1\" class=\"row_heading level0 row1\" >ordinal_regression</th>\n",
              "      <td id=\"T_840c0_row1_col0\" class=\"data row1 col0\" >0.547779</td>\n",
              "      <td id=\"T_840c0_row1_col1\" class=\"data row1 col1\" >0.626225</td>\n",
              "      <td id=\"T_840c0_row1_col2\" class=\"data row1 col2\" >0.546215</td>\n",
              "      <td id=\"T_840c0_row1_col3\" class=\"data row1 col3\" >0.319600</td>\n",
              "      <td id=\"T_840c0_row1_col4\" class=\"data row1 col4\" >0.912833</td>\n",
              "      <td id=\"T_840c0_row1_col5\" class=\"data row1 col5\" >0.046387</td>\n",
              "      <td id=\"T_840c0_row1_col6\" class=\"data row1 col6\" >0.040780</td>\n",
              "      <td id=\"T_840c0_row1_col7\" class=\"data row1 col7\" >0.456814</td>\n",
              "      <td id=\"T_840c0_row1_col8\" class=\"data row1 col8\" >0.186180</td>\n",
              "      <td id=\"T_840c0_row1_col9\" class=\"data row1 col9\" >0.357006</td>\n",
              "      <td id=\"T_840c0_row1_col10\" class=\"data row1 col10\" >0.084746</td>\n",
              "      <td id=\"T_840c0_row1_col11\" class=\"data row1 col11\" >0.135593</td>\n",
              "      <td id=\"T_840c0_row1_col12\" class=\"data row1 col12\" >0.779661</td>\n",
              "    </tr>\n",
              "    <tr>\n",
              "      <th id=\"T_840c0_level0_row2\" class=\"row_heading level0 row2\" >multiclass_w</th>\n",
              "      <td id=\"T_840c0_row2_col0\" class=\"data row2 col0\" >0.496896</td>\n",
              "      <td id=\"T_840c0_row2_col1\" class=\"data row2 col1\" >0.625998</td>\n",
              "      <td id=\"T_840c0_row2_col2\" class=\"data row2 col2\" >0.476300</td>\n",
              "      <td id=\"T_840c0_row2_col3\" class=\"data row2 col3\" >0.491000</td>\n",
              "      <td id=\"T_840c0_row2_col4\" class=\"data row2 col4\" >0.864662</td>\n",
              "      <td id=\"T_840c0_row2_col5\" class=\"data row2 col5\" >0.037467</td>\n",
              "      <td id=\"T_840c0_row2_col6\" class=\"data row2 col6\" >0.097872</td>\n",
              "      <td id=\"T_840c0_row2_col7\" class=\"data row2 col7\" >0.340371</td>\n",
              "      <td id=\"T_840c0_row2_col8\" class=\"data row2 col8\" >0.094690</td>\n",
              "      <td id=\"T_840c0_row2_col9\" class=\"data row2 col9\" >0.564939</td>\n",
              "      <td id=\"T_840c0_row2_col10\" class=\"data row2 col10\" >0.045763</td>\n",
              "      <td id=\"T_840c0_row2_col11\" class=\"data row2 col11\" >0.035593</td>\n",
              "      <td id=\"T_840c0_row2_col12\" class=\"data row2 col12\" >0.918644</td>\n",
              "    </tr>\n",
              "    <tr>\n",
              "      <th id=\"T_840c0_level0_row3\" class=\"row_heading level0 row3\" >multiclass</th>\n",
              "      <td id=\"T_840c0_row3_col0\" class=\"data row3 col0\" >0.390352</td>\n",
              "      <td id=\"T_840c0_row3_col1\" class=\"data row3 col1\" >0.607816</td>\n",
              "      <td id=\"T_840c0_row3_col2\" class=\"data row3 col2\" >0.442604</td>\n",
              "      <td id=\"T_840c0_row3_col3\" class=\"data row3 col3\" >0.425100</td>\n",
              "      <td id=\"T_840c0_row3_col4\" class=\"data row3 col4\" >0.921754</td>\n",
              "      <td id=\"T_840c0_row3_col5\" class=\"data row3 col5\" >0.000000</td>\n",
              "      <td id=\"T_840c0_row3_col6\" class=\"data row3 col6\" >0.078246</td>\n",
              "      <td id=\"T_840c0_row3_col7\" class=\"data row3 col7\" >0.479207</td>\n",
              "      <td id=\"T_840c0_row3_col8\" class=\"data row3 col8\" >0.000000</td>\n",
              "      <td id=\"T_840c0_row3_col9\" class=\"data row3 col9\" >0.520793</td>\n",
              "      <td id=\"T_840c0_row3_col10\" class=\"data row3 col10\" >0.098305</td>\n",
              "      <td id=\"T_840c0_row3_col11\" class=\"data row3 col11\" >0.000000</td>\n",
              "      <td id=\"T_840c0_row3_col12\" class=\"data row3 col12\" >0.901695</td>\n",
              "    </tr>\n",
              "    <tr>\n",
              "      <th id=\"T_840c0_level0_row4\" class=\"row_heading level0 row4\" >prior_baseline</th>\n",
              "      <td id=\"T_840c0_row4_col0\" class=\"data row4 col0\" >0.330796</td>\n",
              "      <td id=\"T_840c0_row4_col1\" class=\"data row4 col1\" >0.330427</td>\n",
              "      <td id=\"T_840c0_row4_col2\" class=\"data row4 col2\" >0.309923</td>\n",
              "      <td id=\"T_840c0_row4_col3\" class=\"data row4 col3\" >1.041200</td>\n",
              "      <td id=\"T_840c0_row4_col4\" class=\"data row4 col4\" >0.722442</td>\n",
              "      <td id=\"T_840c0_row4_col5\" class=\"data row4 col5\" >0.064228</td>\n",
              "      <td id=\"T_840c0_row4_col6\" class=\"data row4 col6\" >0.213330</td>\n",
              "      <td id=\"T_840c0_row4_col7\" class=\"data row4 col7\" >0.725528</td>\n",
              "      <td id=\"T_840c0_row4_col8\" class=\"data row4 col8\" >0.062060</td>\n",
              "      <td id=\"T_840c0_row4_col9\" class=\"data row4 col9\" >0.212412</td>\n",
              "      <td id=\"T_840c0_row4_col10\" class=\"data row4 col10\" >0.722034</td>\n",
              "      <td id=\"T_840c0_row4_col11\" class=\"data row4 col11\" >0.071186</td>\n",
              "      <td id=\"T_840c0_row4_col12\" class=\"data row4 col12\" >0.206780</td>\n",
              "    </tr>\n",
              "    <tr>\n",
              "      <th id=\"T_840c0_level0_row5\" class=\"row_heading level0 row5\" >mayority_baseline</th>\n",
              "      <td id=\"T_840c0_row5_col0\" class=\"data row5 col0\" >0.261567</td>\n",
              "      <td id=\"T_840c0_row5_col1\" class=\"data row5 col1\" >0.333333</td>\n",
              "      <td id=\"T_840c0_row5_col2\" class=\"data row5 col2\" >0.293121</td>\n",
              "      <td id=\"T_840c0_row5_col3\" class=\"data row5 col3\" >0.392300</td>\n",
              "      <td id=\"T_840c0_row5_col4\" class=\"data row5 col4\" >1.000000</td>\n",
              "      <td id=\"T_840c0_row5_col5\" class=\"data row5 col5\" >0.000000</td>\n",
              "      <td id=\"T_840c0_row5_col6\" class=\"data row5 col6\" >0.000000</td>\n",
              "      <td id=\"T_840c0_row5_col7\" class=\"data row5 col7\" >1.000000</td>\n",
              "      <td id=\"T_840c0_row5_col8\" class=\"data row5 col8\" >0.000000</td>\n",
              "      <td id=\"T_840c0_row5_col9\" class=\"data row5 col9\" >0.000000</td>\n",
              "      <td id=\"T_840c0_row5_col10\" class=\"data row5 col10\" >1.000000</td>\n",
              "      <td id=\"T_840c0_row5_col11\" class=\"data row5 col11\" >0.000000</td>\n",
              "      <td id=\"T_840c0_row5_col12\" class=\"data row5 col12\" >0.000000</td>\n",
              "    </tr>\n",
              "    <tr>\n",
              "      <th id=\"T_840c0_level0_row6\" class=\"row_heading level0 row6\" >uniform_baseline</th>\n",
              "      <td id=\"T_840c0_row6_col0\" class=\"data row6 col0\" >0.331247</td>\n",
              "      <td id=\"T_840c0_row6_col1\" class=\"data row6 col1\" >0.321481</td>\n",
              "      <td id=\"T_840c0_row6_col2\" class=\"data row6 col2\" >0.257234</td>\n",
              "      <td id=\"T_840c0_row6_col3\" class=\"data row6 col3\" >1.497900</td>\n",
              "      <td id=\"T_840c0_row6_col4\" class=\"data row6 col4\" >0.333376</td>\n",
              "      <td id=\"T_840c0_row6_col5\" class=\"data row6 col5\" >0.338856</td>\n",
              "      <td id=\"T_840c0_row6_col6\" class=\"data row6 col6\" >0.327769</td>\n",
              "      <td id=\"T_840c0_row6_col7\" class=\"data row6 col7\" >0.334613</td>\n",
              "      <td id=\"T_840c0_row6_col8\" class=\"data row6 col8\" >0.342930</td>\n",
              "      <td id=\"T_840c0_row6_col9\" class=\"data row6 col9\" >0.322457</td>\n",
              "      <td id=\"T_840c0_row6_col10\" class=\"data row6 col10\" >0.330508</td>\n",
              "      <td id=\"T_840c0_row6_col11\" class=\"data row6 col11\" >0.381356</td>\n",
              "      <td id=\"T_840c0_row6_col12\" class=\"data row6 col12\" >0.288136</td>\n",
              "    </tr>\n",
              "  </tbody>\n",
              "</table>\n"
            ]
          },
          "metadata": {},
          "execution_count": 45
        }
      ]
    },
    {
      "cell_type": "code",
      "source": [
        "fig, axs = plt.subplots(1, 4, sharey='row')\n",
        "axs = axs.ravel()\n",
        "for ax,run in zip(axs,[\"multiclass\",\"multiclass_w\",\"regression\",\"ordinal_regression\"]):\n",
        "  disp = displays[run]\n",
        "  disp.plot(ax=ax, xticks_rotation=90)\n",
        "  disp.ax_.set_title(run)\n",
        "  disp.im_.colorbar.remove()\n",
        "plt.subplots_adjust(wspace=0.4)"
      ],
      "metadata": {
        "colab": {
          "base_uri": "https://localhost:8080/",
          "height": 394
        },
        "id": "haBl5FOy5hOh",
        "outputId": "d8126ece-ab7c-455c-a668-00688c231d05"
      },
      "execution_count": 58,
      "outputs": [
        {
          "output_type": "display_data",
          "data": {
            "text/plain": [
              "<Figure size 1200x800 with 4 Axes>"
            ],
            "image/png": "[encoded data removed]"
          },
          "metadata": {
            "needs_background": "light"
          }
        }
      ]
    },
    {
      "cell_type": "code",
      "source": [
        "pd.DataFrame(results).to_csv(\"results.csv\")"
      ],
      "metadata": {
        "id": "bECCAVRw3QjO"
      },
      "execution_count": 32,
      "outputs": []
    },
    {
      "cell_type": "markdown",
      "source": [
        "Como podemos observar los dos modelos donde el orden juega un papel en la codificación de las clases (regresión y regresión ordinal) obtienen con diferencia los mejores resultados, tanto en _F1_macro_ como en _MSE_. Sin embargo los modelos de clasificación son mas precisos a la hora de identificar correctamente los ejemplos de las clases 0 y 2. Es interesante destacar el bajo porcentaje de fallos entre las clases 0 y 2. Sin embargo, todos los modelos tienen problemas a la hora de diferenciar entre la clase 1 y las demás. Este era uno de los problemas esperados que encontramos tras la exploración cualitativa de los datos.\n",
        "\n",
        "El modelo de regresión es el que mejor resultados obtiene por lo que escogeremos para el análisis de errores.  "
      ],
      "metadata": {
        "id": "wvyv0YfLWqAm"
      }
    },
    {
      "cell_type": "markdown",
      "source": [
        "Puede explorar las graficas de perdida respecto al tiempo asi como la evolución de otras variables en [wandb](https://wandb.ai/blozano/newtral_toxic_tweets?workspace=user-blozano)"
      ],
      "metadata": {
        "id": "06CzLFcVt-eD"
      }
    },
    {
      "cell_type": "markdown",
      "source": [
        "# Análisis"
      ],
      "metadata": {
        "id": "xL03c2rX7oA5"
      }
    },
    {
      "cell_type": "markdown",
      "source": [
        "En esta sección analizaremos los errores mas característicos que comete el modelo."
      ],
      "metadata": {
        "id": "BUTdhLiiYcWl"
      }
    },
    {
      "cell_type": "code",
      "source": [
        "results_df = pd.read_csv(\"predictions.csv\",index_col=0)[[\"twitterId\",\"text\",\"label\",\"regression\"]]\n",
        "results_df.twitterId = results_df.twitterId.astype(int)"
      ],
      "metadata": {
        "id": "nwqaGu_YN8BT"
      },
      "execution_count": 153,
      "outputs": []
    },
    {
      "cell_type": "code",
      "source": [
        "reference_tweets = [\n",
        "    1355603505365585920,\n",
        "    1449350338667032576,\n",
        "    1376992592555094016,\n",
        "    1352934915407552512,\n",
        "    1387437703096983552,\n",
        "    1363237757842313216,\n",
        "    1364233997354733568,\n",
        "    1403345824931889152\n",
        "]\n",
        "\n",
        "display(results_df.set_index(\"twitterId\").loc[reference_tweets])"
      ],
      "metadata": {
        "colab": {
          "base_uri": "https://localhost:8080/",
          "height": 298
        },
        "id": "Ndo90ZGCqi1E",
        "outputId": "d33a2858-3dcb-4959-812f-0f3bd79b9be3"
      },
      "execution_count": 166,
      "outputs": [
        {
          "output_type": "display_data",
          "data": {
            "text/plain": [
              "                                                                  text  label  \\\n",
              "twitterId                                                                       \n",
              "1355603505365585920  Hace 23 años ETA mató en Sevilla al concejal A...      0   \n",
              "1449350338667032576  Viejos rockeros que seguimos dando guerra a fa...      0   \n",
              "1376992592555094016  “Es más patriota ser de centro que ser de uno ...      0   \n",
              "1352934915407552512  👼🏼 \"Ya es hora de que la basura empiece a flui...      0   \n",
              "1387437703096983552  Si todavía no habéis oído el chotis que ha hec...      0   \n",
              "1363237757842313216  Marlaska @interiorgob es el máximo responsable...      2   \n",
              "1364233997354733568  En lugar de responder a los argumentos de VOX ...      2   \n",
              "1403345824931889152  Es viernes y Marlaska cumple….sigue en Moncloa...      2   \n",
              "\n",
              "                     regression  \n",
              "twitterId                        \n",
              "1355603505365585920           2  \n",
              "1449350338667032576           2  \n",
              "1376992592555094016           2  \n",
              "1352934915407552512           2  \n",
              "1387437703096983552           2  \n",
              "1363237757842313216           0  \n",
              "1364233997354733568           0  \n",
              "1403345824931889152           0  "
            ],
            "text/html": [
              "\n",
              "  <div id=\"df-a872c28f-07cb-4f46-8de2-1ae4589e4bc8\">\n",
              "    <div class=\"colab-df-container\">\n",
              "      <div>\n",
              "<style scoped>\n",
              "    .dataframe tbody tr th:only-of-type {\n",
              "        vertical-align: middle;\n",
              "    }\n",
              "\n",
              "    .dataframe tbody tr th {\n",
              "        vertical-align: top;\n",
              "    }\n",
              "\n",
              "    .dataframe thead th {\n",
              "        text-align: right;\n",
              "    }\n",
              "</style>\n",
              "<table border=\"1\" class=\"dataframe\">\n",
              "  <thead>\n",
              "    <tr style=\"text-align: right;\">\n",
              "      <th></th>\n",
              "      <th>text</th>\n",
              "      <th>label</th>\n",
              "      <th>regression</th>\n",
              "    </tr>\n",
              "    <tr>\n",
              "      <th>twitterId</th>\n",
              "      <th></th>\n",
              "      <th></th>\n",
              "      <th></th>\n",
              "    </tr>\n",
              "  </thead>\n",
              "  <tbody>\n",
              "    <tr>\n",
              "      <th>1355603505365585920</th>\n",
              "      <td>Hace 23 años ETA mató en Sevilla al concejal A...</td>\n",
              "      <td>0</td>\n",
              "      <td>2</td>\n",
              "    </tr>\n",
              "    <tr>\n",
              "      <th>1449350338667032576</th>\n",
              "      <td>Viejos rockeros que seguimos dando guerra a fa...</td>\n",
              "      <td>0</td>\n",
              "      <td>2</td>\n",
              "    </tr>\n",
              "    <tr>\n",
              "      <th>1376992592555094016</th>\n",
              "      <td>“Es más patriota ser de centro que ser de uno ...</td>\n",
              "      <td>0</td>\n",
              "      <td>2</td>\n",
              "    </tr>\n",
              "    <tr>\n",
              "      <th>1352934915407552512</th>\n",
              "      <td>👼🏼 \"Ya es hora de que la basura empiece a flui...</td>\n",
              "      <td>0</td>\n",
              "      <td>2</td>\n",
              "    </tr>\n",
              "    <tr>\n",
              "      <th>1387437703096983552</th>\n",
              "      <td>Si todavía no habéis oído el chotis que ha hec...</td>\n",
              "      <td>0</td>\n",
              "      <td>2</td>\n",
              "    </tr>\n",
              "    <tr>\n",
              "      <th>1363237757842313216</th>\n",
              "      <td>Marlaska @interiorgob es el máximo responsable...</td>\n",
              "      <td>2</td>\n",
              "      <td>0</td>\n",
              "    </tr>\n",
              "    <tr>\n",
              "      <th>1364233997354733568</th>\n",
              "      <td>En lugar de responder a los argumentos de VOX ...</td>\n",
              "      <td>2</td>\n",
              "      <td>0</td>\n",
              "    </tr>\n",
              "    <tr>\n",
              "      <th>1403345824931889152</th>\n",
              "      <td>Es viernes y Marlaska cumple….sigue en Moncloa...</td>\n",
              "      <td>2</td>\n",
              "      <td>0</td>\n",
              "    </tr>\n",
              "  </tbody>\n",
              "</table>\n",
              "</div>\n",
              "      <button class=\"colab-df-convert\" onclick=\"convertToInteractive('df-a872c28f-07cb-4f46-8de2-1ae4589e4bc8')\"\n",
              "              title=\"Convert this dataframe to an interactive table.\"\n",
              "              style=\"display:none;\">\n",
              "        \n",
              "  <svg xmlns=\"http://www.w3.org/2000/svg\" height=\"24px\"viewBox=\"0 0 24 24\"\n",
              "       width=\"24px\">\n",
              "    <path d=\"M0 0h24v24H0V0z\" fill=\"none\"/>\n",
              "    <path d=\"M18.56 5.44l.94 2.06.94-2.06 2.06-.94-2.06-.94-.94-2.06-.94 2.06-2.06.94zm-11 1L8.5 8.5l.94-2.06 2.06-.94-2.06-.94L8.5 2.5l-.94 2.06-2.06.94zm10 10l.94 2.06.94-2.06 2.06-.94-2.06-.94-.94-2.06-.94 2.06-2.06.94z\"/><path d=\"M17.41 7.96l-1.37-1.37c-.4-.4-.92-.59-1.43-.59-.52 0-1.04.2-1.43.59L10.3 9.45l-7.72 7.72c-.78.78-.78 2.05 0 2.83L4 21.41c.39.39.9.59 1.41.59.51 0 1.02-.2 1.41-.59l7.78-7.78 2.81-2.81c.8-.78.8-2.07 0-2.86zM5.41 20L4 18.59l7.72-7.72 1.47 1.35L5.41 20z\"/>\n",
              "  </svg>\n",
              "      </button>\n",
              "      \n",
              "  <style>\n",
              "    .colab-df-container {\n",
              "      display:flex;\n",
              "      flex-wrap:wrap;\n",
              "      gap: 12px;\n",
              "    }\n",
              "\n",
              "    .colab-df-convert {\n",
              "      background-color: #E8F0FE;\n",
              "      border: none;\n",
              "      border-radius: 50%;\n",
              "      cursor: pointer;\n",
              "      display: none;\n",
              "      fill: #1967D2;\n",
              "      height: 32px;\n",
              "      padding: 0 0 0 0;\n",
              "      width: 32px;\n",
              "    }\n",
              "\n",
              "    .colab-df-convert:hover {\n",
              "      background-color: #E2EBFA;\n",
              "      box-shadow: 0px 1px 2px rgba(60, 64, 67, 0.3), 0px 1px 3px 1px rgba(60, 64, 67, 0.15);\n",
              "      fill: #174EA6;\n",
              "    }\n",
              "\n",
              "    [theme=dark] .colab-df-convert {\n",
              "      background-color: #3B4455;\n",
              "      fill: #D2E3FC;\n",
              "    }\n",
              "\n",
              "    [theme=dark] .colab-df-convert:hover {\n",
              "      background-color: #434B5C;\n",
              "      box-shadow: 0px 1px 3px 1px rgba(0, 0, 0, 0.15);\n",
              "      filter: drop-shadow(0px 1px 2px rgba(0, 0, 0, 0.3));\n",
              "      fill: #FFFFFF;\n",
              "    }\n",
              "  </style>\n",
              "\n",
              "      <script>\n",
              "        const buttonEl =\n",
              "          document.querySelector('#df-a872c28f-07cb-4f46-8de2-1ae4589e4bc8 button.colab-df-convert');\n",
              "        buttonEl.style.display =\n",
              "          google.colab.kernel.accessAllowed ? 'block' : 'none';\n",
              "\n",
              "        async function convertToInteractive(key) {\n",
              "          const element = document.querySelector('#df-a872c28f-07cb-4f46-8de2-1ae4589e4bc8');\n",
              "          const dataTable =\n",
              "            await google.colab.kernel.invokeFunction('convertToInteractive',\n",
              "                                                     [key], {});\n",
              "          if (!dataTable) return;\n",
              "\n",
              "          const docLinkHtml = 'Like what you see? Visit the ' +\n",
              "            '<a target=\"_blank\" href=https://colab.research.google.com/notebooks/data_table.ipynb>data table notebook</a>'\n",
              "            + ' to learn more about interactive tables.';\n",
              "          element.innerHTML = '';\n",
              "          dataTable['output_type'] = 'display_data';\n",
              "          await google.colab.output.renderOutput(dataTable, element);\n",
              "          const docLink = document.createElement('div');\n",
              "          docLink.innerHTML = docLinkHtml;\n",
              "          element.appendChild(docLink);\n",
              "        }\n",
              "      </script>\n",
              "    </div>\n",
              "  </div>\n",
              "  "
            ]
          },
          "metadata": {}
        }
      ]
    },
    {
      "cell_type": "markdown",
      "source": [
        "### Errores Graves\n",
        "\n",
        "Consideramos error grave cuando la distancia entre la clase real y la predicha es mayor a 1, es decir, cuando un tweet con nivel de decibelios _nulo_ se clasifica como _fuerte_ y viceversa. Hay un total de 288 errores graves. "
      ],
      "metadata": {
        "id": "goQHWLe4YnMT"
      }
    },
    {
      "cell_type": "code",
      "source": [
        "ind_0_2 = (results_df.label==0) & (results_df.regression==2)\n",
        "ind_2_0 = (results_df.label==2) & (results_df.regression==0)\n",
        "show_random_elements(results_df[ind_0_2],5)\n",
        "show_random_elements(results_df[ind_2_0],5)"
      ],
      "metadata": {
        "colab": {
          "base_uri": "https://localhost:8080/",
          "height": 482
        },
        "id": "i1vQO8Zt7pb8",
        "outputId": "7c59d1e7-50b1-4eeb-dd39-f77f59b2ad6a"
      },
      "execution_count": 165,
      "outputs": [
        {
          "output_type": "display_data",
          "data": {
            "text/plain": [
              "<IPython.core.display.HTML object>"
            ],
            "text/html": [
              "<table border=\"1\" class=\"dataframe\">\n",
              "  <thead>\n",
              "    <tr style=\"text-align: right;\">\n",
              "      <th></th>\n",
              "      <th>twitterId</th>\n",
              "      <th>text</th>\n",
              "      <th>label</th>\n",
              "      <th>regression</th>\n",
              "    </tr>\n",
              "  </thead>\n",
              "  <tbody>\n",
              "    <tr>\n",
              "      <th>12339</th>\n",
              "      <td>1369550364589101056</td>\n",
              "      <td>Del compromiso y su fuerza transformadora. Pero👇🏽\\n\\n“Se está produciendo la “gran regresión”: el retorno a las democracias oligárquicas, plutocráticas, en forma de una norteamericanización de la vida pública.”\\n\\nPor ⁦@ManoloMonereo⁩\\nNo dejen de leerlo https://t.co/lIaWrZmhXw</td>\n",
              "      <td>0</td>\n",
              "      <td>2</td>\n",
              "    </tr>\n",
              "    <tr>\n",
              "      <th>15543</th>\n",
              "      <td>1451463216534638592</td>\n",
              "      <td>Alberto Rodríguez fue condenado sin pruebas por un delito que no cometió. Ahora le quieren quitar el acta que le dieron 65.000 canari@s cuando NO pone eso en la sentencia. Si se consuma esta aberración jurídica, España volverá a hacer el ridículo en Europa.\\n\\nAquí lo explico 👇🏼 https://t.co/lN69tp5IH7</td>\n",
              "      <td>0</td>\n",
              "      <td>2</td>\n",
              "    </tr>\n",
              "    <tr>\n",
              "      <th>16093</th>\n",
              "      <td>1465047726672986112</td>\n",
              "      <td>Policías manifestándose contra la democracia, contra el poder legislativo.\\nPolicías manifestándose contra el Gobierno.\\nPolicías que deben dejar de ser policías. \\nSon una amenaza a la democracia, no sirven a España ni a su ciudadanía se sirven a ellos y su ideología.</td>\n",
              "      <td>0</td>\n",
              "      <td>2</td>\n",
              "    </tr>\n",
              "    <tr>\n",
              "      <th>16345</th>\n",
              "      <td>1363093899183554560</td>\n",
              "      <td>Romper escaparates y quemar contenedores no es mejorar la democracia\\n\\nY esto no es libertad de expresión:\\n\\n“¡Merece que explote el coche de Patxi López!\\n¡Que alguien clave un piolet en la cabeza de José Bono!\\nNo me da pena tu tiro en la nuca, socialisto.\\nOjalá vuelvan los GRAPO.”</td>\n",
              "      <td>0</td>\n",
              "      <td>2</td>\n",
              "    </tr>\n",
              "    <tr>\n",
              "      <th>16339</th>\n",
              "      <td>1453415098006097920</td>\n",
              "      <td>Casado miente: el PP se abstuvo en el segundo estado de alarma https://t.co/0Ry4JGIWtS</td>\n",
              "      <td>0</td>\n",
              "      <td>2</td>\n",
              "    </tr>\n",
              "  </tbody>\n",
              "</table>"
            ]
          },
          "metadata": {}
        },
        {
          "output_type": "display_data",
          "data": {
            "text/plain": [
              "<IPython.core.display.HTML object>"
            ],
            "text/html": [
              "<table border=\"1\" class=\"dataframe\">\n",
              "  <thead>\n",
              "    <tr style=\"text-align: right;\">\n",
              "      <th></th>\n",
              "      <th>twitterId</th>\n",
              "      <th>text</th>\n",
              "      <th>label</th>\n",
              "      <th>regression</th>\n",
              "    </tr>\n",
              "  </thead>\n",
              "  <tbody>\n",
              "    <tr>\n",
              "      <th>15941</th>\n",
              "      <td>1453703145754857472</td>\n",
              "      <td>Desinformación climática: del negacionismo al fatalismo y el ecopostureo https://t.co/UNLMHask2N</td>\n",
              "      <td>2</td>\n",
              "      <td>0</td>\n",
              "    </tr>\n",
              "    <tr>\n",
              "      <th>4426</th>\n",
              "      <td>1401814446515888128</td>\n",
              "      <td>La corrupción del #PP le acompaña desde el Pasado, el #PP es sinónimo de corrupción, en el pasado y también en el presente de la época #Casado. Génova, Cospedal... https://t.co/8Zu7YeNWf9</td>\n",
              "      <td>2</td>\n",
              "      <td>0</td>\n",
              "    </tr>\n",
              "    <tr>\n",
              "      <th>7385</th>\n",
              "      <td>1400526867371855872</td>\n",
              "      <td>¡China debe pagar! https://t.co/ruibBcyXDt a través de @YouTube</td>\n",
              "      <td>2</td>\n",
              "      <td>0</td>\n",
              "    </tr>\n",
              "    <tr>\n",
              "      <th>8233</th>\n",
              "      <td>1403345824931889152</td>\n",
              "      <td>Es viernes y Marlaska cumple….sigue en Moncloa gracias a los 5 votos de BILDU a cambio de cada viernes acercar 5 asesinos de ETA,al País Vasco!! #marlaskadimisión \\n\\nPrisiones acerca a otros cuatro presos de ETA: dos de ellos, condenados por asesinato https://t.co/7aiXm2f3Ol</td>\n",
              "      <td>2</td>\n",
              "      <td>0</td>\n",
              "    </tr>\n",
              "    <tr>\n",
              "      <th>2742</th>\n",
              "      <td>1425063522325696512</td>\n",
              "      <td>¿Y no será que los  incendios de los bosques son debidos a que, como pasa en Segovia, la secta ecologista ordena que no se limpie la maleza y no se retire las ramas secas? ¿No será que la culpa la tengan los verdes rojo fuego?</td>\n",
              "      <td>2</td>\n",
              "      <td>0</td>\n",
              "    </tr>\n",
              "  </tbody>\n",
              "</table>"
            ]
          },
          "metadata": {}
        }
      ]
    },
    {
      "cell_type": "markdown",
      "source": [
        "Como se destacó en la exploración de datos, hay errores que parecen deberse a la subjetividad de la anotación. Dependiendo de que entendamos por polarizante, muchos tweets, como el 1387437703096983552, podrian considerar que elevan los decibelios del discurso por el simple hecho de incluir temas delicados o que polarizan a varios sectores de la población"
      ],
      "metadata": {
        "id": "AKWpTvv0bmpp"
      }
    },
    {
      "cell_type": "markdown",
      "source": [
        "Parece que hay ciertas palabras que activan al modelo a predecir una nivel de decibelios alto. Tweets como el 1355603505365585920 o el 1449350338667032576 contienen palabras muy polarizantes como _ETA_, _bandos_ o _Guerra_ usadas generalmente en contextos muy polarizantes.  "
      ],
      "metadata": {
        "id": "aDolMneql6_r"
      }
    },
    {
      "cell_type": "markdown",
      "source": [
        "### Errores Leves. \n",
        "\n",
        "Consideramos ahora que errores comete el modelo al clasificar incorrectamente los tweets con errores leves. Nos centraremos especialmente en los tweets con pocos decibelios mal clasificados (la mayoría de ellos clasificados en una de las clases restantes)"
      ],
      "metadata": {
        "id": "yqSMIFxWn8S6"
      }
    },
    {
      "cell_type": "code",
      "source": [
        "ind_1_0 = (results_df.label==1) & (results_df.regression==0)\n",
        "ind_1_2 = (results_df.label==1) & (results_df.regression==2)\n",
        "show_random_elements(results_df[ind_1_0],5)\n",
        "show_random_elements(results_df[ind_1_2],5)"
      ],
      "metadata": {
        "colab": {
          "base_uri": "https://localhost:8080/",
          "height": 482
        },
        "id": "be6oRYyGoSr9",
        "outputId": "93b22902-1700-4f09-d25c-02cb23df6760"
      },
      "execution_count": 158,
      "outputs": [
        {
          "output_type": "display_data",
          "data": {
            "text/plain": [
              "<IPython.core.display.HTML object>"
            ],
            "text/html": [
              "<table border=\"1\" class=\"dataframe\">\n",
              "  <thead>\n",
              "    <tr style=\"text-align: right;\">\n",
              "      <th></th>\n",
              "      <th>twitterId</th>\n",
              "      <th>text</th>\n",
              "      <th>label</th>\n",
              "      <th>regression</th>\n",
              "    </tr>\n",
              "  </thead>\n",
              "  <tbody>\n",
              "    <tr>\n",
              "      <th>7601</th>\n",
              "      <td>1407695782506078208</td>\n",
              "      <td>En la Comisión de Igualdad, Podemos nos hace el honor a las mujeres de concedernos el derecho a practicar la lactancia materna o artificial. ¿En qué mundo viven?\\n\\nYo he dado el pecho a mis hijos 2 años porque me ha dado la gana, no porq las feministas me lo permitan. \\nYo decido.</td>\n",
              "      <td>1</td>\n",
              "      <td>0</td>\n",
              "    </tr>\n",
              "    <tr>\n",
              "      <th>1787</th>\n",
              "      <td>1456200575918485504</td>\n",
              "      <td>Iniciamos la segunda sesión de debate de #PGE2022 , unos presupuestos que solo se pueden definir como #PGEdelaRuina y ante los que hemos presentado enmienda a la totalidad. https://t.co/Y8cU9SodRu</td>\n",
              "      <td>1</td>\n",
              "      <td>0</td>\n",
              "    </tr>\n",
              "    <tr>\n",
              "      <th>9309</th>\n",
              "      <td>1349443288764448768</td>\n",
              "      <td>El #PSCIrresponsable dice que no está justificado un aplazamiento de las elecciones en Cataluña.\\n\\n¿2.400 hospitalizados por COVID no es suficiente?\\n¿O 41% de las UCI ocupadas por contagiados?\\n¿O una incidencia superior a la nacional?\\n\\nEs momento de salvar vidas, no elecciones. https://t.co/nwrJQXUBnH</td>\n",
              "      <td>1</td>\n",
              "      <td>0</td>\n",
              "    </tr>\n",
              "    <tr>\n",
              "      <th>17778</th>\n",
              "      <td>1386253541082341376</td>\n",
              "      <td>Hoy vuelve a ir de democracia o fascismo, de libertad o fascismo.  \\n\\nDe privilegiar a pocos o garantizar a todxs las condiciones materiales de la libertad.\\n\\nDe vivir juntxs, libres del miedo, con vivienda, sanidad, educación, en una tierra de fraternidad\\n\\n#25abrilsempre https://t.co/j7oWbPA03n</td>\n",
              "      <td>1</td>\n",
              "      <td>0</td>\n",
              "    </tr>\n",
              "    <tr>\n",
              "      <th>13641</th>\n",
              "      <td>1390961729538990080</td>\n",
              "      <td>El País Vasco pide un toque de queda \"voluntario\" O sea que tu toques la trompeta. https://t.co/1X59wk0ZWL vía @libertaddigital</td>\n",
              "      <td>1</td>\n",
              "      <td>0</td>\n",
              "    </tr>\n",
              "  </tbody>\n",
              "</table>"
            ]
          },
          "metadata": {}
        },
        {
          "output_type": "display_data",
          "data": {
            "text/plain": [
              "<IPython.core.display.HTML object>"
            ],
            "text/html": [
              "<table border=\"1\" class=\"dataframe\">\n",
              "  <thead>\n",
              "    <tr style=\"text-align: right;\">\n",
              "      <th></th>\n",
              "      <th>twitterId</th>\n",
              "      <th>text</th>\n",
              "      <th>label</th>\n",
              "      <th>regression</th>\n",
              "    </tr>\n",
              "  </thead>\n",
              "  <tbody>\n",
              "    <tr>\n",
              "      <th>8066</th>\n",
              "      <td>1369214684965003264</td>\n",
              "      <td>Celebro el triunfo de la democracia y del Estado de Derecho en Europa con la retirada de la inmunidad a los diputados fugados de la justicia.\\n\\nEs indignante el voto de Podemos, partido dentro del Gobierno de España, a favor de los que denuestan a España. https://t.co/JwDkx31N82</td>\n",
              "      <td>1</td>\n",
              "      <td>2</td>\n",
              "    </tr>\n",
              "    <tr>\n",
              "      <th>14017</th>\n",
              "      <td>1407048287601967104</td>\n",
              "      <td>El Consejo de Europa, otro golpista ¡Todos a Colón a pedir la autarquía! https://t.co/8ipYOXO7y9</td>\n",
              "      <td>1</td>\n",
              "      <td>2</td>\n",
              "    </tr>\n",
              "    <tr>\n",
              "      <th>17630</th>\n",
              "      <td>1385716588742066176</td>\n",
              "      <td>El odio contra Pablo Iglesias y Unidas Podemos no se ha fabricado solo https://t.co/hUzeUXZ51Y</td>\n",
              "      <td>1</td>\n",
              "      <td>2</td>\n",
              "    </tr>\n",
              "    <tr>\n",
              "      <th>11395</th>\n",
              "      <td>1451869477633671168</td>\n",
              "      <td>.@Yolanda_Diaz_: \"Vamos a derogar la reforma laboral a pesar de todas las resistencias.\"\\n\\nEsta firmeza para defender los derechos de la gente trabajadora es precisamente lo que explica que nos persigan, nos acosen, nos difamen y nos roben ilegalmente escaños. Esto y no otra cosa. https://t.co/GvXIrHisBK</td>\n",
              "      <td>1</td>\n",
              "      <td>2</td>\n",
              "    </tr>\n",
              "    <tr>\n",
              "      <th>6606</th>\n",
              "      <td>1415412513001328640</td>\n",
              "      <td>@Vox_Cantabria culpa a Quiñones de que cada fin de semana acudan bandas de menas a Cantabria para agredir y  robar a adolescentes. #SoloQuedaVox \\n\\n https://t.co/lVAvzjFN2H</td>\n",
              "      <td>1</td>\n",
              "      <td>2</td>\n",
              "    </tr>\n",
              "  </tbody>\n",
              "</table>"
            ]
          },
          "metadata": {}
        }
      ]
    },
    {
      "cell_type": "markdown",
      "source": [
        "Como se comprobará de forma mas cuantitativa en la siguiente sección, hay atisbos de cierto sesgo politico del modelo. Por lo general parece que el modelo tiende a subestimar el nivel de decibelios presentes en los tweets donde se habla del partido socialista mientras que la mención a partidos mas polarizantes como Podemos o VOX tiene a sumar decibelios al tweet. \n",
        "\n",
        "La mayoría de tweets de la clase 1 tienden a ser claramente polarizantes, pero dado el poco numero de ejemplos en la clase de entrenamiento y su similaridad con el lenguaje de tweets de otras clases hace dificil la correcta identificación de los mismos. "
      ],
      "metadata": {
        "id": "770Ao34epY1S"
      }
    },
    {
      "cell_type": "markdown",
      "source": [
        "### Análisis Político\n",
        "Existe la posiblidad de que el modelo tenga cierto sesgo respecto a partidos políticos, confundiendo su nivel de decibelios en base a la polaridad media de sus tweets. Como aproximación simple para descubrir dicho sesgo vamos a explorar los ratios de errores en tweets donde aparezcan keywords representativas de cada partido."
      ],
      "metadata": {
        "id": "MfNcsd8egtNu"
      }
    },
    {
      "cell_type": "code",
      "source": [
        "keywords = {\n",
        "    \"PP\": [\"pp\",\"partido popular\",\"ayuso\",\"casado\"],\n",
        "    \"PSOE\": [\"psoe\",\"socialista\",\"sanchez\"],\n",
        "    \"PODEMOS\": [\"podemos\",\"iglesias\",\"yolanda\"],\n",
        "    \"VOX\": [\"vox\",\"abascal\",\"espinosa\"]\n",
        "}\n",
        "\n",
        "errores_graves = abs(results_df.label-results_df.regression)==2\n",
        "errores_leves = abs(results_df.label-results_df.regression)==1\n",
        "\n",
        "sesgo_partidos = dict()\n",
        "\n",
        "for partido, palabras in keywords.items():\n",
        "  key_in_tweet = results_df.text.apply(lambda x: any(key in x.lower() for key in palabras))\n",
        "\n",
        "  n_tweets = len(results_df[key_in_tweet])\n",
        "  n_errores_leves = len(results_df[key_in_tweet & errores_leves])\n",
        "  n_errores_graves = len(results_df[key_in_tweet & errores_graves])\n",
        "\n",
        "  sesgo_partidos[partido] = {\n",
        "      \"tweets\": n_tweets,\n",
        "      \"errores_leves\": n_errores_leves,\n",
        "      \"errores_graves\": n_errores_graves,\n",
        "      \"ratio_leves\": n_errores_leves/n_tweets,\n",
        "      \"ratio_graves\": n_errores_graves/n_tweets,\n",
        "  }\n",
        "\n",
        "sesgo_partidos = pd.DataFrame(sesgo_partidos).T\n",
        "\n",
        "  "
      ],
      "metadata": {
        "id": "EPCdqkradae_"
      },
      "execution_count": 142,
      "outputs": []
    },
    {
      "cell_type": "code",
      "source": [
        "compare_ratios = np.zeros((4,4))\n",
        "ratio_grave = sesgo_partidos.ratio_graves.to_dict()\n",
        "for i, (_,ratio_i) in enumerate(ratio_grave.items()):\n",
        "  for j, (_,ratio_j) in enumerate(ratio_grave.items()):\n",
        "    compare_ratios[i,j] = ratio_i/ratio_j\n",
        "\n",
        "ax = sns.heatmap(compare_ratios,yticklabels=ratio_grave,xticklabels=ratio_grave,cmap=\"crest\")\n",
        "ax.set_title(\"Propoción entre partidos de la fracción de errores graves frente al numero de tweets donde se menciona a dicho partido \")\n",
        "sesgo_partidos.sort_values(by=\"ratio_graves\",ascending=False).style.background_gradient(axis=0) "
      ],
      "metadata": {
        "colab": {
          "base_uri": "https://localhost:8080/",
          "height": 845
        },
        "id": "b_zrqabdiBPp",
        "outputId": "d7db853a-1047-40d2-a565-19ca03d0426c"
      },
      "execution_count": 143,
      "outputs": [
        {
          "output_type": "execute_result",
          "data": {
            "text/plain": [
              "<pandas.io.formats.style.Styler at 0x7fe9cc667450>"
            ],
            "text/html": [
              "<style type=\"text/css\">\n",
              "#T_fe122_row0_col0, #T_fe122_row0_col1, #T_fe122_row0_col2, #T_fe122_row3_col3, #T_fe122_row3_col4 {\n",
              "  background-color: #fff7fb;\n",
              "  color: #000000;\n",
              "}\n",
              "#T_fe122_row0_col3 {\n",
              "  background-color: #4496c3;\n",
              "  color: #f1f1f1;\n",
              "}\n",
              "#T_fe122_row0_col4, #T_fe122_row1_col3, #T_fe122_row2_col0, #T_fe122_row2_col1, #T_fe122_row2_col2 {\n",
              "  background-color: #023858;\n",
              "  color: #f1f1f1;\n",
              "}\n",
              "#T_fe122_row1_col0 {\n",
              "  background-color: #d6d6e9;\n",
              "  color: #000000;\n",
              "}\n",
              "#T_fe122_row1_col1 {\n",
              "  background-color: #78abd0;\n",
              "  color: #f1f1f1;\n",
              "}\n",
              "#T_fe122_row1_col2 {\n",
              "  background-color: #cacee5;\n",
              "  color: #000000;\n",
              "}\n",
              "#T_fe122_row1_col4 {\n",
              "  background-color: #03466e;\n",
              "  color: #f1f1f1;\n",
              "}\n",
              "#T_fe122_row2_col3 {\n",
              "  background-color: #86b0d3;\n",
              "  color: #000000;\n",
              "}\n",
              "#T_fe122_row2_col4 {\n",
              "  background-color: #4c99c5;\n",
              "  color: #f1f1f1;\n",
              "}\n",
              "#T_fe122_row3_col0 {\n",
              "  background-color: #056faf;\n",
              "  color: #f1f1f1;\n",
              "}\n",
              "#T_fe122_row3_col1 {\n",
              "  background-color: #b7c5df;\n",
              "  color: #000000;\n",
              "}\n",
              "#T_fe122_row3_col2 {\n",
              "  background-color: #a2bcda;\n",
              "  color: #000000;\n",
              "}\n",
              "</style>\n",
              "<table id=\"T_fe122_\" class=\"dataframe\">\n",
              "  <thead>\n",
              "    <tr>\n",
              "      <th class=\"blank level0\" >&nbsp;</th>\n",
              "      <th class=\"col_heading level0 col0\" >tweets</th>\n",
              "      <th class=\"col_heading level0 col1\" >errores_leves</th>\n",
              "      <th class=\"col_heading level0 col2\" >errores_graves</th>\n",
              "      <th class=\"col_heading level0 col3\" >ratio_leves</th>\n",
              "      <th class=\"col_heading level0 col4\" >ratio_graves</th>\n",
              "    </tr>\n",
              "  </thead>\n",
              "  <tbody>\n",
              "    <tr>\n",
              "      <th id=\"T_fe122_level0_row0\" class=\"row_heading level0 row0\" >PODEMOS</th>\n",
              "      <td id=\"T_fe122_row0_col0\" class=\"data row0 col0\" >536.000000</td>\n",
              "      <td id=\"T_fe122_row0_col1\" class=\"data row0 col1\" >145.000000</td>\n",
              "      <td id=\"T_fe122_row0_col2\" class=\"data row0 col2\" >23.000000</td>\n",
              "      <td id=\"T_fe122_row0_col3\" class=\"data row0 col3\" >0.270522</td>\n",
              "      <td id=\"T_fe122_row0_col4\" class=\"data row0 col4\" >0.042910</td>\n",
              "    </tr>\n",
              "    <tr>\n",
              "      <th id=\"T_fe122_level0_row1\" class=\"row_heading level0 row1\" >VOX</th>\n",
              "      <td id=\"T_fe122_row1_col0\" class=\"data row1 col0\" >711.000000</td>\n",
              "      <td id=\"T_fe122_row1_col1\" class=\"data row1 col1\" >235.000000</td>\n",
              "      <td id=\"T_fe122_row1_col2\" class=\"data row1 col2\" >30.000000</td>\n",
              "      <td id=\"T_fe122_row1_col3\" class=\"data row1 col3\" >0.330520</td>\n",
              "      <td id=\"T_fe122_row1_col4\" class=\"data row1 col4\" >0.042194</td>\n",
              "    </tr>\n",
              "    <tr>\n",
              "      <th id=\"T_fe122_level0_row2\" class=\"row_heading level0 row2\" >PP</th>\n",
              "      <td id=\"T_fe122_row2_col0\" class=\"data row2 col0\" >1316.000000</td>\n",
              "      <td id=\"T_fe122_row2_col1\" class=\"data row2 col1\" >329.000000</td>\n",
              "      <td id=\"T_fe122_row2_col2\" class=\"data row2 col2\" >49.000000</td>\n",
              "      <td id=\"T_fe122_row2_col3\" class=\"data row2 col3\" >0.250000</td>\n",
              "      <td id=\"T_fe122_row2_col4\" class=\"data row2 col4\" >0.037234</td>\n",
              "    </tr>\n",
              "    <tr>\n",
              "      <th id=\"T_fe122_level0_row3\" class=\"row_heading level0 row3\" >PSOE</th>\n",
              "      <td id=\"T_fe122_row3_col0\" class=\"data row3 col0\" >1123.000000</td>\n",
              "      <td id=\"T_fe122_row3_col1\" class=\"data row3 col1\" >205.000000</td>\n",
              "      <td id=\"T_fe122_row3_col2\" class=\"data row3 col2\" >33.000000</td>\n",
              "      <td id=\"T_fe122_row3_col3\" class=\"data row3 col3\" >0.182547</td>\n",
              "      <td id=\"T_fe122_row3_col4\" class=\"data row3 col4\" >0.029386</td>\n",
              "    </tr>\n",
              "  </tbody>\n",
              "</table>\n"
            ]
          },
          "metadata": {},
          "execution_count": 143
        },
        {
          "output_type": "display_data",
          "data": {
            "text/plain": [
              "<Figure size 1200x800 with 2 Axes>"
            ],
            "image/png": "[encoded data removed]"
          },
          "metadata": {
            "needs_background": "light"
          }
        }
      ]
    },
    {
      "cell_type": "code",
      "source": [
        "compare_ratios = np.zeros((4,4))\n",
        "ratio_leve = sesgo_partidos.ratio_leves.to_dict()\n",
        "for i, (_,ratio_i) in enumerate(ratio_leve.items()):\n",
        "  for j, (_,ratio_j) in enumerate(ratio_leve.items()):\n",
        "    compare_ratios[i,j] = ratio_i/ratio_j\n",
        "\n",
        "ax = sns.heatmap(compare_ratios,yticklabels=ratio_leve,xticklabels=ratio_leve,cmap=\"crest\")\n",
        "ax.set_title(\"Propoción entre partidos de la fracción de errores leves frente al numero de tweets donde se menciona a dicho partido \")"
      ],
      "metadata": {
        "colab": {
          "base_uri": "https://localhost:8080/",
          "height": 704
        },
        "id": "fiYUIyk6jUtk",
        "outputId": "42a3b8a8-3ba0-4820-c3fc-35b91c81c137"
      },
      "execution_count": 145,
      "outputs": [
        {
          "output_type": "execute_result",
          "data": {
            "text/plain": [
              "Text(0.5, 1.0, 'Propoción entre partidos de la fracción de errores leves frente al numero de tweets donde se menciona a dicho partido ')"
            ]
          },
          "metadata": {},
          "execution_count": 145
        },
        {
          "output_type": "display_data",
          "data": {
            "text/plain": [
              "<Figure size 1200x800 with 2 Axes>"
            ],
            "image/png": "[encoded data removed]"
          },
          "metadata": {
            "needs_background": "light"
          }
        }
      ]
    },
    {
      "cell_type": "markdown",
      "source": [
        "Basandonos en la anterior aproximación (la cual es incompleta y debería perfeccionarse) el modelo tiene cierto sesgo con los partidos mas alejados del centro político. Esto puede deberse a un sesgo en la anotación, a un cambio de la distribución del conjunto de test frente al de entrenamiento o, como ya mencionamos anteriormente, a que algunos partidos tienden a ser mas polarizantes que el resto.\n",
        "\n",
        "El modelo parece que tiende a subestimar el nivel de decibelios en tweets del Partido Socialista. Mas haya de la exploración realizada tweets como el 1363237757842313216,1403345824931889152 o el 1364233997354733568 son una clara muesta de este ejemplo.\n",
        "\n",
        "Si quisieramos eliminar este sesgo podríamos sustituir las palabras que relacionan los tweets con un partido por tokens mas genéricos. "
      ],
      "metadata": {
        "id": "YnpVDTZEi7U9"
      }
    },
    {
      "cell_type": "markdown",
      "source": [
        "# Conclusiones y siguientes pasos\n",
        "\n",
        "La toxicidad de un mensaje es una valoración subjetiva del mismo. En muchos casos resulta evidente para una población el ponerle dicha etiqueta a un discurso concreto, ya sea por el tema o el lenguaje usado. Pero la frontera entre el nivel de toxicidad no es tan clara. Como posibilidad para desdibujarla sería necesario la anotación por un grupo diverso de individuos de los mismos tweets, pudiendo usar como nivel de toxicidad la media de las anotaciones, poderarlos por el ratio kappa de Cohen o simplemente descartando tweets donde no hay un claro consenso.\n",
        "\n",
        "A nivel tecnico existen varias tecnicas interesantes que podrían aplicarse. Existe la posibilidad de que la toxicidad de un tweet vaya ligada no solo a texto. El nivel de decibelios puede subir mediante el uso de imagenes o videos polarizantes, menciones a personajes controvertidos o link a medios poco fiables. A nivel texto es posible que el algoritmo se beneficie de un mayor volumen de datos (pudiendo añadir [ejemplos en otros idiomas](https://www.kaggle.com/datasets/ashwiniyer176/toxic-tweets-dataset) aprovechando las capacidades multilingues de los sistemas XLM) o aplicando tecnicas de entrenamiento en [multiples tareas](https://arxiv.org/pdf/2005.00247.pdf) donde puede haber una trasferencia de conocimientos."
      ],
      "metadata": {
        "id": "ExRt1PWEsIXP"
      }
    }
  ],
  "metadata": {
    "accelerator": "GPU",
    "colab": {
      "collapsed_sections": [],
      "toc_visible": true,
      "provenance": []
    },
    "kernelspec": {
      "display_name": "Python 3",
      "name": "python3"
    },
    "language_info": {
      "name": "python"
    },
    "widgets": {
      "application/vnd.jupyter.widget-state+json": {
        "845708007a204f478ce0e8913e8f07e4": {
          "model_module": "@jupyter-widgets/controls",
          "model_name": "HBoxModel",
          "model_module_version": "1.5.0",
          "state": {
            "_dom_classes": [],
            "_model_module": "@jupyter-widgets/controls",
            "_model_module_version": "1.5.0",
            "_model_name": "HBoxModel",
            "_view_count": null,
            "_view_module": "@jupyter-widgets/controls",
            "_view_module_version": "1.5.0",
            "_view_name": "HBoxView",
            "box_style": "",
            "children": [
              "IPY_MODEL_53b5edc9d3834bfda88ed2bc1bd6408c",
              "IPY_MODEL_96466da5f50241b688ad8aa62cb465e9",
              "IPY_MODEL_6d80f41374724b7b9dc09d85e1bd8d7f"
            ],
            "layout": "IPY_MODEL_f7f4d897a3ef4e3ebb5842f13e7c3453"
          }
        },
        "53b5edc9d3834bfda88ed2bc1bd6408c": {
          "model_module": "@jupyter-widgets/controls",
          "model_name": "HTMLModel",
          "model_module_version": "1.5.0",
          "state": {
            "_dom_classes": [],
            "_model_module": "@jupyter-widgets/controls",
            "_model_module_version": "1.5.0",
            "_model_name": "HTMLModel",
            "_view_count": null,
            "_view_module": "@jupyter-widgets/controls",
            "_view_module_version": "1.5.0",
            "_view_name": "HTMLView",
            "description": "",
            "description_tooltip": null,
            "layout": "IPY_MODEL_d2558de259d746668266014327024459",
            "placeholder": "​",
            "style": "IPY_MODEL_98b32ef6f0fe4b2486f49bd5a0d7e2f5",
            "value": "Downloading: 100%"
          }
        },
        "96466da5f50241b688ad8aa62cb465e9": {
          "model_module": "@jupyter-widgets/controls",
          "model_name": "FloatProgressModel",
          "model_module_version": "1.5.0",
          "state": {
            "_dom_classes": [],
            "_model_module": "@jupyter-widgets/controls",
            "_model_module_version": "1.5.0",
            "_model_name": "FloatProgressModel",
            "_view_count": null,
            "_view_module": "@jupyter-widgets/controls",
            "_view_module_version": "1.5.0",
            "_view_name": "ProgressView",
            "bar_style": "success",
            "description": "",
            "description_tooltip": null,
            "layout": "IPY_MODEL_e5b10d7f33014a709bcf86da1c2fbfe6",
            "max": 652,
            "min": 0,
            "orientation": "horizontal",
            "style": "IPY_MODEL_4ab1fed8584840d6afd5b9f552f80982",
            "value": 652
          }
        },
        "6d80f41374724b7b9dc09d85e1bd8d7f": {
          "model_module": "@jupyter-widgets/controls",
          "model_name": "HTMLModel",
          "model_module_version": "1.5.0",
          "state": {
            "_dom_classes": [],
            "_model_module": "@jupyter-widgets/controls",
            "_model_module_version": "1.5.0",
            "_model_name": "HTMLModel",
            "_view_count": null,
            "_view_module": "@jupyter-widgets/controls",
            "_view_module_version": "1.5.0",
            "_view_name": "HTMLView",
            "description": "",
            "description_tooltip": null,
            "layout": "IPY_MODEL_94620322189b46fca77529dca94bb405",
            "placeholder": "​",
            "style": "IPY_MODEL_0887521e0ee249e799c97e42b55deeba",
            "value": " 652/652 [00:00&lt;00:00, 16.4kB/s]"
          }
        },
        "f7f4d897a3ef4e3ebb5842f13e7c3453": {
          "model_module": "@jupyter-widgets/base",
          "model_name": "LayoutModel",
          "model_module_version": "1.2.0",
          "state": {
            "_model_module": "@jupyter-widgets/base",
            "_model_module_version": "1.2.0",
            "_model_name": "LayoutModel",
            "_view_count": null,
            "_view_module": "@jupyter-widgets/base",
            "_view_module_version": "1.2.0",
            "_view_name": "LayoutView",
            "align_content": null,
            "align_items": null,
            "align_self": null,
            "border": null,
            "bottom": null,
            "display": null,
            "flex": null,
            "flex_flow": null,
            "grid_area": null,
            "grid_auto_columns": null,
            "grid_auto_flow": null,
            "grid_auto_rows": null,
            "grid_column": null,
            "grid_gap": null,
            "grid_row": null,
            "grid_template_areas": null,
            "grid_template_columns": null,
            "grid_template_rows": null,
            "height": null,
            "justify_content": null,
            "justify_items": null,
            "left": null,
            "margin": null,
            "max_height": null,
            "max_width": null,
            "min_height": null,
            "min_width": null,
            "object_fit": null,
            "object_position": null,
            "order": null,
            "overflow": null,
            "overflow_x": null,
            "overflow_y": null,
            "padding": null,
            "right": null,
            "top": null,
            "visibility": null,
            "width": null
          }
        },
        "d2558de259d746668266014327024459": {
          "model_module": "@jupyter-widgets/base",
          "model_name": "LayoutModel",
          "model_module_version": "1.2.0",
          "state": {
            "_model_module": "@jupyter-widgets/base",
            "_model_module_version": "1.2.0",
            "_model_name": "LayoutModel",
            "_view_count": null,
            "_view_module": "@jupyter-widgets/base",
            "_view_module_version": "1.2.0",
            "_view_name": "LayoutView",
            "align_content": null,
            "align_items": null,
            "align_self": null,
            "border": null,
            "bottom": null,
            "display": null,
            "flex": null,
            "flex_flow": null,
            "grid_area": null,
            "grid_auto_columns": null,
            "grid_auto_flow": null,
            "grid_auto_rows": null,
            "grid_column": null,
            "grid_gap": null,
            "grid_row": null,
            "grid_template_areas": null,
            "grid_template_columns": null,
            "grid_template_rows": null,
            "height": null,
            "justify_content": null,
            "justify_items": null,
            "left": null,
            "margin": null,
            "max_height": null,
            "max_width": null,
            "min_height": null,
            "min_width": null,
            "object_fit": null,
            "object_position": null,
            "order": null,
            "overflow": null,
            "overflow_x": null,
            "overflow_y": null,
            "padding": null,
            "right": null,
            "top": null,
            "visibility": null,
            "width": null
          }
        },
        "98b32ef6f0fe4b2486f49bd5a0d7e2f5": {
          "model_module": "@jupyter-widgets/controls",
          "model_name": "DescriptionStyleModel",
          "model_module_version": "1.5.0",
          "state": {
            "_model_module": "@jupyter-widgets/controls",
            "_model_module_version": "1.5.0",
            "_model_name": "DescriptionStyleModel",
            "_view_count": null,
            "_view_module": "@jupyter-widgets/base",
            "_view_module_version": "1.2.0",
            "_view_name": "StyleView",
            "description_width": ""
          }
        },
        "e5b10d7f33014a709bcf86da1c2fbfe6": {
          "model_module": "@jupyter-widgets/base",
          "model_name": "LayoutModel",
          "model_module_version": "1.2.0",
          "state": {
            "_model_module": "@jupyter-widgets/base",
            "_model_module_version": "1.2.0",
            "_model_name": "LayoutModel",
            "_view_count": null,
            "_view_module": "@jupyter-widgets/base",
            "_view_module_version": "1.2.0",
            "_view_name": "LayoutView",
            "align_content": null,
            "align_items": null,
            "align_self": null,
            "border": null,
            "bottom": null,
            "display": null,
            "flex": null,
            "flex_flow": null,
            "grid_area": null,
            "grid_auto_columns": null,
            "grid_auto_flow": null,
            "grid_auto_rows": null,
            "grid_column": null,
            "grid_gap": null,
            "grid_row": null,
            "grid_template_areas": null,
            "grid_template_columns": null,
            "grid_template_rows": null,
            "height": null,
            "justify_content": null,
            "justify_items": null,
            "left": null,
            "margin": null,
            "max_height": null,
            "max_width": null,
            "min_height": null,
            "min_width": null,
            "object_fit": null,
            "object_position": null,
            "order": null,
            "overflow": null,
            "overflow_x": null,
            "overflow_y": null,
            "padding": null,
            "right": null,
            "top": null,
            "visibility": null,
            "width": null
          }
        },
        "4ab1fed8584840d6afd5b9f552f80982": {
          "model_module": "@jupyter-widgets/controls",
          "model_name": "ProgressStyleModel",
          "model_module_version": "1.5.0",
          "state": {
            "_model_module": "@jupyter-widgets/controls",
            "_model_module_version": "1.5.0",
            "_model_name": "ProgressStyleModel",
            "_view_count": null,
            "_view_module": "@jupyter-widgets/base",
            "_view_module_version": "1.2.0",
            "_view_name": "StyleView",
            "bar_color": null,
            "description_width": ""
          }
        },
        "94620322189b46fca77529dca94bb405": {
          "model_module": "@jupyter-widgets/base",
          "model_name": "LayoutModel",
          "model_module_version": "1.2.0",
          "state": {
            "_model_module": "@jupyter-widgets/base",
            "_model_module_version": "1.2.0",
            "_model_name": "LayoutModel",
            "_view_count": null,
            "_view_module": "@jupyter-widgets/base",
            "_view_module_version": "1.2.0",
            "_view_name": "LayoutView",
            "align_content": null,
            "align_items": null,
            "align_self": null,
            "border": null,
            "bottom": null,
            "display": null,
            "flex": null,
            "flex_flow": null,
            "grid_area": null,
            "grid_auto_columns": null,
            "grid_auto_flow": null,
            "grid_auto_rows": null,
            "grid_column": null,
            "grid_gap": null,
            "grid_row": null,
            "grid_template_areas": null,
            "grid_template_columns": null,
            "grid_template_rows": null,
            "height": null,
            "justify_content": null,
            "justify_items": null,
            "left": null,
            "margin": null,
            "max_height": null,
            "max_width": null,
            "min_height": null,
            "min_width": null,
            "object_fit": null,
            "object_position": null,
            "order": null,
            "overflow": null,
            "overflow_x": null,
            "overflow_y": null,
            "padding": null,
            "right": null,
            "top": null,
            "visibility": null,
            "width": null
          }
        },
        "0887521e0ee249e799c97e42b55deeba": {
          "model_module": "@jupyter-widgets/controls",
          "model_name": "DescriptionStyleModel",
          "model_module_version": "1.5.0",
          "state": {
            "_model_module": "@jupyter-widgets/controls",
            "_model_module_version": "1.5.0",
            "_model_name": "DescriptionStyleModel",
            "_view_count": null,
            "_view_module": "@jupyter-widgets/base",
            "_view_module_version": "1.2.0",
            "_view_name": "StyleView",
            "description_width": ""
          }
        },
        "0f1cd893f7604e5085cc3520dd0d6dd4": {
          "model_module": "@jupyter-widgets/controls",
          "model_name": "HBoxModel",
          "model_module_version": "1.5.0",
          "state": {
            "_dom_classes": [],
            "_model_module": "@jupyter-widgets/controls",
            "_model_module_version": "1.5.0",
            "_model_name": "HBoxModel",
            "_view_count": null,
            "_view_module": "@jupyter-widgets/controls",
            "_view_module_version": "1.5.0",
            "_view_name": "HBoxView",
            "box_style": "",
            "children": [
              "IPY_MODEL_e1725d80ab3348308ff19819c9aca113",
              "IPY_MODEL_e75f3b738377489f970722db9ac1df05",
              "IPY_MODEL_d0b3a94c96014c85925b746b6aecec8c"
            ],
            "layout": "IPY_MODEL_5714e1aeb05e42fdbe553d989c87cf44"
          }
        },
        "e1725d80ab3348308ff19819c9aca113": {
          "model_module": "@jupyter-widgets/controls",
          "model_name": "HTMLModel",
          "model_module_version": "1.5.0",
          "state": {
            "_dom_classes": [],
            "_model_module": "@jupyter-widgets/controls",
            "_model_module_version": "1.5.0",
            "_model_name": "HTMLModel",
            "_view_count": null,
            "_view_module": "@jupyter-widgets/controls",
            "_view_module_version": "1.5.0",
            "_view_name": "HTMLView",
            "description": "",
            "description_tooltip": null,
            "layout": "IPY_MODEL_6075d3a47ab44c419e95385f644c72ab",
            "placeholder": "​",
            "style": "IPY_MODEL_020b1a57f3c642fea9b542f5158adbdf",
            "value": "Downloading: 100%"
          }
        },
        "e75f3b738377489f970722db9ac1df05": {
          "model_module": "@jupyter-widgets/controls",
          "model_name": "FloatProgressModel",
          "model_module_version": "1.5.0",
          "state": {
            "_dom_classes": [],
            "_model_module": "@jupyter-widgets/controls",
            "_model_module_version": "1.5.0",
            "_model_name": "FloatProgressModel",
            "_view_count": null,
            "_view_module": "@jupyter-widgets/controls",
            "_view_module_version": "1.5.0",
            "_view_name": "ProgressView",
            "bar_style": "success",
            "description": "",
            "description_tooltip": null,
            "layout": "IPY_MODEL_b8dcbbf2f1d94d80ade1815ba084869d",
            "max": 5069051,
            "min": 0,
            "orientation": "horizontal",
            "style": "IPY_MODEL_5bd0eb57fcc24763b6287d2d7c3aa209",
            "value": 5069051
          }
        },
        "d0b3a94c96014c85925b746b6aecec8c": {
          "model_module": "@jupyter-widgets/controls",
          "model_name": "HTMLModel",
          "model_module_version": "1.5.0",
          "state": {
            "_dom_classes": [],
            "_model_module": "@jupyter-widgets/controls",
            "_model_module_version": "1.5.0",
            "_model_name": "HTMLModel",
            "_view_count": null,
            "_view_module": "@jupyter-widgets/controls",
            "_view_module_version": "1.5.0",
            "_view_name": "HTMLView",
            "description": "",
            "description_tooltip": null,
            "layout": "IPY_MODEL_3f7cf71668074d4f920a6c785800da96",
            "placeholder": "​",
            "style": "IPY_MODEL_cd2afdc019f4419489f1a0c7ff3edc20",
            "value": " 5.07M/5.07M [00:00&lt;00:00, 26.6MB/s]"
          }
        },
        "5714e1aeb05e42fdbe553d989c87cf44": {
          "model_module": "@jupyter-widgets/base",
          "model_name": "LayoutModel",
          "model_module_version": "1.2.0",
          "state": {
            "_model_module": "@jupyter-widgets/base",
            "_model_module_version": "1.2.0",
            "_model_name": "LayoutModel",
            "_view_count": null,
            "_view_module": "@jupyter-widgets/base",
            "_view_module_version": "1.2.0",
            "_view_name": "LayoutView",
            "align_content": null,
            "align_items": null,
            "align_self": null,
            "border": null,
            "bottom": null,
            "display": null,
            "flex": null,
            "flex_flow": null,
            "grid_area": null,
            "grid_auto_columns": null,
            "grid_auto_flow": null,
            "grid_auto_rows": null,
            "grid_column": null,
            "grid_gap": null,
            "grid_row": null,
            "grid_template_areas": null,
            "grid_template_columns": null,
            "grid_template_rows": null,
            "height": null,
            "justify_content": null,
            "justify_items": null,
            "left": null,
            "margin": null,
            "max_height": null,
            "max_width": null,
            "min_height": null,
            "min_width": null,
            "object_fit": null,
            "object_position": null,
            "order": null,
            "overflow": null,
            "overflow_x": null,
            "overflow_y": null,
            "padding": null,
            "right": null,
            "top": null,
            "visibility": null,
            "width": null
          }
        },
        "6075d3a47ab44c419e95385f644c72ab": {
          "model_module": "@jupyter-widgets/base",
          "model_name": "LayoutModel",
          "model_module_version": "1.2.0",
          "state": {
            "_model_module": "@jupyter-widgets/base",
            "_model_module_version": "1.2.0",
            "_model_name": "LayoutModel",
            "_view_count": null,
            "_view_module": "@jupyter-widgets/base",
            "_view_module_version": "1.2.0",
            "_view_name": "LayoutView",
            "align_content": null,
            "align_items": null,
            "align_self": null,
            "border": null,
            "bottom": null,
            "display": null,
            "flex": null,
            "flex_flow": null,
            "grid_area": null,
            "grid_auto_columns": null,
            "grid_auto_flow": null,
            "grid_auto_rows": null,
            "grid_column": null,
            "grid_gap": null,
            "grid_row": null,
            "grid_template_areas": null,
            "grid_template_columns": null,
            "grid_template_rows": null,
            "height": null,
            "justify_content": null,
            "justify_items": null,
            "left": null,
            "margin": null,
            "max_height": null,
            "max_width": null,
            "min_height": null,
            "min_width": null,
            "object_fit": null,
            "object_position": null,
            "order": null,
            "overflow": null,
            "overflow_x": null,
            "overflow_y": null,
            "padding": null,
            "right": null,
            "top": null,
            "visibility": null,
            "width": null
          }
        },
        "020b1a57f3c642fea9b542f5158adbdf": {
          "model_module": "@jupyter-widgets/controls",
          "model_name": "DescriptionStyleModel",
          "model_module_version": "1.5.0",
          "state": {
            "_model_module": "@jupyter-widgets/controls",
            "_model_module_version": "1.5.0",
            "_model_name": "DescriptionStyleModel",
            "_view_count": null,
            "_view_module": "@jupyter-widgets/base",
            "_view_module_version": "1.2.0",
            "_view_name": "StyleView",
            "description_width": ""
          }
        },
        "b8dcbbf2f1d94d80ade1815ba084869d": {
          "model_module": "@jupyter-widgets/base",
          "model_name": "LayoutModel",
          "model_module_version": "1.2.0",
          "state": {
            "_model_module": "@jupyter-widgets/base",
            "_model_module_version": "1.2.0",
            "_model_name": "LayoutModel",
            "_view_count": null,
            "_view_module": "@jupyter-widgets/base",
            "_view_module_version": "1.2.0",
            "_view_name": "LayoutView",
            "align_content": null,
            "align_items": null,
            "align_self": null,
            "border": null,
            "bottom": null,
            "display": null,
            "flex": null,
            "flex_flow": null,
            "grid_area": null,
            "grid_auto_columns": null,
            "grid_auto_flow": null,
            "grid_auto_rows": null,
            "grid_column": null,
            "grid_gap": null,
            "grid_row": null,
            "grid_template_areas": null,
            "grid_template_columns": null,
            "grid_template_rows": null,
            "height": null,
            "justify_content": null,
            "justify_items": null,
            "left": null,
            "margin": null,
            "max_height": null,
            "max_width": null,
            "min_height": null,
            "min_width": null,
            "object_fit": null,
            "object_position": null,
            "order": null,
            "overflow": null,
            "overflow_x": null,
            "overflow_y": null,
            "padding": null,
            "right": null,
            "top": null,
            "visibility": null,
            "width": null
          }
        },
        "5bd0eb57fcc24763b6287d2d7c3aa209": {
          "model_module": "@jupyter-widgets/controls",
          "model_name": "ProgressStyleModel",
          "model_module_version": "1.5.0",
          "state": {
            "_model_module": "@jupyter-widgets/controls",
            "_model_module_version": "1.5.0",
            "_model_name": "ProgressStyleModel",
            "_view_count": null,
            "_view_module": "@jupyter-widgets/base",
            "_view_module_version": "1.2.0",
            "_view_name": "StyleView",
            "bar_color": null,
            "description_width": ""
          }
        },
        "3f7cf71668074d4f920a6c785800da96": {
          "model_module": "@jupyter-widgets/base",
          "model_name": "LayoutModel",
          "model_module_version": "1.2.0",
          "state": {
            "_model_module": "@jupyter-widgets/base",
            "_model_module_version": "1.2.0",
            "_model_name": "LayoutModel",
            "_view_count": null,
            "_view_module": "@jupyter-widgets/base",
            "_view_module_version": "1.2.0",
            "_view_name": "LayoutView",
            "align_content": null,
            "align_items": null,
            "align_self": null,
            "border": null,
            "bottom": null,
            "display": null,
            "flex": null,
            "flex_flow": null,
            "grid_area": null,
            "grid_auto_columns": null,
            "grid_auto_flow": null,
            "grid_auto_rows": null,
            "grid_column": null,
            "grid_gap": null,
            "grid_row": null,
            "grid_template_areas": null,
            "grid_template_columns": null,
            "grid_template_rows": null,
            "height": null,
            "justify_content": null,
            "justify_items": null,
            "left": null,
            "margin": null,
            "max_height": null,
            "max_width": null,
            "min_height": null,
            "min_width": null,
            "object_fit": null,
            "object_position": null,
            "order": null,
            "overflow": null,
            "overflow_x": null,
            "overflow_y": null,
            "padding": null,
            "right": null,
            "top": null,
            "visibility": null,
            "width": null
          }
        },
        "cd2afdc019f4419489f1a0c7ff3edc20": {
          "model_module": "@jupyter-widgets/controls",
          "model_name": "DescriptionStyleModel",
          "model_module_version": "1.5.0",
          "state": {
            "_model_module": "@jupyter-widgets/controls",
            "_model_module_version": "1.5.0",
            "_model_name": "DescriptionStyleModel",
            "_view_count": null,
            "_view_module": "@jupyter-widgets/base",
            "_view_module_version": "1.2.0",
            "_view_name": "StyleView",
            "description_width": ""
          }
        },
        "c9f779ad207c404b962a2dd48431231d": {
          "model_module": "@jupyter-widgets/controls",
          "model_name": "HBoxModel",
          "model_module_version": "1.5.0",
          "state": {
            "_dom_classes": [],
            "_model_module": "@jupyter-widgets/controls",
            "_model_module_version": "1.5.0",
            "_model_name": "HBoxModel",
            "_view_count": null,
            "_view_module": "@jupyter-widgets/controls",
            "_view_module_version": "1.5.0",
            "_view_name": "HBoxView",
            "box_style": "",
            "children": [
              "IPY_MODEL_8914737b7c2748bab49ded45226108f2",
              "IPY_MODEL_9a942eea08ab4921b4c2102fc16c3517",
              "IPY_MODEL_0d8c4cee8267403388f8c45f8bedcbeb"
            ],
            "layout": "IPY_MODEL_c8850b43d6344e6880436ffa847df16f"
          }
        },
        "8914737b7c2748bab49ded45226108f2": {
          "model_module": "@jupyter-widgets/controls",
          "model_name": "HTMLModel",
          "model_module_version": "1.5.0",
          "state": {
            "_dom_classes": [],
            "_model_module": "@jupyter-widgets/controls",
            "_model_module_version": "1.5.0",
            "_model_name": "HTMLModel",
            "_view_count": null,
            "_view_module": "@jupyter-widgets/controls",
            "_view_module_version": "1.5.0",
            "_view_name": "HTMLView",
            "description": "",
            "description_tooltip": null,
            "layout": "IPY_MODEL_2f59a90a85624a529eb893c55fb7985f",
            "placeholder": "​",
            "style": "IPY_MODEL_314738d03fde46aab33339445ac52660",
            "value": "Downloading: 100%"
          }
        },
        "9a942eea08ab4921b4c2102fc16c3517": {
          "model_module": "@jupyter-widgets/controls",
          "model_name": "FloatProgressModel",
          "model_module_version": "1.5.0",
          "state": {
            "_dom_classes": [],
            "_model_module": "@jupyter-widgets/controls",
            "_model_module_version": "1.5.0",
            "_model_name": "FloatProgressModel",
            "_view_count": null,
            "_view_module": "@jupyter-widgets/controls",
            "_view_module_version": "1.5.0",
            "_view_name": "ProgressView",
            "bar_style": "success",
            "description": "",
            "description_tooltip": null,
            "layout": "IPY_MODEL_dda1176d77754e65857b2c0d7e186157",
            "max": 9096718,
            "min": 0,
            "orientation": "horizontal",
            "style": "IPY_MODEL_9c8c62e7c5024003a09d9f25c0d838b3",
            "value": 9096718
          }
        },
        "0d8c4cee8267403388f8c45f8bedcbeb": {
          "model_module": "@jupyter-widgets/controls",
          "model_name": "HTMLModel",
          "model_module_version": "1.5.0",
          "state": {
            "_dom_classes": [],
            "_model_module": "@jupyter-widgets/controls",
            "_model_module_version": "1.5.0",
            "_model_name": "HTMLModel",
            "_view_count": null,
            "_view_module": "@jupyter-widgets/controls",
            "_view_module_version": "1.5.0",
            "_view_name": "HTMLView",
            "description": "",
            "description_tooltip": null,
            "layout": "IPY_MODEL_9a263b0ed57f4dcda5916c5bda3ad08b",
            "placeholder": "​",
            "style": "IPY_MODEL_ea7afcc309724b3dbe4f8cac4d20ab81",
            "value": " 9.10M/9.10M [00:00&lt;00:00, 48.1MB/s]"
          }
        },
        "c8850b43d6344e6880436ffa847df16f": {
          "model_module": "@jupyter-widgets/base",
          "model_name": "LayoutModel",
          "model_module_version": "1.2.0",
          "state": {
            "_model_module": "@jupyter-widgets/base",
            "_model_module_version": "1.2.0",
            "_model_name": "LayoutModel",
            "_view_count": null,
            "_view_module": "@jupyter-widgets/base",
            "_view_module_version": "1.2.0",
            "_view_name": "LayoutView",
            "align_content": null,
            "align_items": null,
            "align_self": null,
            "border": null,
            "bottom": null,
            "display": null,
            "flex": null,
            "flex_flow": null,
            "grid_area": null,
            "grid_auto_columns": null,
            "grid_auto_flow": null,
            "grid_auto_rows": null,
            "grid_column": null,
            "grid_gap": null,
            "grid_row": null,
            "grid_template_areas": null,
            "grid_template_columns": null,
            "grid_template_rows": null,
            "height": null,
            "justify_content": null,
            "justify_items": null,
            "left": null,
            "margin": null,
            "max_height": null,
            "max_width": null,
            "min_height": null,
            "min_width": null,
            "object_fit": null,
            "object_position": null,
            "order": null,
            "overflow": null,
            "overflow_x": null,
            "overflow_y": null,
            "padding": null,
            "right": null,
            "top": null,
            "visibility": null,
            "width": null
          }
        },
        "2f59a90a85624a529eb893c55fb7985f": {
          "model_module": "@jupyter-widgets/base",
          "model_name": "LayoutModel",
          "model_module_version": "1.2.0",
          "state": {
            "_model_module": "@jupyter-widgets/base",
            "_model_module_version": "1.2.0",
            "_model_name": "LayoutModel",
            "_view_count": null,
            "_view_module": "@jupyter-widgets/base",
            "_view_module_version": "1.2.0",
            "_view_name": "LayoutView",
            "align_content": null,
            "align_items": null,
            "align_self": null,
            "border": null,
            "bottom": null,
            "display": null,
            "flex": null,
            "flex_flow": null,
            "grid_area": null,
            "grid_auto_columns": null,
            "grid_auto_flow": null,
            "grid_auto_rows": null,
            "grid_column": null,
            "grid_gap": null,
            "grid_row": null,
            "grid_template_areas": null,
            "grid_template_columns": null,
            "grid_template_rows": null,
            "height": null,
            "justify_content": null,
            "justify_items": null,
            "left": null,
            "margin": null,
            "max_height": null,
            "max_width": null,
            "min_height": null,
            "min_width": null,
            "object_fit": null,
            "object_position": null,
            "order": null,
            "overflow": null,
            "overflow_x": null,
            "overflow_y": null,
            "padding": null,
            "right": null,
            "top": null,
            "visibility": null,
            "width": null
          }
        },
        "314738d03fde46aab33339445ac52660": {
          "model_module": "@jupyter-widgets/controls",
          "model_name": "DescriptionStyleModel",
          "model_module_version": "1.5.0",
          "state": {
            "_model_module": "@jupyter-widgets/controls",
            "_model_module_version": "1.5.0",
            "_model_name": "DescriptionStyleModel",
            "_view_count": null,
            "_view_module": "@jupyter-widgets/base",
            "_view_module_version": "1.2.0",
            "_view_name": "StyleView",
            "description_width": ""
          }
        },
        "dda1176d77754e65857b2c0d7e186157": {
          "model_module": "@jupyter-widgets/base",
          "model_name": "LayoutModel",
          "model_module_version": "1.2.0",
          "state": {
            "_model_module": "@jupyter-widgets/base",
            "_model_module_version": "1.2.0",
            "_model_name": "LayoutModel",
            "_view_count": null,
            "_view_module": "@jupyter-widgets/base",
            "_view_module_version": "1.2.0",
            "_view_name": "LayoutView",
            "align_content": null,
            "align_items": null,
            "align_self": null,
            "border": null,
            "bottom": null,
            "display": null,
            "flex": null,
            "flex_flow": null,
            "grid_area": null,
            "grid_auto_columns": null,
            "grid_auto_flow": null,
            "grid_auto_rows": null,
            "grid_column": null,
            "grid_gap": null,
            "grid_row": null,
            "grid_template_areas": null,
            "grid_template_columns": null,
            "grid_template_rows": null,
            "height": null,
            "justify_content": null,
            "justify_items": null,
            "left": null,
            "margin": null,
            "max_height": null,
            "max_width": null,
            "min_height": null,
            "min_width": null,
            "object_fit": null,
            "object_position": null,
            "order": null,
            "overflow": null,
            "overflow_x": null,
            "overflow_y": null,
            "padding": null,
            "right": null,
            "top": null,
            "visibility": null,
            "width": null
          }
        },
        "9c8c62e7c5024003a09d9f25c0d838b3": {
          "model_module": "@jupyter-widgets/controls",
          "model_name": "ProgressStyleModel",
          "model_module_version": "1.5.0",
          "state": {
            "_model_module": "@jupyter-widgets/controls",
            "_model_module_version": "1.5.0",
            "_model_name": "ProgressStyleModel",
            "_view_count": null,
            "_view_module": "@jupyter-widgets/base",
            "_view_module_version": "1.2.0",
            "_view_name": "StyleView",
            "bar_color": null,
            "description_width": ""
          }
        },
        "9a263b0ed57f4dcda5916c5bda3ad08b": {
          "model_module": "@jupyter-widgets/base",
          "model_name": "LayoutModel",
          "model_module_version": "1.2.0",
          "state": {
            "_model_module": "@jupyter-widgets/base",
            "_model_module_version": "1.2.0",
            "_model_name": "LayoutModel",
            "_view_count": null,
            "_view_module": "@jupyter-widgets/base",
            "_view_module_version": "1.2.0",
            "_view_name": "LayoutView",
            "align_content": null,
            "align_items": null,
            "align_self": null,
            "border": null,
            "bottom": null,
            "display": null,
            "flex": null,
            "flex_flow": null,
            "grid_area": null,
            "grid_auto_columns": null,
            "grid_auto_flow": null,
            "grid_auto_rows": null,
            "grid_column": null,
            "grid_gap": null,
            "grid_row": null,
            "grid_template_areas": null,
            "grid_template_columns": null,
            "grid_template_rows": null,
            "height": null,
            "justify_content": null,
            "justify_items": null,
            "left": null,
            "margin": null,
            "max_height": null,
            "max_width": null,
            "min_height": null,
            "min_width": null,
            "object_fit": null,
            "object_position": null,
            "order": null,
            "overflow": null,
            "overflow_x": null,
            "overflow_y": null,
            "padding": null,
            "right": null,
            "top": null,
            "visibility": null,
            "width": null
          }
        },
        "ea7afcc309724b3dbe4f8cac4d20ab81": {
          "model_module": "@jupyter-widgets/controls",
          "model_name": "DescriptionStyleModel",
          "model_module_version": "1.5.0",
          "state": {
            "_model_module": "@jupyter-widgets/controls",
            "_model_module_version": "1.5.0",
            "_model_name": "DescriptionStyleModel",
            "_view_count": null,
            "_view_module": "@jupyter-widgets/base",
            "_view_module_version": "1.2.0",
            "_view_name": "StyleView",
            "description_width": ""
          }
        },
        "42d6ea6c769e4ede9ecc441bd81df8c7": {
          "model_module": "@jupyter-widgets/controls",
          "model_name": "HBoxModel",
          "model_module_version": "1.5.0",
          "state": {
            "_dom_classes": [],
            "_model_module": "@jupyter-widgets/controls",
            "_model_module_version": "1.5.0",
            "_model_name": "HBoxModel",
            "_view_count": null,
            "_view_module": "@jupyter-widgets/controls",
            "_view_module_version": "1.5.0",
            "_view_name": "HBoxView",
            "box_style": "",
            "children": [
              "IPY_MODEL_91a057fcd957494387d2c1c2b1593c9c",
              "IPY_MODEL_11ba3df39ec044689758ffb8812ce6a1",
              "IPY_MODEL_ea64eeecc3724cf2817f78cddd6b3ca6"
            ],
            "layout": "IPY_MODEL_b5ebd207dc834f048f83da96484fd12a"
          }
        },
        "91a057fcd957494387d2c1c2b1593c9c": {
          "model_module": "@jupyter-widgets/controls",
          "model_name": "HTMLModel",
          "model_module_version": "1.5.0",
          "state": {
            "_dom_classes": [],
            "_model_module": "@jupyter-widgets/controls",
            "_model_module_version": "1.5.0",
            "_model_name": "HTMLModel",
            "_view_count": null,
            "_view_module": "@jupyter-widgets/controls",
            "_view_module_version": "1.5.0",
            "_view_name": "HTMLView",
            "description": "",
            "description_tooltip": null,
            "layout": "IPY_MODEL_bfd0aab693434b6fa932fc2f32236847",
            "placeholder": "​",
            "style": "IPY_MODEL_2d6d7fd973f94265b5e4c7d76e6370c8",
            "value": "100%"
          }
        },
        "11ba3df39ec044689758ffb8812ce6a1": {
          "model_module": "@jupyter-widgets/controls",
          "model_name": "FloatProgressModel",
          "model_module_version": "1.5.0",
          "state": {
            "_dom_classes": [],
            "_model_module": "@jupyter-widgets/controls",
            "_model_module_version": "1.5.0",
            "_model_name": "FloatProgressModel",
            "_view_count": null,
            "_view_module": "@jupyter-widgets/controls",
            "_view_module_version": "1.5.0",
            "_view_name": "ProgressView",
            "bar_style": "success",
            "description": "",
            "description_tooltip": null,
            "layout": "IPY_MODEL_cb9a618190d04f4b9786d18cae0d9edb",
            "max": 19007,
            "min": 0,
            "orientation": "horizontal",
            "style": "IPY_MODEL_e6274a2ef9f7490393ab500939285516",
            "value": 19007
          }
        },
        "ea64eeecc3724cf2817f78cddd6b3ca6": {
          "model_module": "@jupyter-widgets/controls",
          "model_name": "HTMLModel",
          "model_module_version": "1.5.0",
          "state": {
            "_dom_classes": [],
            "_model_module": "@jupyter-widgets/controls",
            "_model_module_version": "1.5.0",
            "_model_name": "HTMLModel",
            "_view_count": null,
            "_view_module": "@jupyter-widgets/controls",
            "_view_module_version": "1.5.0",
            "_view_name": "HTMLView",
            "description": "",
            "description_tooltip": null,
            "layout": "IPY_MODEL_ee44f9680cca4e5e82cc2ae8fe178bef",
            "placeholder": "​",
            "style": "IPY_MODEL_9a4f8185a0ce46e68346a3d10bdf5a10",
            "value": " 19007/19007 [04:00&lt;00:00, 66.76it/s]"
          }
        },
        "b5ebd207dc834f048f83da96484fd12a": {
          "model_module": "@jupyter-widgets/base",
          "model_name": "LayoutModel",
          "model_module_version": "1.2.0",
          "state": {
            "_model_module": "@jupyter-widgets/base",
            "_model_module_version": "1.2.0",
            "_model_name": "LayoutModel",
            "_view_count": null,
            "_view_module": "@jupyter-widgets/base",
            "_view_module_version": "1.2.0",
            "_view_name": "LayoutView",
            "align_content": null,
            "align_items": null,
            "align_self": null,
            "border": null,
            "bottom": null,
            "display": null,
            "flex": null,
            "flex_flow": null,
            "grid_area": null,
            "grid_auto_columns": null,
            "grid_auto_flow": null,
            "grid_auto_rows": null,
            "grid_column": null,
            "grid_gap": null,
            "grid_row": null,
            "grid_template_areas": null,
            "grid_template_columns": null,
            "grid_template_rows": null,
            "height": null,
            "justify_content": null,
            "justify_items": null,
            "left": null,
            "margin": null,
            "max_height": null,
            "max_width": null,
            "min_height": null,
            "min_width": null,
            "object_fit": null,
            "object_position": null,
            "order": null,
            "overflow": null,
            "overflow_x": null,
            "overflow_y": null,
            "padding": null,
            "right": null,
            "top": null,
            "visibility": null,
            "width": null
          }
        },
        "bfd0aab693434b6fa932fc2f32236847": {
          "model_module": "@jupyter-widgets/base",
          "model_name": "LayoutModel",
          "model_module_version": "1.2.0",
          "state": {
            "_model_module": "@jupyter-widgets/base",
            "_model_module_version": "1.2.0",
            "_model_name": "LayoutModel",
            "_view_count": null,
            "_view_module": "@jupyter-widgets/base",
            "_view_module_version": "1.2.0",
            "_view_name": "LayoutView",
            "align_content": null,
            "align_items": null,
            "align_self": null,
            "border": null,
            "bottom": null,
            "display": null,
            "flex": null,
            "flex_flow": null,
            "grid_area": null,
            "grid_auto_columns": null,
            "grid_auto_flow": null,
            "grid_auto_rows": null,
            "grid_column": null,
            "grid_gap": null,
            "grid_row": null,
            "grid_template_areas": null,
            "grid_template_columns": null,
            "grid_template_rows": null,
            "height": null,
            "justify_content": null,
            "justify_items": null,
            "left": null,
            "margin": null,
            "max_height": null,
            "max_width": null,
            "min_height": null,
            "min_width": null,
            "object_fit": null,
            "object_position": null,
            "order": null,
            "overflow": null,
            "overflow_x": null,
            "overflow_y": null,
            "padding": null,
            "right": null,
            "top": null,
            "visibility": null,
            "width": null
          }
        },
        "2d6d7fd973f94265b5e4c7d76e6370c8": {
          "model_module": "@jupyter-widgets/controls",
          "model_name": "DescriptionStyleModel",
          "model_module_version": "1.5.0",
          "state": {
            "_model_module": "@jupyter-widgets/controls",
            "_model_module_version": "1.5.0",
            "_model_name": "DescriptionStyleModel",
            "_view_count": null,
            "_view_module": "@jupyter-widgets/base",
            "_view_module_version": "1.2.0",
            "_view_name": "StyleView",
            "description_width": ""
          }
        },
        "cb9a618190d04f4b9786d18cae0d9edb": {
          "model_module": "@jupyter-widgets/base",
          "model_name": "LayoutModel",
          "model_module_version": "1.2.0",
          "state": {
            "_model_module": "@jupyter-widgets/base",
            "_model_module_version": "1.2.0",
            "_model_name": "LayoutModel",
            "_view_count": null,
            "_view_module": "@jupyter-widgets/base",
            "_view_module_version": "1.2.0",
            "_view_name": "LayoutView",
            "align_content": null,
            "align_items": null,
            "align_self": null,
            "border": null,
            "bottom": null,
            "display": null,
            "flex": null,
            "flex_flow": null,
            "grid_area": null,
            "grid_auto_columns": null,
            "grid_auto_flow": null,
            "grid_auto_rows": null,
            "grid_column": null,
            "grid_gap": null,
            "grid_row": null,
            "grid_template_areas": null,
            "grid_template_columns": null,
            "grid_template_rows": null,
            "height": null,
            "justify_content": null,
            "justify_items": null,
            "left": null,
            "margin": null,
            "max_height": null,
            "max_width": null,
            "min_height": null,
            "min_width": null,
            "object_fit": null,
            "object_position": null,
            "order": null,
            "overflow": null,
            "overflow_x": null,
            "overflow_y": null,
            "padding": null,
            "right": null,
            "top": null,
            "visibility": null,
            "width": null
          }
        },
        "e6274a2ef9f7490393ab500939285516": {
          "model_module": "@jupyter-widgets/controls",
          "model_name": "ProgressStyleModel",
          "model_module_version": "1.5.0",
          "state": {
            "_model_module": "@jupyter-widgets/controls",
            "_model_module_version": "1.5.0",
            "_model_name": "ProgressStyleModel",
            "_view_count": null,
            "_view_module": "@jupyter-widgets/base",
            "_view_module_version": "1.2.0",
            "_view_name": "StyleView",
            "bar_color": null,
            "description_width": ""
          }
        },
        "ee44f9680cca4e5e82cc2ae8fe178bef": {
          "model_module": "@jupyter-widgets/base",
          "model_name": "LayoutModel",
          "model_module_version": "1.2.0",
          "state": {
            "_model_module": "@jupyter-widgets/base",
            "_model_module_version": "1.2.0",
            "_model_name": "LayoutModel",
            "_view_count": null,
            "_view_module": "@jupyter-widgets/base",
            "_view_module_version": "1.2.0",
            "_view_name": "LayoutView",
            "align_content": null,
            "align_items": null,
            "align_self": null,
            "border": null,
            "bottom": null,
            "display": null,
            "flex": null,
            "flex_flow": null,
            "grid_area": null,
            "grid_auto_columns": null,
            "grid_auto_flow": null,
            "grid_auto_rows": null,
            "grid_column": null,
            "grid_gap": null,
            "grid_row": null,
            "grid_template_areas": null,
            "grid_template_columns": null,
            "grid_template_rows": null,
            "height": null,
            "justify_content": null,
            "justify_items": null,
            "left": null,
            "margin": null,
            "max_height": null,
            "max_width": null,
            "min_height": null,
            "min_width": null,
            "object_fit": null,
            "object_position": null,
            "order": null,
            "overflow": null,
            "overflow_x": null,
            "overflow_y": null,
            "padding": null,
            "right": null,
            "top": null,
            "visibility": null,
            "width": null
          }
        },
        "9a4f8185a0ce46e68346a3d10bdf5a10": {
          "model_module": "@jupyter-widgets/controls",
          "model_name": "DescriptionStyleModel",
          "model_module_version": "1.5.0",
          "state": {
            "_model_module": "@jupyter-widgets/controls",
            "_model_module_version": "1.5.0",
            "_model_name": "DescriptionStyleModel",
            "_view_count": null,
            "_view_module": "@jupyter-widgets/base",
            "_view_module_version": "1.2.0",
            "_view_name": "StyleView",
            "description_width": ""
          }
        },
        "e6094f40352242a7a15350de28d2692e": {
          "model_module": "@jupyter-widgets/controls",
          "model_name": "HBoxModel",
          "model_module_version": "1.5.0",
          "state": {
            "_dom_classes": [],
            "_model_module": "@jupyter-widgets/controls",
            "_model_module_version": "1.5.0",
            "_model_name": "HBoxModel",
            "_view_count": null,
            "_view_module": "@jupyter-widgets/controls",
            "_view_module_version": "1.5.0",
            "_view_name": "HBoxView",
            "box_style": "",
            "children": [
              "IPY_MODEL_4248bf735d0e427aabfb7e4ece08a1c7",
              "IPY_MODEL_f8ec9db62d68489d83f3057fd5372d64",
              "IPY_MODEL_755286b50e3b4a6d9ac6d66014d96f5c"
            ],
            "layout": "IPY_MODEL_5777c80e34b94ee68ce4d12a7f8d24a6"
          }
        },
        "4248bf735d0e427aabfb7e4ece08a1c7": {
          "model_module": "@jupyter-widgets/controls",
          "model_name": "HTMLModel",
          "model_module_version": "1.5.0",
          "state": {
            "_dom_classes": [],
            "_model_module": "@jupyter-widgets/controls",
            "_model_module_version": "1.5.0",
            "_model_name": "HTMLModel",
            "_view_count": null,
            "_view_module": "@jupyter-widgets/controls",
            "_view_module_version": "1.5.0",
            "_view_name": "HTMLView",
            "description": "",
            "description_tooltip": null,
            "layout": "IPY_MODEL_fc97662c31f94ed8b590485f7868ecce",
            "placeholder": "​",
            "style": "IPY_MODEL_9429130684ed4a709099bcd991936669",
            "value": "100%"
          }
        },
        "f8ec9db62d68489d83f3057fd5372d64": {
          "model_module": "@jupyter-widgets/controls",
          "model_name": "FloatProgressModel",
          "model_module_version": "1.5.0",
          "state": {
            "_dom_classes": [],
            "_model_module": "@jupyter-widgets/controls",
            "_model_module_version": "1.5.0",
            "_model_name": "FloatProgressModel",
            "_view_count": null,
            "_view_module": "@jupyter-widgets/controls",
            "_view_module_version": "1.5.0",
            "_view_name": "ProgressView",
            "bar_style": "success",
            "description": "",
            "description_tooltip": null,
            "layout": "IPY_MODEL_77137ba839b64225b6075f73844a48f8",
            "max": 19994,
            "min": 0,
            "orientation": "horizontal",
            "style": "IPY_MODEL_6be7fb30996542c8b756a812e35f9048",
            "value": 19994
          }
        },
        "755286b50e3b4a6d9ac6d66014d96f5c": {
          "model_module": "@jupyter-widgets/controls",
          "model_name": "HTMLModel",
          "model_module_version": "1.5.0",
          "state": {
            "_dom_classes": [],
            "_model_module": "@jupyter-widgets/controls",
            "_model_module_version": "1.5.0",
            "_model_name": "HTMLModel",
            "_view_count": null,
            "_view_module": "@jupyter-widgets/controls",
            "_view_module_version": "1.5.0",
            "_view_name": "HTMLView",
            "description": "",
            "description_tooltip": null,
            "layout": "IPY_MODEL_9bf5661afd6144fdbdf5547a842b064f",
            "placeholder": "​",
            "style": "IPY_MODEL_3cdee7be5a7f404aa9e6dffd9a742a4e",
            "value": " 19994/19994 [00:00&lt;00:00, 51057.14it/s]"
          }
        },
        "5777c80e34b94ee68ce4d12a7f8d24a6": {
          "model_module": "@jupyter-widgets/base",
          "model_name": "LayoutModel",
          "model_module_version": "1.2.0",
          "state": {
            "_model_module": "@jupyter-widgets/base",
            "_model_module_version": "1.2.0",
            "_model_name": "LayoutModel",
            "_view_count": null,
            "_view_module": "@jupyter-widgets/base",
            "_view_module_version": "1.2.0",
            "_view_name": "LayoutView",
            "align_content": null,
            "align_items": null,
            "align_self": null,
            "border": null,
            "bottom": null,
            "display": null,
            "flex": null,
            "flex_flow": null,
            "grid_area": null,
            "grid_auto_columns": null,
            "grid_auto_flow": null,
            "grid_auto_rows": null,
            "grid_column": null,
            "grid_gap": null,
            "grid_row": null,
            "grid_template_areas": null,
            "grid_template_columns": null,
            "grid_template_rows": null,
            "height": null,
            "justify_content": null,
            "justify_items": null,
            "left": null,
            "margin": null,
            "max_height": null,
            "max_width": null,
            "min_height": null,
            "min_width": null,
            "object_fit": null,
            "object_position": null,
            "order": null,
            "overflow": null,
            "overflow_x": null,
            "overflow_y": null,
            "padding": null,
            "right": null,
            "top": null,
            "visibility": null,
            "width": null
          }
        },
        "fc97662c31f94ed8b590485f7868ecce": {
          "model_module": "@jupyter-widgets/base",
          "model_name": "LayoutModel",
          "model_module_version": "1.2.0",
          "state": {
            "_model_module": "@jupyter-widgets/base",
            "_model_module_version": "1.2.0",
            "_model_name": "LayoutModel",
            "_view_count": null,
            "_view_module": "@jupyter-widgets/base",
            "_view_module_version": "1.2.0",
            "_view_name": "LayoutView",
            "align_content": null,
            "align_items": null,
            "align_self": null,
            "border": null,
            "bottom": null,
            "display": null,
            "flex": null,
            "flex_flow": null,
            "grid_area": null,
            "grid_auto_columns": null,
            "grid_auto_flow": null,
            "grid_auto_rows": null,
            "grid_column": null,
            "grid_gap": null,
            "grid_row": null,
            "grid_template_areas": null,
            "grid_template_columns": null,
            "grid_template_rows": null,
            "height": null,
            "justify_content": null,
            "justify_items": null,
            "left": null,
            "margin": null,
            "max_height": null,
            "max_width": null,
            "min_height": null,
            "min_width": null,
            "object_fit": null,
            "object_position": null,
            "order": null,
            "overflow": null,
            "overflow_x": null,
            "overflow_y": null,
            "padding": null,
            "right": null,
            "top": null,
            "visibility": null,
            "width": null
          }
        },
        "9429130684ed4a709099bcd991936669": {
          "model_module": "@jupyter-widgets/controls",
          "model_name": "DescriptionStyleModel",
          "model_module_version": "1.5.0",
          "state": {
            "_model_module": "@jupyter-widgets/controls",
            "_model_module_version": "1.5.0",
            "_model_name": "DescriptionStyleModel",
            "_view_count": null,
            "_view_module": "@jupyter-widgets/base",
            "_view_module_version": "1.2.0",
            "_view_name": "StyleView",
            "description_width": ""
          }
        },
        "77137ba839b64225b6075f73844a48f8": {
          "model_module": "@jupyter-widgets/base",
          "model_name": "LayoutModel",
          "model_module_version": "1.2.0",
          "state": {
            "_model_module": "@jupyter-widgets/base",
            "_model_module_version": "1.2.0",
            "_model_name": "LayoutModel",
            "_view_count": null,
            "_view_module": "@jupyter-widgets/base",
            "_view_module_version": "1.2.0",
            "_view_name": "LayoutView",
            "align_content": null,
            "align_items": null,
            "align_self": null,
            "border": null,
            "bottom": null,
            "display": null,
            "flex": null,
            "flex_flow": null,
            "grid_area": null,
            "grid_auto_columns": null,
            "grid_auto_flow": null,
            "grid_auto_rows": null,
            "grid_column": null,
            "grid_gap": null,
            "grid_row": null,
            "grid_template_areas": null,
            "grid_template_columns": null,
            "grid_template_rows": null,
            "height": null,
            "justify_content": null,
            "justify_items": null,
            "left": null,
            "margin": null,
            "max_height": null,
            "max_width": null,
            "min_height": null,
            "min_width": null,
            "object_fit": null,
            "object_position": null,
            "order": null,
            "overflow": null,
            "overflow_x": null,
            "overflow_y": null,
            "padding": null,
            "right": null,
            "top": null,
            "visibility": null,
            "width": null
          }
        },
        "6be7fb30996542c8b756a812e35f9048": {
          "model_module": "@jupyter-widgets/controls",
          "model_name": "ProgressStyleModel",
          "model_module_version": "1.5.0",
          "state": {
            "_model_module": "@jupyter-widgets/controls",
            "_model_module_version": "1.5.0",
            "_model_name": "ProgressStyleModel",
            "_view_count": null,
            "_view_module": "@jupyter-widgets/base",
            "_view_module_version": "1.2.0",
            "_view_name": "StyleView",
            "bar_color": null,
            "description_width": ""
          }
        },
        "9bf5661afd6144fdbdf5547a842b064f": {
          "model_module": "@jupyter-widgets/base",
          "model_name": "LayoutModel",
          "model_module_version": "1.2.0",
          "state": {
            "_model_module": "@jupyter-widgets/base",
            "_model_module_version": "1.2.0",
            "_model_name": "LayoutModel",
            "_view_count": null,
            "_view_module": "@jupyter-widgets/base",
            "_view_module_version": "1.2.0",
            "_view_name": "LayoutView",
            "align_content": null,
            "align_items": null,
            "align_self": null,
            "border": null,
            "bottom": null,
            "display": null,
            "flex": null,
            "flex_flow": null,
            "grid_area": null,
            "grid_auto_columns": null,
            "grid_auto_flow": null,
            "grid_auto_rows": null,
            "grid_column": null,
            "grid_gap": null,
            "grid_row": null,
            "grid_template_areas": null,
            "grid_template_columns": null,
            "grid_template_rows": null,
            "height": null,
            "justify_content": null,
            "justify_items": null,
            "left": null,
            "margin": null,
            "max_height": null,
            "max_width": null,
            "min_height": null,
            "min_width": null,
            "object_fit": null,
            "object_position": null,
            "order": null,
            "overflow": null,
            "overflow_x": null,
            "overflow_y": null,
            "padding": null,
            "right": null,
            "top": null,
            "visibility": null,
            "width": null
          }
        },
        "3cdee7be5a7f404aa9e6dffd9a742a4e": {
          "model_module": "@jupyter-widgets/controls",
          "model_name": "DescriptionStyleModel",
          "model_module_version": "1.5.0",
          "state": {
            "_model_module": "@jupyter-widgets/controls",
            "_model_module_version": "1.5.0",
            "_model_name": "DescriptionStyleModel",
            "_view_count": null,
            "_view_module": "@jupyter-widgets/base",
            "_view_module_version": "1.2.0",
            "_view_name": "StyleView",
            "description_width": ""
          }
        }
      }
    }
  },
  "nbformat": 4,
  "nbformat_minor": 0
}